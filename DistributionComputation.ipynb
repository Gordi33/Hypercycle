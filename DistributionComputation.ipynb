{
 "cells": [
  {
   "cell_type": "markdown",
   "metadata": {},
   "source": [
    "# Distribution computation in C# accessed via REST-API for multiple events having multiple weighted outcomes\n",
    "\n",
    "Computing the distribution allows to model **game design' specific payout-profiles**.\n",
    "A general formula allows to determine the exact distribution on equally-distributed outcomes. A cycle-evaluation further allows to consider weighted-outcomes. With the help of the exact distribution and assuming a-priori-probabilities the RTP can be controlled exactly. Furthermore, modifying the outcome-probabilities resp. weights allows to fine-tune the RTP and additionally, tune the [**game behaviour**](https://nbviewer.jupyter.org/github/Gordi33/The-Laws-of-the-Game/blob/master/PlayersSurvivalWhenThrowingDices.ipynb). If the probabilities resp. weights fluctuate while keeping the payout-profile constant, then the RTP increases with the volatility of the weights. This is an important insight, if probabilities are only approximations resp. **implied probabilities** and not a-priori-probabilities, then the risk of having a higher RTP increases.\n",
    " \n",
    " - Part 3: Deriving a general formula for a fixed number of equally-distributed outcomes for each event. Creating a game specific payout for events having equally-distributed outcomes based on the distribution.\n",
    " - Part 4: Cycle evaluation for a fixed number of events with weighted-outcomes in **C# accessed via REST-API**. Creating a game specific payout for events having weighted outcomes based on the distribution. Here,\n",
    " - Part5: RTP' impact of the different scenarios for increased volatility on the weights."
   ]
  },
  {
   "cell_type": "markdown",
   "metadata": {},
   "source": [
    "# Imports"
   ]
  },
  {
   "cell_type": "code",
   "execution_count": 78,
   "metadata": {},
   "outputs": [],
   "source": [
    "import sys\n",
    "sys.path.insert(0, 'lib\\\\')\n",
    "import pandas as pd \n",
    "import numpy as np\n",
    "from matplotlib import pyplot as plt\n",
    "import scipy.special\n",
    "import requests\n",
    "from timeit import default_timer as timer\n",
    "import urllib3\n",
    "urllib3.disable_warnings()\n",
    "import json\n",
    "import random"
   ]
  },
  {
   "cell_type": "markdown",
   "metadata": {},
   "source": [
    "# Deriving a general formula for a fixed number of events with equally-distributed outcomes\n",
    "Part 3: Deriving a formula for computing the hits and the probabilities for a fixed number of dices, having a fixed number of equally-distributed outcomes."
   ]
  },
  {
   "cell_type": "markdown",
   "metadata": {},
   "source": [
    "For getting a better modelling understanding it is recommended to read [**CombinatorialThinking**](https://nbviewer.jupyter.org/github/Gordi33/Mathematical-Problems/blob/master/CombinatorialThinking%20.ipynb).\n",
    "\n",
    "Let numOutcomes be the number of outcomes for each event and let numEvent be the number of events resp. dices.\n",
    "\n",
    " - The total cycle represents all combinations and can be evaluated by:\n",
    "\n",
    "$$ totalCycle = {numOutcomes}^{numEvents}$$\n",
    "\n",
    "For example, having 9 dices and each dice has 10 different outcomes leads to a total cycle of:"
   ]
  },
  {
   "cell_type": "code",
   "execution_count": 2,
   "metadata": {},
   "outputs": [
    {
     "name": "stdout",
     "output_type": "stream",
     "text": [
      "1,000,000,000\n"
     ]
    }
   ],
   "source": [
    "numEvents = 9\n",
    "numOutcomes = 10\n",
    "totalCycle = numOutcomes**numEvents\n",
    "print(f\"{totalCycle:,}\")"
   ]
  },
  {
   "cell_type": "markdown",
   "metadata": {},
   "source": [
    "The number of hits, denoted by k, can be evaluated by:\n",
    " \n",
    "$$hits(k) = \\binom{numEvents}{k} * {(numOutcomes-1)}^{(numEvents - k)}$$\n",
    "\n",
    "--- \n",
    "This fact derives out of the following:\n",
    "- Firstly, the number of hits resp. correct scores out of a given number of events is determined by the binomial coefficient. For example, having 2 hits on 9 dices with 10 outcomes leads to 36 different hit-combinations:\n",
    "\n",
    "$$\\binom{9}{2} = 36$$\n",
    "\n",
    "- Secondly, for each hit-combination, the other dices need to cycle through all no-hit-combinations i.e., which do not lead to another hit. The number of no-hits on a dice is simply (numOutcomes - 1) and the number of dices, which show no-hit is (numEvent - k). Continuing with the example determines 7 no-hits dices and, on each 9 outcomes with no-hit:\n",
    "\n",
    "$${(10-1)}^{(9 - 2)} = {(9)}^{(7)} = 4,782,969 $$\n",
    "\n",
    "- Thirdly, the product determines the total success-hits within the cycle. For 2 hits with 9 dices having 10 outcomes:\n",
    "   \n",
    "$$\\binom{9}{2} * {(10-1)}^{(9 - 2)} = 36 * 4,782,969 = 172,186,884 $$\n",
    "\n",
    "---\n",
    "\n",
    "Summing up all hits, for k = 0,...,numEvents; leads to\n",
    "\n",
    "$$ totalCycle = {numOutcomes}^{numEvents} = \\sum_{k=0}^{numEvents} \\binom{numEvents}{k} * {(numOutcomes-1)}^{(numEvents - k)}$$ \n",
    "\n",
    "\n",
    "The probability of having k hits is then simply the ratio:\n",
    "\n",
    "$$P(X=k) = \\frac{hits(k)}{totalCycle} = \\frac{\\binom{numEvents}{k} * {(numOutcomes-1)}^{(numEvents - k)}}{{numOutcomes}^{numEvents}}$$\n",
    "  \n",
    "\n",
    "Continuing with the example, the probability of having 2 hits on 9 dices with 10 outcomes:\n",
    "  \n",
    "$$P(X=2) = \\frac{\\binom{9}{2} * {(10-1)}^{(9 - 2)}}{{10}^{9}} = 0.172186884 $$"
   ]
  },
  {
   "cell_type": "code",
   "execution_count": 3,
   "metadata": {},
   "outputs": [
    {
     "data": {
      "text/html": [
       "<div>\n",
       "<style scoped>\n",
       "    .dataframe tbody tr th:only-of-type {\n",
       "        vertical-align: middle;\n",
       "    }\n",
       "\n",
       "    .dataframe tbody tr th {\n",
       "        vertical-align: top;\n",
       "    }\n",
       "\n",
       "    .dataframe thead th {\n",
       "        text-align: right;\n",
       "    }\n",
       "</style>\n",
       "<table border=\"1\" class=\"dataframe\">\n",
       "  <thead>\n",
       "    <tr style=\"text-align: right;\">\n",
       "      <th></th>\n",
       "      <th>Number of different combinations of hits, which lead to k hits</th>\n",
       "      <th>Number of different combinations of no-hits</th>\n",
       "      <th>Total hits for k</th>\n",
       "      <th>Accumulated hits</th>\n",
       "      <th>P(X)</th>\n",
       "    </tr>\n",
       "  </thead>\n",
       "  <tbody>\n",
       "    <tr>\n",
       "      <th>0</th>\n",
       "      <td>1</td>\n",
       "      <td>387,420,489</td>\n",
       "      <td>387,420,489</td>\n",
       "      <td>387,420,489</td>\n",
       "      <td>0.387420489</td>\n",
       "    </tr>\n",
       "    <tr>\n",
       "      <th>1</th>\n",
       "      <td>9</td>\n",
       "      <td>43,046,721</td>\n",
       "      <td>387,420,489</td>\n",
       "      <td>774,840,978</td>\n",
       "      <td>0.387420489</td>\n",
       "    </tr>\n",
       "    <tr>\n",
       "      <th>2</th>\n",
       "      <td>36</td>\n",
       "      <td>4,782,969</td>\n",
       "      <td>172,186,884</td>\n",
       "      <td>947,027,862</td>\n",
       "      <td>0.172186884</td>\n",
       "    </tr>\n",
       "    <tr>\n",
       "      <th>3</th>\n",
       "      <td>84</td>\n",
       "      <td>531,441</td>\n",
       "      <td>44,641,044</td>\n",
       "      <td>991,668,906</td>\n",
       "      <td>0.044641044</td>\n",
       "    </tr>\n",
       "    <tr>\n",
       "      <th>4</th>\n",
       "      <td>126</td>\n",
       "      <td>59,049</td>\n",
       "      <td>7,440,174</td>\n",
       "      <td>999,109,080</td>\n",
       "      <td>0.007440174</td>\n",
       "    </tr>\n",
       "    <tr>\n",
       "      <th>5</th>\n",
       "      <td>126</td>\n",
       "      <td>6,561</td>\n",
       "      <td>826,686</td>\n",
       "      <td>999,935,766</td>\n",
       "      <td>0.000826686</td>\n",
       "    </tr>\n",
       "    <tr>\n",
       "      <th>6</th>\n",
       "      <td>84</td>\n",
       "      <td>729</td>\n",
       "      <td>61,236</td>\n",
       "      <td>999,997,002</td>\n",
       "      <td>0.000061236</td>\n",
       "    </tr>\n",
       "    <tr>\n",
       "      <th>7</th>\n",
       "      <td>36</td>\n",
       "      <td>81</td>\n",
       "      <td>2,916</td>\n",
       "      <td>999,999,918</td>\n",
       "      <td>0.000002916</td>\n",
       "    </tr>\n",
       "    <tr>\n",
       "      <th>8</th>\n",
       "      <td>9</td>\n",
       "      <td>9</td>\n",
       "      <td>81</td>\n",
       "      <td>999,999,999</td>\n",
       "      <td>0.000000081</td>\n",
       "    </tr>\n",
       "    <tr>\n",
       "      <th>9</th>\n",
       "      <td>1</td>\n",
       "      <td>1</td>\n",
       "      <td>1</td>\n",
       "      <td>1,000,000,000</td>\n",
       "      <td>0.000000001</td>\n",
       "    </tr>\n",
       "  </tbody>\n",
       "</table>\n",
       "</div>"
      ],
      "text/plain": [
       "   Number of different combinations of hits, which lead to k hits  \\\n",
       "0                                                  1                \n",
       "1                                                  9                \n",
       "2                                                 36                \n",
       "3                                                 84                \n",
       "4                                                126                \n",
       "5                                                126                \n",
       "6                                                 84                \n",
       "7                                                 36                \n",
       "8                                                  9                \n",
       "9                                                  1                \n",
       "\n",
       "   Number of different combinations of no-hits  Total hits for k  \\\n",
       "0                                  387,420,489       387,420,489   \n",
       "1                                   43,046,721       387,420,489   \n",
       "2                                    4,782,969       172,186,884   \n",
       "3                                      531,441        44,641,044   \n",
       "4                                       59,049         7,440,174   \n",
       "5                                        6,561           826,686   \n",
       "6                                          729            61,236   \n",
       "7                                           81             2,916   \n",
       "8                                            9                81   \n",
       "9                                            1                 1   \n",
       "\n",
       "   Accumulated hits         P(X)  \n",
       "0       387,420,489  0.387420489  \n",
       "1       774,840,978  0.387420489  \n",
       "2       947,027,862  0.172186884  \n",
       "3       991,668,906  0.044641044  \n",
       "4       999,109,080  0.007440174  \n",
       "5       999,935,766  0.000826686  \n",
       "6       999,997,002  0.000061236  \n",
       "7       999,999,918  0.000002916  \n",
       "8       999,999,999  0.000000081  \n",
       "9     1,000,000,000  0.000000001  "
      ]
     },
     "execution_count": 3,
     "metadata": {},
     "output_type": "execute_result"
    }
   ],
   "source": [
    "temp = [[0 for x in range(numEvents+1)] for y in range(5)]\n",
    "acc_hits = 0\n",
    "\n",
    "for i in range(numEvents+1):\n",
    "    temp[0][i] = scipy.special.binom(numEvents, i)\n",
    "    temp[1][i] = (numOutcomes-1)**(numEvents - i)\n",
    "    temp[2][i] = temp[0][i] * temp[1][i]\n",
    "    acc_hits = acc_hits + temp[2][i] \n",
    "    temp[3][i] = acc_hits\n",
    "    temp[4][i] = temp[2][i] *1.0 / totalCycle * 1.0\n",
    "\n",
    "pd.options.display.float_format = '{:,.0f}'.format  \n",
    "df = pd.DataFrame(temp).transpose().rename(columns={0: \"Number of different combinations of hits, which lead to k hits\", \n",
    "                                               1: \"Number of different combinations of no-hits\",\n",
    "                                               2: \"Total hits for k\",\n",
    "                                               3: \"Accumulated hits\", \n",
    "                                               4: \"P(X)\"})\n",
    "df['P(X)'] = df['P(X)'].map('{:,.9f}'.format)\n",
    "df"
   ]
  },
  {
   "cell_type": "markdown",
   "metadata": {},
   "source": [
    "## Creating a game specific payout for events having equally-distributed outcomes based on the distribution"
   ]
  },
  {
   "cell_type": "markdown",
   "metadata": {},
   "source": [
    "Part 3.1.: Creating a game based on the distribution allows to award a specific win to each category. Each category has its probability density due to the previous computation. With a given win and a given probability the category's **return-to-player** can be computed. The game's stake is 1 and game's **return-to-player** should be <100%."
   ]
  },
  {
   "cell_type": "code",
   "execution_count": 4,
   "metadata": {
    "scrolled": false
   },
   "outputs": [
    {
     "data": {
      "text/html": [
       "<div>\n",
       "<style scoped>\n",
       "    .dataframe tbody tr th:only-of-type {\n",
       "        vertical-align: middle;\n",
       "    }\n",
       "\n",
       "    .dataframe tbody tr th {\n",
       "        vertical-align: top;\n",
       "    }\n",
       "\n",
       "    .dataframe thead th {\n",
       "        text-align: right;\n",
       "    }\n",
       "</style>\n",
       "<table border=\"1\" class=\"dataframe\">\n",
       "  <thead>\n",
       "    <tr style=\"text-align: right;\">\n",
       "      <th></th>\n",
       "      <th>Number of different combinations of hits, which lead to k hits</th>\n",
       "      <th>Number of different combinations of no-hits</th>\n",
       "      <th>Total hits for k</th>\n",
       "      <th>Accumulated hits</th>\n",
       "      <th>P(X)</th>\n",
       "      <th>Payouts</th>\n",
       "    </tr>\n",
       "  </thead>\n",
       "  <tbody>\n",
       "    <tr>\n",
       "      <th>0</th>\n",
       "      <td>1</td>\n",
       "      <td>387,420,489</td>\n",
       "      <td>387,420,489</td>\n",
       "      <td>387,420,489</td>\n",
       "      <td>0.387420489</td>\n",
       "      <td>0</td>\n",
       "    </tr>\n",
       "    <tr>\n",
       "      <th>1</th>\n",
       "      <td>9</td>\n",
       "      <td>43,046,721</td>\n",
       "      <td>387,420,489</td>\n",
       "      <td>774,840,978</td>\n",
       "      <td>0.387420489</td>\n",
       "      <td>0</td>\n",
       "    </tr>\n",
       "    <tr>\n",
       "      <th>2</th>\n",
       "      <td>36</td>\n",
       "      <td>4,782,969</td>\n",
       "      <td>172,186,884</td>\n",
       "      <td>947,027,862</td>\n",
       "      <td>0.172186884</td>\n",
       "      <td>1</td>\n",
       "    </tr>\n",
       "    <tr>\n",
       "      <th>3</th>\n",
       "      <td>84</td>\n",
       "      <td>531,441</td>\n",
       "      <td>44,641,044</td>\n",
       "      <td>991,668,906</td>\n",
       "      <td>0.044641044</td>\n",
       "      <td>5</td>\n",
       "    </tr>\n",
       "    <tr>\n",
       "      <th>4</th>\n",
       "      <td>126</td>\n",
       "      <td>59,049</td>\n",
       "      <td>7,440,174</td>\n",
       "      <td>999,109,080</td>\n",
       "      <td>0.007440174</td>\n",
       "      <td>50</td>\n",
       "    </tr>\n",
       "    <tr>\n",
       "      <th>5</th>\n",
       "      <td>126</td>\n",
       "      <td>6,561</td>\n",
       "      <td>826,686</td>\n",
       "      <td>999,935,766</td>\n",
       "      <td>0.000826686</td>\n",
       "      <td>100</td>\n",
       "    </tr>\n",
       "    <tr>\n",
       "      <th>6</th>\n",
       "      <td>84</td>\n",
       "      <td>729</td>\n",
       "      <td>61,236</td>\n",
       "      <td>999,997,002</td>\n",
       "      <td>0.000061236</td>\n",
       "      <td>1,000</td>\n",
       "    </tr>\n",
       "    <tr>\n",
       "      <th>7</th>\n",
       "      <td>36</td>\n",
       "      <td>81</td>\n",
       "      <td>2,916</td>\n",
       "      <td>999,999,918</td>\n",
       "      <td>0.000002916</td>\n",
       "      <td>10,000</td>\n",
       "    </tr>\n",
       "    <tr>\n",
       "      <th>8</th>\n",
       "      <td>9</td>\n",
       "      <td>9</td>\n",
       "      <td>81</td>\n",
       "      <td>999,999,999</td>\n",
       "      <td>0.000000081</td>\n",
       "      <td>100,000</td>\n",
       "    </tr>\n",
       "    <tr>\n",
       "      <th>9</th>\n",
       "      <td>1</td>\n",
       "      <td>1</td>\n",
       "      <td>1</td>\n",
       "      <td>1,000,000,000</td>\n",
       "      <td>0.000000001</td>\n",
       "      <td>1,000,000</td>\n",
       "    </tr>\n",
       "  </tbody>\n",
       "</table>\n",
       "</div>"
      ],
      "text/plain": [
       "   Number of different combinations of hits, which lead to k hits  \\\n",
       "0                                                  1                \n",
       "1                                                  9                \n",
       "2                                                 36                \n",
       "3                                                 84                \n",
       "4                                                126                \n",
       "5                                                126                \n",
       "6                                                 84                \n",
       "7                                                 36                \n",
       "8                                                  9                \n",
       "9                                                  1                \n",
       "\n",
       "   Number of different combinations of no-hits  Total hits for k  \\\n",
       "0                                  387,420,489       387,420,489   \n",
       "1                                   43,046,721       387,420,489   \n",
       "2                                    4,782,969       172,186,884   \n",
       "3                                      531,441        44,641,044   \n",
       "4                                       59,049         7,440,174   \n",
       "5                                        6,561           826,686   \n",
       "6                                          729            61,236   \n",
       "7                                           81             2,916   \n",
       "8                                            9                81   \n",
       "9                                            1                 1   \n",
       "\n",
       "   Accumulated hits         P(X)   Payouts  \n",
       "0       387,420,489  0.387420489         0  \n",
       "1       774,840,978  0.387420489         0  \n",
       "2       947,027,862  0.172186884         1  \n",
       "3       991,668,906  0.044641044         5  \n",
       "4       999,109,080  0.007440174        50  \n",
       "5       999,935,766  0.000826686       100  \n",
       "6       999,997,002  0.000061236     1,000  \n",
       "7       999,999,918  0.000002916    10,000  \n",
       "8       999,999,999  0.000000081   100,000  \n",
       "9     1,000,000,000  0.000000001 1,000,000  "
      ]
     },
     "execution_count": 4,
     "metadata": {},
     "output_type": "execute_result"
    }
   ],
   "source": [
    "payouts = [0.0,0.0,1.0,5.0,50.0,100.0,1000.0,10000.0,100000.0,1000000.0]\n",
    "df['Payouts'] = payouts\n",
    "df"
   ]
  },
  {
   "cell_type": "markdown",
   "metadata": {},
   "source": [
    "For each hit-category a fictious payout based on the game's distribution is defined. The **hold** resp. margin, which is defined by 1-RTP is achieved by downgrading each hit-category further. \n",
    "\n",
    "The RTP is then simply defined by:\n",
    "\n",
    "\n",
    "$$ RTP = \\sum_{k=0}^{numEvents} Payouts(k) * P(X=k)$$   "
   ]
  },
  {
   "cell_type": "code",
   "execution_count": 5,
   "metadata": {},
   "outputs": [
    {
     "name": "stdout",
     "output_type": "stream",
     "text": [
      "RTP = 0.949565404\n"
     ]
    }
   ],
   "source": [
    "df['RTP of k hits'] = df['Payouts'].astype(float) * df['P(X)'].astype(float)\n",
    "df['RTP of k hits'] = df['RTP of k hits'].map('{:,.9f}'.format)\n",
    "df\n",
    "print('RTP =', df['RTP of k hits'].astype(float).sum())"
   ]
  },
  {
   "cell_type": "markdown",
   "metadata": {},
   "source": [
    "The next chapter shows a solution considering weighted outcomes. Weighted outcomes allow to consider events with different outcome-probabilities, which is a more flexible and realistic approach.\n",
    "Additionally, the RTP and the [**game behaviour**](https://nbviewer.jupyter.org/github/Gordi33/The-Laws-of-the-Game/blob/master/PlayersSurvivalWhenThrowingDices.ipynb) can be modified via this.\n",
    "\n",
    " - Increasing the RTP can be achieved via increasing the probabilities of the categories which have a return."
   ]
  },
  {
   "cell_type": "markdown",
   "metadata": {},
   "source": [
    "# Cycle evaluation for a fixed number of events with weighted-outcomes in C# accessed via REST-API\n",
    "Part 4: Applying the cycle-evaluation in **C# accessed via REST-API** with szenario analysis for the weights. \n",
    "What happens with the RTP, if the events aren't equally-distributed ?\n",
    "\n",
    "How does the algorithm in C# work ?\n",
    "The algorithm expects for each event an array with equal length for all events.\n",
    "\n",
    "Let the events be defined by *j*=1,...,*numEvents* and \n",
    "the event' outcomes by *i*=1,...,*numOutcomes*. \n",
    "\n",
    "This array represents the event' weights and the array' index is the according outcome. The weights need to be positive integer values. The events and their weights are set up as an array of Json-objects (expected input). \n",
    "\n",
    "Algorithm:\n",
    "\n",
    "- Firstly, weights for each event are normalised. For each event the normalisation is applied via\n",
    "\n",
    "$$ P(i^{th} \\hspace{2mm}  outcome \\hspace{2mm} of \\hspace{2mm} j^{th} \\hspace{2mm} event) =  \\frac{Weight(i,j)}{\\sum_{i=1}^{numOutcomes}Weight(i,j)}$$   \n",
    "\n",
    "- Secondly, for each event the outcome with the maximum outcome' probability is chosen. If there is more than one maximum then the one with the lowest index is chosen. This combination of maximum outcome'probability represents the comabination, which is considered as the correct one. Let this combination be maximum likelihood estimation' combination denoted with MLE-combination.\n",
    " \n",
    "- Thirdly, the total-cycle is evaluated.\n",
    "\n",
    "$$ totalCycle = {numOutcomes}^{numEvents}$$\n",
    "\n",
    "Note that the time complexity is O(numOutcomes^numEvents). Each combinations' probability is added to the category of correct hits according the MLE-combination as well as the correct hits.\n",
    "    \n",
    "Pseudo code\n",
    " \n",
    "    do \n",
    "    {\n",
    "          computeCombinationProbability()\n",
    "          computeCombinationHits()\n",
    "          addProbabilityToTheCorrectNumberOfHitsCategory()\n",
    "          incrementHitsCategoryForTheCorrectNumberOfHitsByOne()\n",
    "          getNextCombinationInCycle()    \n",
    "    } while (totalCycleIsNotCompletedYet)"
   ]
  },
  {
   "cell_type": "markdown",
   "metadata": {},
   "source": [
    "## Cycle evaluation for equally-distributed weights\n",
    "Part 4.1: Creating a JSON-object with the weights, defining the post-request and converting the output to a dataframe."
   ]
  },
  {
   "cell_type": "code",
   "execution_count": 81,
   "metadata": {},
   "outputs": [
    {
     "data": {
      "text/plain": [
       "[{'weights': [1000, 1000, 1000, 1000, 1000, 1000, 1000, 1000, 1000, 1000]},\n",
       " {'weights': [1000, 1000, 1000, 1000, 1000, 1000, 1000, 1000, 1000, 1000]},\n",
       " {'weights': [1000, 1000, 1000, 1000, 1000, 1000, 1000, 1000, 1000, 1000]},\n",
       " {'weights': [1000, 1000, 1000, 1000, 1000, 1000, 1000, 1000, 1000, 1000]},\n",
       " {'weights': [1000, 1000, 1000, 1000, 1000, 1000, 1000, 1000, 1000, 1000]},\n",
       " {'weights': [1000, 1000, 1000, 1000, 1000, 1000, 1000, 1000, 1000, 1000]},\n",
       " {'weights': [1000, 1000, 1000, 1000, 1000, 1000, 1000, 1000, 1000, 1000]},\n",
       " {'weights': [1000, 1000, 1000, 1000, 1000, 1000, 1000, 1000, 1000, 1000]},\n",
       " {'weights': [1000, 1000, 1000, 1000, 1000, 1000, 1000, 1000, 1000, 1000]}]"
      ]
     },
     "execution_count": 81,
     "metadata": {},
     "output_type": "execute_result"
    }
   ],
   "source": [
    "def getJsonEvents(delta): \n",
    "    events  = []\n",
    "    for event in range(0,9):\n",
    "        events.append({ \"weights\": [random.randint(1000-delta,1000+delta) for i in range(0,10)]})\n",
    "    return events\n",
    "\n",
    "events = getJsonEvents(0)\n",
    "events"
   ]
  },
  {
   "cell_type": "code",
   "execution_count": 8,
   "metadata": {},
   "outputs": [],
   "source": [
    "def postRequestsObject(url, events):\n",
    "    start = timer()\n",
    "    response = requests.post(url, json = events, verify=False)\n",
    "    end = timer()\n",
    "    print('Time in seconds: ', end - start)\n",
    "    return json.loads(response.text)"
   ]
  },
  {
   "cell_type": "code",
   "execution_count": 9,
   "metadata": {},
   "outputs": [
    {
     "name": "stdout",
     "output_type": "stream",
     "text": [
      "Time in seconds:  20.043250599999737\n"
     ]
    }
   ],
   "source": [
    "postRequestsObjectEqDist = postRequestsObject('https://localhost:44339/api/Distribution', events)"
   ]
  },
  {
   "cell_type": "code",
   "execution_count": 45,
   "metadata": {},
   "outputs": [],
   "source": [
    "def convertJsonIntoDataFrame(responseJson, numberOfEvents, payouts):\n",
    "    df_weighted = pd.DataFrame([responseJson[i]['correctEventsCategory'] for i in range(0,numberOfEvents)]).rename(columns={0: \"CorrectEventsCategory\"})\n",
    "    df_weighted['Probability'] = [responseJson[i]['probability'] for i in range(0,numberOfEvents)]\n",
    "    df_weighted['Hits'] = [responseJson[i]['hits'] for i in range(0,numberOfEvents)]\n",
    "    df_weighted['Probability'] = df_weighted['Probability'].astype(float).map('{:,.15f}'.format)\n",
    "    df_weighted['Payouts'] = payouts\n",
    "    df_weighted['RTP_of_k_hits'] = df_weighted['Payouts'].astype(float) * df_weighted['Probability'].astype(float)\n",
    "    df_weighted['RTP_of_k_hits'] = df_weighted['RTP_of_k_hits'].map('{:.15f}'.format)\n",
    "    return df_weighted"
   ]
  },
  {
   "cell_type": "code",
   "execution_count": 11,
   "metadata": {
    "scrolled": true
   },
   "outputs": [
    {
     "data": {
      "text/html": [
       "<div>\n",
       "<style scoped>\n",
       "    .dataframe tbody tr th:only-of-type {\n",
       "        vertical-align: middle;\n",
       "    }\n",
       "\n",
       "    .dataframe tbody tr th {\n",
       "        vertical-align: top;\n",
       "    }\n",
       "\n",
       "    .dataframe thead th {\n",
       "        text-align: right;\n",
       "    }\n",
       "</style>\n",
       "<table border=\"1\" class=\"dataframe\">\n",
       "  <thead>\n",
       "    <tr style=\"text-align: right;\">\n",
       "      <th></th>\n",
       "      <th>CorrectEventsCategory</th>\n",
       "      <th>Probability</th>\n",
       "      <th>Hits</th>\n",
       "      <th>Payouts</th>\n",
       "      <th>RTP_of_k_hits</th>\n",
       "    </tr>\n",
       "  </thead>\n",
       "  <tbody>\n",
       "    <tr>\n",
       "      <th>0</th>\n",
       "      <td>0</td>\n",
       "      <td>0.387420492615447</td>\n",
       "      <td>387420489</td>\n",
       "      <td>0</td>\n",
       "      <td>0.000000000000000</td>\n",
       "    </tr>\n",
       "    <tr>\n",
       "      <th>1</th>\n",
       "      <td>1</td>\n",
       "      <td>0.387420492615447</td>\n",
       "      <td>387420489</td>\n",
       "      <td>0</td>\n",
       "      <td>0.000000000000000</td>\n",
       "    </tr>\n",
       "    <tr>\n",
       "      <th>2</th>\n",
       "      <td>2</td>\n",
       "      <td>0.172186883914551</td>\n",
       "      <td>172186884</td>\n",
       "      <td>1</td>\n",
       "      <td>0.172186883914551</td>\n",
       "    </tr>\n",
       "    <tr>\n",
       "      <th>3</th>\n",
       "      <td>3</td>\n",
       "      <td>0.044641043981686</td>\n",
       "      <td>44641044</td>\n",
       "      <td>5</td>\n",
       "      <td>0.223205219908430</td>\n",
       "    </tr>\n",
       "    <tr>\n",
       "      <th>4</th>\n",
       "      <td>4</td>\n",
       "      <td>0.007440174000944</td>\n",
       "      <td>7440174</td>\n",
       "      <td>50</td>\n",
       "      <td>0.372008700047200</td>\n",
       "    </tr>\n",
       "    <tr>\n",
       "      <th>5</th>\n",
       "      <td>5</td>\n",
       "      <td>0.000826686000008</td>\n",
       "      <td>826686</td>\n",
       "      <td>100</td>\n",
       "      <td>0.082668600000800</td>\n",
       "    </tr>\n",
       "    <tr>\n",
       "      <th>6</th>\n",
       "      <td>6</td>\n",
       "      <td>0.000061236000000</td>\n",
       "      <td>61236</td>\n",
       "      <td>1,000</td>\n",
       "      <td>0.061236000000000</td>\n",
       "    </tr>\n",
       "    <tr>\n",
       "      <th>7</th>\n",
       "      <td>7</td>\n",
       "      <td>0.000002916000000</td>\n",
       "      <td>2916</td>\n",
       "      <td>10,000</td>\n",
       "      <td>0.029160000000000</td>\n",
       "    </tr>\n",
       "    <tr>\n",
       "      <th>8</th>\n",
       "      <td>8</td>\n",
       "      <td>0.000000081000000</td>\n",
       "      <td>81</td>\n",
       "      <td>100,000</td>\n",
       "      <td>0.008100000000000</td>\n",
       "    </tr>\n",
       "    <tr>\n",
       "      <th>9</th>\n",
       "      <td>9</td>\n",
       "      <td>0.000000001000000</td>\n",
       "      <td>1</td>\n",
       "      <td>1,000,000</td>\n",
       "      <td>0.001000000000000</td>\n",
       "    </tr>\n",
       "  </tbody>\n",
       "</table>\n",
       "</div>"
      ],
      "text/plain": [
       "   CorrectEventsCategory        Probability       Hits   Payouts  \\\n",
       "0                      0  0.387420492615447  387420489         0   \n",
       "1                      1  0.387420492615447  387420489         0   \n",
       "2                      2  0.172186883914551  172186884         1   \n",
       "3                      3  0.044641043981686   44641044         5   \n",
       "4                      4  0.007440174000944    7440174        50   \n",
       "5                      5  0.000826686000008     826686       100   \n",
       "6                      6  0.000061236000000      61236     1,000   \n",
       "7                      7  0.000002916000000       2916    10,000   \n",
       "8                      8  0.000000081000000         81   100,000   \n",
       "9                      9  0.000000001000000          1 1,000,000   \n",
       "\n",
       "       RTP_of_k_hits  \n",
       "0  0.000000000000000  \n",
       "1  0.000000000000000  \n",
       "2  0.172186883914551  \n",
       "3  0.223205219908430  \n",
       "4  0.372008700047200  \n",
       "5  0.082668600000800  \n",
       "6  0.061236000000000  \n",
       "7  0.029160000000000  \n",
       "8  0.008100000000000  \n",
       "9  0.001000000000000  "
      ]
     },
     "execution_count": 11,
     "metadata": {},
     "output_type": "execute_result"
    }
   ],
   "source": [
    "df_weighted_equally = convertJsonIntoDataFrame(postRequestsObjectEqDist, len(events)+1, payouts)\n",
    "df_weighted_equally"
   ]
  },
  {
   "cell_type": "markdown",
   "metadata": {},
   "source": [
    "Figures match the theoretical figures out of (3)."
   ]
  },
  {
   "cell_type": "code",
   "execution_count": 12,
   "metadata": {
    "scrolled": true
   },
   "outputs": [
    {
     "name": "stdout",
     "output_type": "stream",
     "text": [
      "Probability = 1.0\n",
      "Hits        = 1000000000.0\n",
      "RTP         = 0.949565403870981\n"
     ]
    }
   ],
   "source": [
    "print('Probability =', round(df_weighted_equally['Probability'].astype(float).sum(),4))\n",
    "print('Hits        =', round(df_weighted_equally['Hits'].astype(float).sum(),4))\n",
    "print('RTP         =', round(df_weighted_equally['RTP_of_k_hits'].astype(float).sum(),18))"
   ]
  },
  {
   "cell_type": "markdown",
   "metadata": {},
   "source": [
    "With equally-distributed weights for all outcomes the RTP is 94,96%."
   ]
  },
  {
   "cell_type": "markdown",
   "metadata": {},
   "source": [
    "## Cycle evaluation for modified weights - weights fluctuate by +/- 1.\n",
    "If the weights fluctuate by +/- 1. Having that super low fluctuation, what is the impact on the RTP ?"
   ]
  },
  {
   "cell_type": "code",
   "execution_count": 82,
   "metadata": {},
   "outputs": [
    {
     "data": {
      "text/plain": [
       "[{'weights': [999, 1001, 1000, 999, 999, 999, 1001, 999, 1000, 1001]},\n",
       " {'weights': [1001, 1000, 1001, 999, 1000, 1001, 999, 1001, 1001, 1000]},\n",
       " {'weights': [1000, 999, 1000, 1000, 1000, 1000, 1000, 1000, 1001, 1000]},\n",
       " {'weights': [1001, 1000, 999, 1000, 1001, 1001, 1000, 1000, 999, 1000]},\n",
       " {'weights': [999, 1000, 1001, 1000, 1000, 1001, 1001, 1001, 1001, 1001]},\n",
       " {'weights': [1001, 1001, 1001, 999, 1000, 1001, 999, 1001, 1001, 1000]},\n",
       " {'weights': [1001, 1000, 1000, 999, 1000, 999, 999, 999, 1000, 999]},\n",
       " {'weights': [1001, 999, 999, 1001, 999, 999, 1001, 999, 1000, 1000]},\n",
       " {'weights': [1000, 1000, 1001, 1000, 1000, 1001, 1000, 999, 1001, 999]}]"
      ]
     },
     "execution_count": 82,
     "metadata": {},
     "output_type": "execute_result"
    }
   ],
   "source": [
    "events = getJsonEvents(1)\n",
    "events"
   ]
  },
  {
   "cell_type": "code",
   "execution_count": 14,
   "metadata": {},
   "outputs": [
    {
     "name": "stdout",
     "output_type": "stream",
     "text": [
      "Time in seconds:  17.232177100000172\n"
     ]
    }
   ],
   "source": [
    "responseJsonSz1 = postRequestsObject('https://localhost:44339/api/Distribution', events)"
   ]
  },
  {
   "cell_type": "code",
   "execution_count": 15,
   "metadata": {},
   "outputs": [
    {
     "data": {
      "text/html": [
       "<div>\n",
       "<style scoped>\n",
       "    .dataframe tbody tr th:only-of-type {\n",
       "        vertical-align: middle;\n",
       "    }\n",
       "\n",
       "    .dataframe tbody tr th {\n",
       "        vertical-align: top;\n",
       "    }\n",
       "\n",
       "    .dataframe thead th {\n",
       "        text-align: right;\n",
       "    }\n",
       "</style>\n",
       "<table border=\"1\" class=\"dataframe\">\n",
       "  <thead>\n",
       "    <tr style=\"text-align: right;\">\n",
       "      <th></th>\n",
       "      <th>CorrectEventsCategory</th>\n",
       "      <th>Probability</th>\n",
       "      <th>Hits</th>\n",
       "      <th>Payouts</th>\n",
       "      <th>RTP_of_k_hits</th>\n",
       "    </tr>\n",
       "  </thead>\n",
       "  <tbody>\n",
       "    <tr>\n",
       "      <th>0</th>\n",
       "      <td>0</td>\n",
       "      <td>0.387046138188919</td>\n",
       "      <td>387420489</td>\n",
       "      <td>0</td>\n",
       "      <td>0.000000000000000</td>\n",
       "    </tr>\n",
       "    <tr>\n",
       "      <th>1</th>\n",
       "      <td>1</td>\n",
       "      <td>0.387461904761103</td>\n",
       "      <td>387420489</td>\n",
       "      <td>0</td>\n",
       "      <td>0.000000000000000</td>\n",
       "    </tr>\n",
       "    <tr>\n",
       "      <th>2</th>\n",
       "      <td>2</td>\n",
       "      <td>0.172390274415854</td>\n",
       "      <td>172186884</td>\n",
       "      <td>1</td>\n",
       "      <td>0.172390274415854</td>\n",
       "    </tr>\n",
       "    <tr>\n",
       "      <th>3</th>\n",
       "      <td>3</td>\n",
       "      <td>0.044741784535520</td>\n",
       "      <td>44641044</td>\n",
       "      <td>5</td>\n",
       "      <td>0.223708922677600</td>\n",
       "    </tr>\n",
       "    <tr>\n",
       "      <th>4</th>\n",
       "      <td>4</td>\n",
       "      <td>0.007464974258090</td>\n",
       "      <td>7440174</td>\n",
       "      <td>50</td>\n",
       "      <td>0.373248712904500</td>\n",
       "    </tr>\n",
       "    <tr>\n",
       "      <th>5</th>\n",
       "      <td>5</td>\n",
       "      <td>0.000830332553634</td>\n",
       "      <td>826686</td>\n",
       "      <td>100</td>\n",
       "      <td>0.083033255363400</td>\n",
       "    </tr>\n",
       "    <tr>\n",
       "      <th>6</th>\n",
       "      <td>6</td>\n",
       "      <td>0.000061572183305</td>\n",
       "      <td>61236</td>\n",
       "      <td>1,000</td>\n",
       "      <td>0.061572183305000</td>\n",
       "    </tr>\n",
       "    <tr>\n",
       "      <th>7</th>\n",
       "      <td>7</td>\n",
       "      <td>0.000002935158195</td>\n",
       "      <td>2916</td>\n",
       "      <td>10,000</td>\n",
       "      <td>0.029351581950000</td>\n",
       "    </tr>\n",
       "    <tr>\n",
       "      <th>8</th>\n",
       "      <td>8</td>\n",
       "      <td>0.000000081619751</td>\n",
       "      <td>81</td>\n",
       "      <td>100,000</td>\n",
       "      <td>0.008161975100000</td>\n",
       "    </tr>\n",
       "    <tr>\n",
       "      <th>9</th>\n",
       "      <td>9</td>\n",
       "      <td>0.000000001008734</td>\n",
       "      <td>1</td>\n",
       "      <td>1,000,000</td>\n",
       "      <td>0.001008734000000</td>\n",
       "    </tr>\n",
       "  </tbody>\n",
       "</table>\n",
       "</div>"
      ],
      "text/plain": [
       "   CorrectEventsCategory        Probability       Hits   Payouts  \\\n",
       "0                      0  0.387046138188919  387420489         0   \n",
       "1                      1  0.387461904761103  387420489         0   \n",
       "2                      2  0.172390274415854  172186884         1   \n",
       "3                      3  0.044741784535520   44641044         5   \n",
       "4                      4  0.007464974258090    7440174        50   \n",
       "5                      5  0.000830332553634     826686       100   \n",
       "6                      6  0.000061572183305      61236     1,000   \n",
       "7                      7  0.000002935158195       2916    10,000   \n",
       "8                      8  0.000000081619751         81   100,000   \n",
       "9                      9  0.000000001008734          1 1,000,000   \n",
       "\n",
       "       RTP_of_k_hits  \n",
       "0  0.000000000000000  \n",
       "1  0.000000000000000  \n",
       "2  0.172390274415854  \n",
       "3  0.223708922677600  \n",
       "4  0.373248712904500  \n",
       "5  0.083033255363400  \n",
       "6  0.061572183305000  \n",
       "7  0.029351581950000  \n",
       "8  0.008161975100000  \n",
       "9  0.001008734000000  "
      ]
     },
     "execution_count": 15,
     "metadata": {},
     "output_type": "execute_result"
    }
   ],
   "source": [
    "df_weightedSz1 = convertJsonIntoDataFrame(responseJsonSz1, len(events)+1, payouts)\n",
    "df_weightedSz1"
   ]
  },
  {
   "cell_type": "code",
   "execution_count": 16,
   "metadata": {
    "scrolled": false
   },
   "outputs": [
    {
     "name": "stdout",
     "output_type": "stream",
     "text": [
      "Probability = 1.0\n",
      "Hits        = 1000000000.0\n",
      "RTP         = 0.9524756397163541\n"
     ]
    }
   ],
   "source": [
    "print('Probability =', round(df_weightedSz1['Probability'].astype(float).sum(), 4))\n",
    "print('Hits        =', round(df_weightedSz1['Hits'].astype(float).sum(), 4))\n",
    "print('RTP         =', round(df_weightedSz1['RTP_of_k_hits'].astype(float).sum(), 18))"
   ]
  },
  {
   "cell_type": "markdown",
   "metadata": {},
   "source": [
    "With a weight fluctuation of +/-1 of intially 1000 the RTP increased from 94,96% to 95,25%."
   ]
  },
  {
   "cell_type": "markdown",
   "metadata": {},
   "source": [
    "## Cycle evaluation for modified weights - weights fluctuate by +/- 10.\n",
    "If the weights fluctuate by +/- 10. Having that low fluctuation, what is the impact on the RTP ?"
   ]
  },
  {
   "cell_type": "code",
   "execution_count": 17,
   "metadata": {},
   "outputs": [
    {
     "data": {
      "text/plain": [
       "[{'weights': [1006, 1000, 1000, 1008, 1000, 1004, 1001, 990, 999, 1008]},\n",
       " {'weights': [1005, 1001, 1002, 1007, 991, 1005, 1004, 1000, 1003, 1005]},\n",
       " {'weights': [1001, 1006, 1010, 998, 998, 997, 992, 1003, 996, 995]},\n",
       " {'weights': [1002, 996, 1003, 993, 1007, 992, 999, 990, 996, 1010]},\n",
       " {'weights': [990, 996, 1010, 1000, 1008, 1005, 1002, 1002, 1010, 1000]},\n",
       " {'weights': [1003, 990, 998, 1004, 1005, 999, 999, 1009, 990, 1009]},\n",
       " {'weights': [1006, 998, 990, 1003, 1003, 1001, 993, 1008, 996, 994]},\n",
       " {'weights': [993, 993, 996, 997, 997, 1000, 1009, 999, 1008, 996]},\n",
       " {'weights': [1007, 1009, 993, 998, 998, 995, 1002, 998, 991, 996]}]"
      ]
     },
     "execution_count": 17,
     "metadata": {},
     "output_type": "execute_result"
    }
   ],
   "source": [
    "events = getJsonEvents(10)\n",
    "events"
   ]
  },
  {
   "cell_type": "code",
   "execution_count": 18,
   "metadata": {},
   "outputs": [
    {
     "name": "stdout",
     "output_type": "stream",
     "text": [
      "Time in seconds:  17.39366149999978\n"
     ]
    }
   ],
   "source": [
    "responseJsonSz10 = postRequestsObject('https://localhost:44339/api/Distribution', events)"
   ]
  },
  {
   "cell_type": "code",
   "execution_count": 19,
   "metadata": {},
   "outputs": [
    {
     "data": {
      "text/html": [
       "<div>\n",
       "<style scoped>\n",
       "    .dataframe tbody tr th:only-of-type {\n",
       "        vertical-align: middle;\n",
       "    }\n",
       "\n",
       "    .dataframe tbody tr th {\n",
       "        vertical-align: top;\n",
       "    }\n",
       "\n",
       "    .dataframe thead th {\n",
       "        text-align: right;\n",
       "    }\n",
       "</style>\n",
       "<table border=\"1\" class=\"dataframe\">\n",
       "  <thead>\n",
       "    <tr style=\"text-align: right;\">\n",
       "      <th></th>\n",
       "      <th>CorrectEventsCategory</th>\n",
       "      <th>Probability</th>\n",
       "      <th>Hits</th>\n",
       "      <th>Payouts</th>\n",
       "      <th>RTP_of_k_hits</th>\n",
       "    </tr>\n",
       "  </thead>\n",
       "  <tbody>\n",
       "    <tr>\n",
       "      <th>0</th>\n",
       "      <td>0</td>\n",
       "      <td>0.384071107820509</td>\n",
       "      <td>387420489</td>\n",
       "      <td>0</td>\n",
       "      <td>0.000000000000000</td>\n",
       "    </tr>\n",
       "    <tr>\n",
       "      <th>1</th>\n",
       "      <td>1</td>\n",
       "      <td>0.387778393807025</td>\n",
       "      <td>387420489</td>\n",
       "      <td>0</td>\n",
       "      <td>0.000000000000000</td>\n",
       "    </tr>\n",
       "    <tr>\n",
       "      <th>2</th>\n",
       "      <td>2</td>\n",
       "      <td>0.174009432171953</td>\n",
       "      <td>172186884</td>\n",
       "      <td>1</td>\n",
       "      <td>0.174009432171953</td>\n",
       "    </tr>\n",
       "    <tr>\n",
       "      <th>3</th>\n",
       "      <td>3</td>\n",
       "      <td>0.045548963341785</td>\n",
       "      <td>44641044</td>\n",
       "      <td>5</td>\n",
       "      <td>0.227744816708925</td>\n",
       "    </tr>\n",
       "    <tr>\n",
       "      <th>4</th>\n",
       "      <td>4</td>\n",
       "      <td>0.007664757328053</td>\n",
       "      <td>7440174</td>\n",
       "      <td>50</td>\n",
       "      <td>0.383237866402650</td>\n",
       "    </tr>\n",
       "    <tr>\n",
       "      <th>5</th>\n",
       "      <td>5</td>\n",
       "      <td>0.000859858112765</td>\n",
       "      <td>826686</td>\n",
       "      <td>100</td>\n",
       "      <td>0.085985811276500</td>\n",
       "    </tr>\n",
       "    <tr>\n",
       "      <th>6</th>\n",
       "      <td>6</td>\n",
       "      <td>0.000064307799452</td>\n",
       "      <td>61236</td>\n",
       "      <td>1,000</td>\n",
       "      <td>0.064307799452000</td>\n",
       "    </tr>\n",
       "    <tr>\n",
       "      <th>7</th>\n",
       "      <td>7</td>\n",
       "      <td>0.000003091823606</td>\n",
       "      <td>2916</td>\n",
       "      <td>10,000</td>\n",
       "      <td>0.030918236060000</td>\n",
       "    </tr>\n",
       "    <tr>\n",
       "      <th>8</th>\n",
       "      <td>8</td>\n",
       "      <td>0.000000086712617</td>\n",
       "      <td>81</td>\n",
       "      <td>100,000</td>\n",
       "      <td>0.008671261700000</td>\n",
       "    </tr>\n",
       "    <tr>\n",
       "      <th>9</th>\n",
       "      <td>9</td>\n",
       "      <td>0.000000001080854</td>\n",
       "      <td>1</td>\n",
       "      <td>1,000,000</td>\n",
       "      <td>0.001080854000000</td>\n",
       "    </tr>\n",
       "  </tbody>\n",
       "</table>\n",
       "</div>"
      ],
      "text/plain": [
       "   CorrectEventsCategory        Probability       Hits   Payouts  \\\n",
       "0                      0  0.384071107820509  387420489         0   \n",
       "1                      1  0.387778393807025  387420489         0   \n",
       "2                      2  0.174009432171953  172186884         1   \n",
       "3                      3  0.045548963341785   44641044         5   \n",
       "4                      4  0.007664757328053    7440174        50   \n",
       "5                      5  0.000859858112765     826686       100   \n",
       "6                      6  0.000064307799452      61236     1,000   \n",
       "7                      7  0.000003091823606       2916    10,000   \n",
       "8                      8  0.000000086712617         81   100,000   \n",
       "9                      9  0.000000001080854          1 1,000,000   \n",
       "\n",
       "       RTP_of_k_hits  \n",
       "0  0.000000000000000  \n",
       "1  0.000000000000000  \n",
       "2  0.174009432171953  \n",
       "3  0.227744816708925  \n",
       "4  0.383237866402650  \n",
       "5  0.085985811276500  \n",
       "6  0.064307799452000  \n",
       "7  0.030918236060000  \n",
       "8  0.008671261700000  \n",
       "9  0.001080854000000  "
      ]
     },
     "execution_count": 19,
     "metadata": {},
     "output_type": "execute_result"
    }
   ],
   "source": [
    "df_weightedSz10 = convertJsonIntoDataFrame(responseJsonSz10, len(events)+1, payouts)\n",
    "df_weightedSz10"
   ]
  },
  {
   "cell_type": "code",
   "execution_count": 20,
   "metadata": {
    "scrolled": true
   },
   "outputs": [
    {
     "name": "stdout",
     "output_type": "stream",
     "text": [
      "Probability = 1.0\n",
      "Hits        = 1000000000.0\n",
      "RTP         = 0.9759560777720281\n"
     ]
    }
   ],
   "source": [
    "print('Probability =', round(df_weightedSz10['Probability'].astype(float).sum(), 4))\n",
    "print('Hits        =', round(df_weightedSz10['Hits'].astype(float).sum(), 4))\n",
    "print('RTP         =', round(df_weightedSz10['RTP_of_k_hits'].astype(float).sum(), 18))"
   ]
  },
  {
   "cell_type": "markdown",
   "metadata": {},
   "source": [
    "With a weight fluctuation of +/-10 of initially 1000 the RTP increased from 94,96% to 97,60%."
   ]
  },
  {
   "cell_type": "markdown",
   "metadata": {},
   "source": [
    "## Cycle evaluation for modified weights - weights fluctuate by +/- 100.\n",
    "If the weights fluctuate by +/- 10. Having that high fluctuation, what is the impact on the RTP ?"
   ]
  },
  {
   "cell_type": "code",
   "execution_count": 83,
   "metadata": {},
   "outputs": [
    {
     "data": {
      "text/plain": [
       "[{'weights': [1064, 1048, 1068, 954, 957, 923, 1088, 1086, 1066, 1088]},\n",
       " {'weights': [959, 908, 1068, 1052, 1023, 916, 938, 1080, 942, 942]},\n",
       " {'weights': [903, 1085, 949, 1066, 977, 1074, 982, 1089, 1070, 986]},\n",
       " {'weights': [1087, 1100, 1080, 1077, 901, 943, 940, 1027, 1038, 910]},\n",
       " {'weights': [1022, 1029, 1014, 957, 919, 927, 965, 901, 916, 958]},\n",
       " {'weights': [987, 1079, 1029, 942, 1063, 1024, 972, 986, 1037, 922]},\n",
       " {'weights': [1012, 1085, 1060, 1078, 1039, 1071, 939, 925, 912, 1060]},\n",
       " {'weights': [1070, 979, 1043, 912, 1039, 900, 984, 997, 1054, 932]},\n",
       " {'weights': [978, 996, 1074, 951, 964, 915, 1035, 1069, 945, 1050]}]"
      ]
     },
     "execution_count": 83,
     "metadata": {},
     "output_type": "execute_result"
    }
   ],
   "source": [
    "events = getJsonEvents(100)\n",
    "events"
   ]
  },
  {
   "cell_type": "code",
   "execution_count": 22,
   "metadata": {},
   "outputs": [
    {
     "name": "stdout",
     "output_type": "stream",
     "text": [
      "Time in seconds:  17.484811499999978\n"
     ]
    }
   ],
   "source": [
    "responseJsonSz100 = postRequestsObject('https://localhost:44339/api/Distribution', events)"
   ]
  },
  {
   "cell_type": "code",
   "execution_count": 51,
   "metadata": {},
   "outputs": [
    {
     "data": {
      "text/html": [
       "<div>\n",
       "<style scoped>\n",
       "    .dataframe tbody tr th:only-of-type {\n",
       "        vertical-align: middle;\n",
       "    }\n",
       "\n",
       "    .dataframe tbody tr th {\n",
       "        vertical-align: top;\n",
       "    }\n",
       "\n",
       "    .dataframe thead th {\n",
       "        text-align: right;\n",
       "    }\n",
       "</style>\n",
       "<table border=\"1\" class=\"dataframe\">\n",
       "  <thead>\n",
       "    <tr style=\"text-align: right;\">\n",
       "      <th></th>\n",
       "      <th>CorrectEventsCategory</th>\n",
       "      <th>Probability</th>\n",
       "      <th>Hits</th>\n",
       "      <th>Payouts</th>\n",
       "      <th>RTP_of_k_hits</th>\n",
       "    </tr>\n",
       "  </thead>\n",
       "  <tbody>\n",
       "    <tr>\n",
       "      <th>0</th>\n",
       "      <td>0</td>\n",
       "      <td>0.354756154051323</td>\n",
       "      <td>387420489</td>\n",
       "      <td>0</td>\n",
       "      <td>0.000000000000000</td>\n",
       "    </tr>\n",
       "    <tr>\n",
       "      <th>1</th>\n",
       "      <td>1</td>\n",
       "      <td>0.389659941309966</td>\n",
       "      <td>387420489</td>\n",
       "      <td>0</td>\n",
       "      <td>0.000000000000000</td>\n",
       "    </tr>\n",
       "    <tr>\n",
       "      <th>2</th>\n",
       "      <td>2</td>\n",
       "      <td>0.190204922261838</td>\n",
       "      <td>172186884</td>\n",
       "      <td>1</td>\n",
       "      <td>0.190204922261838</td>\n",
       "    </tr>\n",
       "    <tr>\n",
       "      <th>3</th>\n",
       "      <td>3</td>\n",
       "      <td>0.054154852777799</td>\n",
       "      <td>44641044</td>\n",
       "      <td>5</td>\n",
       "      <td>0.270774263888995</td>\n",
       "    </tr>\n",
       "    <tr>\n",
       "      <th>4</th>\n",
       "      <td>4</td>\n",
       "      <td>0.009911296672985</td>\n",
       "      <td>7440174</td>\n",
       "      <td>50</td>\n",
       "      <td>0.495564833649250</td>\n",
       "    </tr>\n",
       "    <tr>\n",
       "      <th>5</th>\n",
       "      <td>5</td>\n",
       "      <td>0.001209192530919</td>\n",
       "      <td>826686</td>\n",
       "      <td>100</td>\n",
       "      <td>0.120919253091900</td>\n",
       "    </tr>\n",
       "    <tr>\n",
       "      <th>6</th>\n",
       "      <td>6</td>\n",
       "      <td>0.000098340511421</td>\n",
       "      <td>61236</td>\n",
       "      <td>1,000</td>\n",
       "      <td>0.098340511421000</td>\n",
       "    </tr>\n",
       "    <tr>\n",
       "      <th>7</th>\n",
       "      <td>7</td>\n",
       "      <td>0.000005140997202</td>\n",
       "      <td>2916</td>\n",
       "      <td>10,000</td>\n",
       "      <td>0.051409972020000</td>\n",
       "    </tr>\n",
       "    <tr>\n",
       "      <th>8</th>\n",
       "      <td>8</td>\n",
       "      <td>0.000000156762661</td>\n",
       "      <td>81</td>\n",
       "      <td>100,000</td>\n",
       "      <td>0.015676266100000</td>\n",
       "    </tr>\n",
       "    <tr>\n",
       "      <th>9</th>\n",
       "      <td>9</td>\n",
       "      <td>0.000000002124316</td>\n",
       "      <td>1</td>\n",
       "      <td>1,000,000</td>\n",
       "      <td>0.002124316000000</td>\n",
       "    </tr>\n",
       "  </tbody>\n",
       "</table>\n",
       "</div>"
      ],
      "text/plain": [
       "   CorrectEventsCategory        Probability       Hits   Payouts  \\\n",
       "0                      0  0.354756154051323  387420489         0   \n",
       "1                      1  0.389659941309966  387420489         0   \n",
       "2                      2  0.190204922261838  172186884         1   \n",
       "3                      3  0.054154852777799   44641044         5   \n",
       "4                      4  0.009911296672985    7440174        50   \n",
       "5                      5  0.001209192530919     826686       100   \n",
       "6                      6  0.000098340511421      61236     1,000   \n",
       "7                      7  0.000005140997202       2916    10,000   \n",
       "8                      8  0.000000156762661         81   100,000   \n",
       "9                      9  0.000000002124316          1 1,000,000   \n",
       "\n",
       "       RTP_of_k_hits  \n",
       "0  0.000000000000000  \n",
       "1  0.000000000000000  \n",
       "2  0.190204922261838  \n",
       "3  0.270774263888995  \n",
       "4  0.495564833649250  \n",
       "5  0.120919253091900  \n",
       "6  0.098340511421000  \n",
       "7  0.051409972020000  \n",
       "8  0.015676266100000  \n",
       "9  0.002124316000000  "
      ]
     },
     "execution_count": 51,
     "metadata": {},
     "output_type": "execute_result"
    }
   ],
   "source": [
    "df_weightedSz100 = convertJsonIntoDataFrame(responseJsonSz100, len(events)+1, payouts)\n",
    "df_weightedSz100"
   ]
  },
  {
   "cell_type": "code",
   "execution_count": 24,
   "metadata": {},
   "outputs": [
    {
     "name": "stdout",
     "output_type": "stream",
     "text": [
      "Probability = 1.0\n",
      "Hits        = 1000000000.0\n",
      "RTP         = 1.245014338432983\n"
     ]
    }
   ],
   "source": [
    "print('Probability =', round(df_weightedSz100['Probability'].astype(float).sum(), 4))\n",
    "print('Hits        =', round(df_weightedSz100['Hits'].astype(float).sum(), 4))\n",
    "print('RTP         =', round(df_weightedSz100['RTP_of_k_hits'].astype(float).sum(), 18))"
   ]
  },
  {
   "cell_type": "markdown",
   "metadata": {},
   "source": [
    "With a weight fluctuation of +/-1 of initially 1000 the RTP increased from 94,96% to 122,87%."
   ]
  },
  {
   "cell_type": "markdown",
   "metadata": {},
   "source": [
    "## Cycle evaluation for modified weights - weights fluctuate by +/- 1000.\n",
    "If the weights fluctuate by +/- 1000. Having that very high fluctuation, what is the impact on the RTP ?"
   ]
  },
  {
   "cell_type": "code",
   "execution_count": 84,
   "metadata": {},
   "outputs": [
    {
     "data": {
      "text/plain": [
       "[{'weights': [730, 245, 430, 375, 840, 866, 1349, 1533, 1237, 211]},\n",
       " {'weights': [1249, 1312, 222, 1011, 318, 1509, 1847, 456, 408, 1705]},\n",
       " {'weights': [1151, 721, 1668, 1965, 847, 1222, 650, 1280, 1056, 673]},\n",
       " {'weights': [919, 614, 1904, 714, 880, 1317, 456, 1180, 740, 1894]},\n",
       " {'weights': [616, 1592, 821, 632, 1180, 1753, 2, 1877, 539, 1192]},\n",
       " {'weights': [817, 582, 1323, 1900, 19, 1431, 793, 1055, 943, 1272]},\n",
       " {'weights': [1484, 578, 1562, 640, 283, 957, 97, 889, 1337, 84]},\n",
       " {'weights': [43, 1085, 1814, 641, 203, 13, 904, 1163, 721, 652]},\n",
       " {'weights': [712, 613, 461, 1305, 1602, 1887, 1089, 529, 411, 1073]}]"
      ]
     },
     "execution_count": 84,
     "metadata": {},
     "output_type": "execute_result"
    }
   ],
   "source": [
    "events = getJsonEvents(1000)\n",
    "events"
   ]
  },
  {
   "cell_type": "code",
   "execution_count": 26,
   "metadata": {},
   "outputs": [
    {
     "name": "stdout",
     "output_type": "stream",
     "text": [
      "Time in seconds:  17.595283999999992\n"
     ]
    }
   ],
   "source": [
    "responseJsonSz1000 = postRequestsObject('https://localhost:44339/api/Distribution', events)"
   ]
  },
  {
   "cell_type": "code",
   "execution_count": 50,
   "metadata": {},
   "outputs": [
    {
     "data": {
      "text/html": [
       "<div>\n",
       "<style scoped>\n",
       "    .dataframe tbody tr th:only-of-type {\n",
       "        vertical-align: middle;\n",
       "    }\n",
       "\n",
       "    .dataframe tbody tr th {\n",
       "        vertical-align: top;\n",
       "    }\n",
       "\n",
       "    .dataframe thead th {\n",
       "        text-align: right;\n",
       "    }\n",
       "</style>\n",
       "<table border=\"1\" class=\"dataframe\">\n",
       "  <thead>\n",
       "    <tr style=\"text-align: right;\">\n",
       "      <th></th>\n",
       "      <th>CorrectEventsCategory</th>\n",
       "      <th>Probability</th>\n",
       "      <th>Hits</th>\n",
       "      <th>Payouts</th>\n",
       "      <th>RTP_of_k_hits</th>\n",
       "    </tr>\n",
       "  </thead>\n",
       "  <tbody>\n",
       "    <tr>\n",
       "      <th>0</th>\n",
       "      <td>0</td>\n",
       "      <td>0.165596267759370</td>\n",
       "      <td>387420489</td>\n",
       "      <td>0</td>\n",
       "      <td>0.000000000000000</td>\n",
       "    </tr>\n",
       "    <tr>\n",
       "      <th>1</th>\n",
       "      <td>1</td>\n",
       "      <td>0.330670856351651</td>\n",
       "      <td>387420489</td>\n",
       "      <td>0</td>\n",
       "      <td>0.000000000000000</td>\n",
       "    </tr>\n",
       "    <tr>\n",
       "      <th>2</th>\n",
       "      <td>2</td>\n",
       "      <td>0.292152628317432</td>\n",
       "      <td>172186884</td>\n",
       "      <td>1</td>\n",
       "      <td>0.292152628317432</td>\n",
       "    </tr>\n",
       "    <tr>\n",
       "      <th>3</th>\n",
       "      <td>3</td>\n",
       "      <td>0.149907141921733</td>\n",
       "      <td>44641044</td>\n",
       "      <td>5</td>\n",
       "      <td>0.749535709608665</td>\n",
       "    </tr>\n",
       "    <tr>\n",
       "      <th>4</th>\n",
       "      <td>4</td>\n",
       "      <td>0.049233733671847</td>\n",
       "      <td>7440174</td>\n",
       "      <td>50</td>\n",
       "      <td>2.461686683592350</td>\n",
       "    </tr>\n",
       "    <tr>\n",
       "      <th>5</th>\n",
       "      <td>5</td>\n",
       "      <td>0.010733888934343</td>\n",
       "      <td>826686</td>\n",
       "      <td>100</td>\n",
       "      <td>1.073388893434300</td>\n",
       "    </tr>\n",
       "    <tr>\n",
       "      <th>6</th>\n",
       "      <td>6</td>\n",
       "      <td>0.001553590243750</td>\n",
       "      <td>61236</td>\n",
       "      <td>1,000</td>\n",
       "      <td>1.553590243750000</td>\n",
       "    </tr>\n",
       "    <tr>\n",
       "      <th>7</th>\n",
       "      <td>7</td>\n",
       "      <td>0.000143958342445</td>\n",
       "      <td>2916</td>\n",
       "      <td>10,000</td>\n",
       "      <td>1.439583424450000</td>\n",
       "    </tr>\n",
       "    <tr>\n",
       "      <th>8</th>\n",
       "      <td>8</td>\n",
       "      <td>0.000007749776904</td>\n",
       "      <td>81</td>\n",
       "      <td>100,000</td>\n",
       "      <td>0.774977690400000</td>\n",
       "    </tr>\n",
       "    <tr>\n",
       "      <th>9</th>\n",
       "      <td>9</td>\n",
       "      <td>0.000000184680569</td>\n",
       "      <td>1</td>\n",
       "      <td>1,000,000</td>\n",
       "      <td>0.184680569000000</td>\n",
       "    </tr>\n",
       "  </tbody>\n",
       "</table>\n",
       "</div>"
      ],
      "text/plain": [
       "   CorrectEventsCategory        Probability       Hits   Payouts  \\\n",
       "0                      0  0.165596267759370  387420489         0   \n",
       "1                      1  0.330670856351651  387420489         0   \n",
       "2                      2  0.292152628317432  172186884         1   \n",
       "3                      3  0.149907141921733   44641044         5   \n",
       "4                      4  0.049233733671847    7440174        50   \n",
       "5                      5  0.010733888934343     826686       100   \n",
       "6                      6  0.001553590243750      61236     1,000   \n",
       "7                      7  0.000143958342445       2916    10,000   \n",
       "8                      8  0.000007749776904         81   100,000   \n",
       "9                      9  0.000000184680569          1 1,000,000   \n",
       "\n",
       "       RTP_of_k_hits  \n",
       "0  0.000000000000000  \n",
       "1  0.000000000000000  \n",
       "2  0.292152628317432  \n",
       "3  0.749535709608665  \n",
       "4  2.461686683592350  \n",
       "5  1.073388893434300  \n",
       "6  1.553590243750000  \n",
       "7  1.439583424450000  \n",
       "8  0.774977690400000  \n",
       "9  0.184680569000000  "
      ]
     },
     "execution_count": 50,
     "metadata": {},
     "output_type": "execute_result"
    }
   ],
   "source": [
    "df_weightedSz1000 = convertJsonIntoDataFrame(responseJsonSz1000, len(events)+1, payouts)\n",
    "df_weightedSz1000"
   ]
  },
  {
   "cell_type": "code",
   "execution_count": 28,
   "metadata": {
    "scrolled": false
   },
   "outputs": [
    {
     "name": "stdout",
     "output_type": "stream",
     "text": [
      "Probability = 1.0\n",
      "Hits        = 1000000000.0\n",
      "RTP         = 8.529595842552746\n"
     ]
    }
   ],
   "source": [
    "print('Probability =', round(df_weightedSz1000['Probability'].astype(float).sum(), 4))\n",
    "print('Hits        =', round(df_weightedSz1000['Hits'].astype(float).sum(), 4))\n",
    "print('RTP         =', round(df_weightedSz1000['RTP_of_k_hits'].astype(float).sum(), 18))"
   ]
  },
  {
   "cell_type": "markdown",
   "metadata": {},
   "source": [
    "With a weight fluctuation of +/-1 of initially 1000 the RTP increased from 94,96% to 852,96%."
   ]
  },
  {
   "cell_type": "markdown",
   "metadata": {},
   "source": [
    "## Cycle evaluation for modified weights - one event' outcome being five-times overweight\n",
    "If one outcome is five-times weighted as the other event' outcomes. Having that skewness in the weights, what is the impact on the RTP ?"
   ]
  },
  {
   "cell_type": "code",
   "execution_count": 86,
   "metadata": {},
   "outputs": [
    {
     "data": {
      "text/plain": [
       "[{'weights': [5, 1, 1, 1, 1, 1, 1, 1, 1, 1]},\n",
       " {'weights': [5, 1, 1, 1, 1, 1, 1, 1, 1, 1]},\n",
       " {'weights': [5, 1, 1, 1, 1, 1, 1, 1, 1, 1]},\n",
       " {'weights': [5, 1, 1, 1, 1, 1, 1, 1, 1, 1]},\n",
       " {'weights': [5, 1, 1, 1, 1, 1, 1, 1, 1, 1]},\n",
       " {'weights': [5, 1, 1, 1, 1, 1, 1, 1, 1, 1]},\n",
       " {'weights': [5, 1, 1, 1, 1, 1, 1, 1, 1, 1]},\n",
       " {'weights': [5, 1, 1, 1, 1, 1, 1, 1, 1, 1]},\n",
       " {'weights': [5, 1, 1, 1, 1, 1, 1, 1, 1, 1]}]"
      ]
     },
     "execution_count": 86,
     "metadata": {},
     "output_type": "execute_result"
    }
   ],
   "source": [
    "def getJsonEvents(overweight): \n",
    "    events  = []\n",
    "    for event in range(0,9):\n",
    "        events.append({ \"weights\": [overweight,1,1,1,1,1,1,1,1,1]})\n",
    "    return events\n",
    "\n",
    "events = getJsonEvents(5)\n",
    "events"
   ]
  },
  {
   "cell_type": "code",
   "execution_count": 37,
   "metadata": {},
   "outputs": [
    {
     "name": "stdout",
     "output_type": "stream",
     "text": [
      "Time in seconds:  18.393648199999916\n"
     ]
    }
   ],
   "source": [
    "responseJsonSzX5 = postRequestsObject('https://localhost:44339/api/Distribution', events)"
   ]
  },
  {
   "cell_type": "code",
   "execution_count": 49,
   "metadata": {},
   "outputs": [
    {
     "data": {
      "text/html": [
       "<div>\n",
       "<style scoped>\n",
       "    .dataframe tbody tr th:only-of-type {\n",
       "        vertical-align: middle;\n",
       "    }\n",
       "\n",
       "    .dataframe tbody tr th {\n",
       "        vertical-align: top;\n",
       "    }\n",
       "\n",
       "    .dataframe thead th {\n",
       "        text-align: right;\n",
       "    }\n",
       "</style>\n",
       "<table border=\"1\" class=\"dataframe\">\n",
       "  <thead>\n",
       "    <tr style=\"text-align: right;\">\n",
       "      <th></th>\n",
       "      <th>CorrectEventsCategory</th>\n",
       "      <th>Probability</th>\n",
       "      <th>Hits</th>\n",
       "      <th>Payouts</th>\n",
       "      <th>RTP_of_k_hits</th>\n",
       "    </tr>\n",
       "  </thead>\n",
       "  <tbody>\n",
       "    <tr>\n",
       "      <th>0</th>\n",
       "      <td>0</td>\n",
       "      <td>0.018751251746698</td>\n",
       "      <td>387420489</td>\n",
       "      <td>0</td>\n",
       "      <td>0.000000000000000</td>\n",
       "    </tr>\n",
       "    <tr>\n",
       "      <th>1</th>\n",
       "      <td>1</td>\n",
       "      <td>0.093756259240041</td>\n",
       "      <td>387420489</td>\n",
       "      <td>0</td>\n",
       "      <td>0.000000000000000</td>\n",
       "    </tr>\n",
       "    <tr>\n",
       "      <th>2</th>\n",
       "      <td>2</td>\n",
       "      <td>0.208347241303105</td>\n",
       "      <td>172186884</td>\n",
       "      <td>1</td>\n",
       "      <td>0.208347241303105</td>\n",
       "    </tr>\n",
       "    <tr>\n",
       "      <th>3</th>\n",
       "      <td>3</td>\n",
       "      <td>0.270079757336929</td>\n",
       "      <td>44641044</td>\n",
       "      <td>5</td>\n",
       "      <td>1.350398786684645</td>\n",
       "    </tr>\n",
       "    <tr>\n",
       "      <th>4</th>\n",
       "      <td>4</td>\n",
       "      <td>0.225066464370843</td>\n",
       "      <td>7440174</td>\n",
       "      <td>50</td>\n",
       "      <td>11.253323218542150</td>\n",
       "    </tr>\n",
       "    <tr>\n",
       "      <th>5</th>\n",
       "      <td>5</td>\n",
       "      <td>0.125036924652537</td>\n",
       "      <td>826686</td>\n",
       "      <td>100</td>\n",
       "      <td>12.503692465253700</td>\n",
       "    </tr>\n",
       "    <tr>\n",
       "      <th>6</th>\n",
       "      <td>6</td>\n",
       "      <td>0.046309972093995</td>\n",
       "      <td>61236</td>\n",
       "      <td>1,000</td>\n",
       "      <td>46.309972093995000</td>\n",
       "    </tr>\n",
       "    <tr>\n",
       "      <th>7</th>\n",
       "      <td>7</td>\n",
       "      <td>0.011026183831907</td>\n",
       "      <td>2916</td>\n",
       "      <td>10,000</td>\n",
       "      <td>110.261838319069994</td>\n",
       "    </tr>\n",
       "    <tr>\n",
       "      <th>8</th>\n",
       "      <td>8</td>\n",
       "      <td>0.001531414421098</td>\n",
       "      <td>81</td>\n",
       "      <td>100,000</td>\n",
       "      <td>153.141442109800010</td>\n",
       "    </tr>\n",
       "    <tr>\n",
       "      <th>9</th>\n",
       "      <td>9</td>\n",
       "      <td>0.000094531754389</td>\n",
       "      <td>1</td>\n",
       "      <td>1,000,000</td>\n",
       "      <td>94.531754389000000</td>\n",
       "    </tr>\n",
       "  </tbody>\n",
       "</table>\n",
       "</div>"
      ],
      "text/plain": [
       "   CorrectEventsCategory        Probability       Hits   Payouts  \\\n",
       "0                      0  0.018751251746698  387420489         0   \n",
       "1                      1  0.093756259240041  387420489         0   \n",
       "2                      2  0.208347241303105  172186884         1   \n",
       "3                      3  0.270079757336929   44641044         5   \n",
       "4                      4  0.225066464370843    7440174        50   \n",
       "5                      5  0.125036924652537     826686       100   \n",
       "6                      6  0.046309972093995      61236     1,000   \n",
       "7                      7  0.011026183831907       2916    10,000   \n",
       "8                      8  0.001531414421098         81   100,000   \n",
       "9                      9  0.000094531754389          1 1,000,000   \n",
       "\n",
       "         RTP_of_k_hits  \n",
       "0    0.000000000000000  \n",
       "1    0.000000000000000  \n",
       "2    0.208347241303105  \n",
       "3    1.350398786684645  \n",
       "4   11.253323218542150  \n",
       "5   12.503692465253700  \n",
       "6   46.309972093995000  \n",
       "7  110.261838319069994  \n",
       "8  153.141442109800010  \n",
       "9   94.531754389000000  "
      ]
     },
     "execution_count": 49,
     "metadata": {},
     "output_type": "execute_result"
    }
   ],
   "source": [
    "df_weightedSzX5 = convertJsonIntoDataFrame(responseJsonSzX5, len(events)+1, payouts)\n",
    "df_weightedSzX5"
   ]
  },
  {
   "cell_type": "code",
   "execution_count": 39,
   "metadata": {
    "scrolled": true
   },
   "outputs": [
    {
     "name": "stdout",
     "output_type": "stream",
     "text": [
      "Probability = 1.0\n",
      "Hits        = 1000000000.0\n",
      "RTP         = 429.56076862364864\n"
     ]
    }
   ],
   "source": [
    "print('Probability =', round(df_weightedSzX5['Probability'].astype(float).sum(), 4))\n",
    "print('Hits        =', round(df_weightedSzX5['Hits'].astype(float).sum(), 4))\n",
    "print('RTP         =', round(df_weightedSzX5['RTP_of_k_hits'].astype(float).sum(), 18))"
   ]
  },
  {
   "cell_type": "markdown",
   "metadata": {},
   "source": [
    "With one outcome of each event being five-times as big as the other outcomes the RTP increased from 94,96% to 42956,07%."
   ]
  },
  {
   "cell_type": "markdown",
   "metadata": {},
   "source": [
    "## Cycle evaluation for modified weights - one event' outcome being hundred-times overweight\n",
    "If one outcome is hundred-times weighted as the other event' outcomes. Having that skewness in the weights, what is the impact on the RTP ?"
   ]
  },
  {
   "cell_type": "code",
   "execution_count": 87,
   "metadata": {},
   "outputs": [
    {
     "data": {
      "text/plain": [
       "[{'weights': [100, 1, 1, 1, 1, 1, 1, 1, 1, 1]},\n",
       " {'weights': [100, 1, 1, 1, 1, 1, 1, 1, 1, 1]},\n",
       " {'weights': [100, 1, 1, 1, 1, 1, 1, 1, 1, 1]},\n",
       " {'weights': [100, 1, 1, 1, 1, 1, 1, 1, 1, 1]},\n",
       " {'weights': [100, 1, 1, 1, 1, 1, 1, 1, 1, 1]},\n",
       " {'weights': [100, 1, 1, 1, 1, 1, 1, 1, 1, 1]},\n",
       " {'weights': [100, 1, 1, 1, 1, 1, 1, 1, 1, 1]},\n",
       " {'weights': [100, 1, 1, 1, 1, 1, 1, 1, 1, 1]},\n",
       " {'weights': [100, 1, 1, 1, 1, 1, 1, 1, 1, 1]}]"
      ]
     },
     "execution_count": 87,
     "metadata": {},
     "output_type": "execute_result"
    }
   ],
   "source": [
    "events = getJsonEvents(100)\n",
    "events"
   ]
  },
  {
   "cell_type": "code",
   "execution_count": 60,
   "metadata": {},
   "outputs": [
    {
     "name": "stdout",
     "output_type": "stream",
     "text": [
      "Time in seconds:  18.608468000000357\n"
     ]
    }
   ],
   "source": [
    "responseJsonSzX100 = postRequestsObject('https://localhost:44339/api/Distribution', events)"
   ]
  },
  {
   "cell_type": "code",
   "execution_count": 61,
   "metadata": {},
   "outputs": [
    {
     "data": {
      "text/html": [
       "<div>\n",
       "<style scoped>\n",
       "    .dataframe tbody tr th:only-of-type {\n",
       "        vertical-align: middle;\n",
       "    }\n",
       "\n",
       "    .dataframe tbody tr th {\n",
       "        vertical-align: top;\n",
       "    }\n",
       "\n",
       "    .dataframe thead th {\n",
       "        text-align: right;\n",
       "    }\n",
       "</style>\n",
       "<table border=\"1\" class=\"dataframe\">\n",
       "  <thead>\n",
       "    <tr style=\"text-align: right;\">\n",
       "      <th></th>\n",
       "      <th>CorrectEventsCategory</th>\n",
       "      <th>Probability</th>\n",
       "      <th>Hits</th>\n",
       "      <th>Payouts</th>\n",
       "      <th>RTP_of_k_hits</th>\n",
       "    </tr>\n",
       "  </thead>\n",
       "  <tbody>\n",
       "    <tr>\n",
       "      <th>0</th>\n",
       "      <td>0</td>\n",
       "      <td>0.000000000178379</td>\n",
       "      <td>387420489</td>\n",
       "      <td>0</td>\n",
       "      <td>0.000000000000000</td>\n",
       "    </tr>\n",
       "    <tr>\n",
       "      <th>1</th>\n",
       "      <td>1</td>\n",
       "      <td>0.000000017837916</td>\n",
       "      <td>387420489</td>\n",
       "      <td>0</td>\n",
       "      <td>0.000000000000000</td>\n",
       "    </tr>\n",
       "    <tr>\n",
       "      <th>2</th>\n",
       "      <td>2</td>\n",
       "      <td>0.000000792796246</td>\n",
       "      <td>172186884</td>\n",
       "      <td>1</td>\n",
       "      <td>0.000000792796246</td>\n",
       "    </tr>\n",
       "    <tr>\n",
       "      <th>3</th>\n",
       "      <td>3</td>\n",
       "      <td>0.000020553976770</td>\n",
       "      <td>44641044</td>\n",
       "      <td>5</td>\n",
       "      <td>0.000102769883850</td>\n",
       "    </tr>\n",
       "    <tr>\n",
       "      <th>4</th>\n",
       "      <td>4</td>\n",
       "      <td>0.000342566279390</td>\n",
       "      <td>7440174</td>\n",
       "      <td>50</td>\n",
       "      <td>0.017128313969500</td>\n",
       "    </tr>\n",
       "    <tr>\n",
       "      <th>5</th>\n",
       "      <td>5</td>\n",
       "      <td>0.003806291993300</td>\n",
       "      <td>826686</td>\n",
       "      <td>100</td>\n",
       "      <td>0.380629199330000</td>\n",
       "    </tr>\n",
       "    <tr>\n",
       "      <th>6</th>\n",
       "      <td>6</td>\n",
       "      <td>0.028194755506481</td>\n",
       "      <td>61236</td>\n",
       "      <td>1,000</td>\n",
       "      <td>28.194755506481002</td>\n",
       "    </tr>\n",
       "    <tr>\n",
       "      <th>7</th>\n",
       "      <td>7</td>\n",
       "      <td>0.134260740506955</td>\n",
       "      <td>2916</td>\n",
       "      <td>10,000</td>\n",
       "      <td>1342.607405069549941</td>\n",
       "    </tr>\n",
       "    <tr>\n",
       "      <th>8</th>\n",
       "      <td>8</td>\n",
       "      <td>0.372946501408205</td>\n",
       "      <td>81</td>\n",
       "      <td>100,000</td>\n",
       "      <td>37294.650140820500383</td>\n",
       "    </tr>\n",
       "    <tr>\n",
       "      <th>9</th>\n",
       "      <td>9</td>\n",
       "      <td>0.460427779516301</td>\n",
       "      <td>1</td>\n",
       "      <td>1,000,000</td>\n",
       "      <td>460427.779516301001422</td>\n",
       "    </tr>\n",
       "  </tbody>\n",
       "</table>\n",
       "</div>"
      ],
      "text/plain": [
       "   CorrectEventsCategory        Probability       Hits   Payouts  \\\n",
       "0                      0  0.000000000178379  387420489         0   \n",
       "1                      1  0.000000017837916  387420489         0   \n",
       "2                      2  0.000000792796246  172186884         1   \n",
       "3                      3  0.000020553976770   44641044         5   \n",
       "4                      4  0.000342566279390    7440174        50   \n",
       "5                      5  0.003806291993300     826686       100   \n",
       "6                      6  0.028194755506481      61236     1,000   \n",
       "7                      7  0.134260740506955       2916    10,000   \n",
       "8                      8  0.372946501408205         81   100,000   \n",
       "9                      9  0.460427779516301          1 1,000,000   \n",
       "\n",
       "            RTP_of_k_hits  \n",
       "0       0.000000000000000  \n",
       "1       0.000000000000000  \n",
       "2       0.000000792796246  \n",
       "3       0.000102769883850  \n",
       "4       0.017128313969500  \n",
       "5       0.380629199330000  \n",
       "6      28.194755506481002  \n",
       "7    1342.607405069549941  \n",
       "8   37294.650140820500383  \n",
       "9  460427.779516301001422  "
      ]
     },
     "execution_count": 61,
     "metadata": {},
     "output_type": "execute_result"
    }
   ],
   "source": [
    "df_weightedSzX100 = convertJsonIntoDataFrame(responseJsonSzX100, len(events)+1, payouts)\n",
    "df_weightedSzX100"
   ]
  },
  {
   "cell_type": "code",
   "execution_count": 62,
   "metadata": {},
   "outputs": [
    {
     "name": "stdout",
     "output_type": "stream",
     "text": [
      "Probability = 1.0\n",
      "Hits        = 1000000000.0\n",
      "RTP         = 499093.6296787735\n"
     ]
    }
   ],
   "source": [
    "print('Probability =', round(df_weightedSzX10['Probability'].astype(float).sum(), 4))\n",
    "print('Hits        =', round(df_weightedSzX10['Hits'].astype(float).sum(), 4))\n",
    "print('RTP         =', round(df_weightedSzX10['RTP_of_k_hits'].astype(float).sum(), 18))"
   ]
  },
  {
   "cell_type": "markdown",
   "metadata": {},
   "source": [
    "With one outcome of each event being hundred-times as big as the other outcomes the RTP increased from 94,96% to 49909362,96%."
   ]
  },
  {
   "cell_type": "markdown",
   "metadata": {},
   "source": [
    "# Impact of different scenarios for increased volatility on the weights.\n",
    "Part 5. Comparison of the different scenarios."
   ]
  },
  {
   "cell_type": "code",
   "execution_count": 88,
   "metadata": {
    "scrolled": false
   },
   "outputs": [
    {
     "data": {
      "image/png": "[encoded data removed]",
      "text/plain": [
       "<Figure size 864x504 with 1 Axes>"
      ]
     },
     "metadata": {
      "needs_background": "light"
     },
     "output_type": "display_data"
    }
   ],
   "source": [
    "df_Probabilities = pd.concat([\n",
    "           df_weighted_equally[['Probability']].astype(float).rename(columns={\"Probability\": \"ProbEqDist\"}),\n",
    "           df_weightedSz1[['Probability']].astype(float).rename(columns={\"Probability\": \"ProbSz1\"}),\n",
    "           df_weightedSz10[['Probability']].astype(float).rename(columns={\"Probability\": \"ProbSz10\"}),\n",
    "           df_weightedSz100[['Probability']].astype(float).rename(columns={\"Probability\": \"ProbSz100\"}),\n",
    "           df_weightedSz1000[['Probability']].astype(float).rename(columns={\"Probability\": \"ProbSz1000\"}),\n",
    "           df_weightedSzX5[['Probability']].astype(float).rename(columns={\"Probability\": \"ProbSzX5\"}),\n",
    "           df_weightedSzX100[['Probability']].astype(float).rename(columns={\"Probability\": \"ProbSzX100\"})]\n",
    "        ,axis=1)\n",
    "\n",
    "df_Probabilities.plot(figsize=(12,7))\n",
    "plt.show()"
   ]
  },
  {
   "cell_type": "markdown",
   "metadata": {},
   "source": [
    "Increasing the volatility on the weights leads to overweighing one event' outcome and this leads again in having more probability on the higher hit-categories. The distribution changes from right-skewed to symmetric to left-skewed for having outstanding event' outcome probability."
   ]
  },
  {
   "cell_type": "code",
   "execution_count": 66,
   "metadata": {},
   "outputs": [
    {
     "data": {
      "text/html": [
       "<div>\n",
       "<style scoped>\n",
       "    .dataframe tbody tr th:only-of-type {\n",
       "        vertical-align: middle;\n",
       "    }\n",
       "\n",
       "    .dataframe tbody tr th {\n",
       "        vertical-align: top;\n",
       "    }\n",
       "\n",
       "    .dataframe thead th {\n",
       "        text-align: right;\n",
       "    }\n",
       "</style>\n",
       "<table border=\"1\" class=\"dataframe\">\n",
       "  <thead>\n",
       "    <tr style=\"text-align: right;\">\n",
       "      <th></th>\n",
       "      <th>ProbEqDist</th>\n",
       "      <th>ProbSz1</th>\n",
       "      <th>ProbSz10</th>\n",
       "      <th>ProbSz100</th>\n",
       "      <th>ProbSz1000</th>\n",
       "      <th>ProbSzX5</th>\n",
       "      <th>ProbSzX100</th>\n",
       "    </tr>\n",
       "  </thead>\n",
       "  <tbody>\n",
       "    <tr>\n",
       "      <th>0</th>\n",
       "      <td>0.3874204926</td>\n",
       "      <td>0.3870461382</td>\n",
       "      <td>0.3840711078</td>\n",
       "      <td>0.3547561541</td>\n",
       "      <td>0.1655962678</td>\n",
       "      <td>0.0187512517</td>\n",
       "      <td>0.0000000002</td>\n",
       "    </tr>\n",
       "    <tr>\n",
       "      <th>1</th>\n",
       "      <td>0.3874204926</td>\n",
       "      <td>0.3874619048</td>\n",
       "      <td>0.3877783938</td>\n",
       "      <td>0.3896599413</td>\n",
       "      <td>0.3306708564</td>\n",
       "      <td>0.0937562592</td>\n",
       "      <td>0.0000000178</td>\n",
       "    </tr>\n",
       "    <tr>\n",
       "      <th>2</th>\n",
       "      <td>0.1721868839</td>\n",
       "      <td>0.1723902744</td>\n",
       "      <td>0.1740094322</td>\n",
       "      <td>0.1902049223</td>\n",
       "      <td>0.2921526283</td>\n",
       "      <td>0.2083472413</td>\n",
       "      <td>0.0000007928</td>\n",
       "    </tr>\n",
       "    <tr>\n",
       "      <th>3</th>\n",
       "      <td>0.0446410440</td>\n",
       "      <td>0.0447417845</td>\n",
       "      <td>0.0455489633</td>\n",
       "      <td>0.0541548528</td>\n",
       "      <td>0.1499071419</td>\n",
       "      <td>0.2700797573</td>\n",
       "      <td>0.0000205540</td>\n",
       "    </tr>\n",
       "    <tr>\n",
       "      <th>4</th>\n",
       "      <td>0.0074401740</td>\n",
       "      <td>0.0074649743</td>\n",
       "      <td>0.0076647573</td>\n",
       "      <td>0.0099112967</td>\n",
       "      <td>0.0492337337</td>\n",
       "      <td>0.2250664644</td>\n",
       "      <td>0.0003425663</td>\n",
       "    </tr>\n",
       "    <tr>\n",
       "      <th>5</th>\n",
       "      <td>0.0008266860</td>\n",
       "      <td>0.0008303326</td>\n",
       "      <td>0.0008598581</td>\n",
       "      <td>0.0012091925</td>\n",
       "      <td>0.0107338889</td>\n",
       "      <td>0.1250369247</td>\n",
       "      <td>0.0038062920</td>\n",
       "    </tr>\n",
       "    <tr>\n",
       "      <th>6</th>\n",
       "      <td>0.0000612360</td>\n",
       "      <td>0.0000615722</td>\n",
       "      <td>0.0000643078</td>\n",
       "      <td>0.0000983405</td>\n",
       "      <td>0.0015535902</td>\n",
       "      <td>0.0463099721</td>\n",
       "      <td>0.0281947555</td>\n",
       "    </tr>\n",
       "    <tr>\n",
       "      <th>7</th>\n",
       "      <td>0.0000029160</td>\n",
       "      <td>0.0000029352</td>\n",
       "      <td>0.0000030918</td>\n",
       "      <td>0.0000051410</td>\n",
       "      <td>0.0001439583</td>\n",
       "      <td>0.0110261838</td>\n",
       "      <td>0.1342607405</td>\n",
       "    </tr>\n",
       "    <tr>\n",
       "      <th>8</th>\n",
       "      <td>0.0000000810</td>\n",
       "      <td>0.0000000816</td>\n",
       "      <td>0.0000000867</td>\n",
       "      <td>0.0000001568</td>\n",
       "      <td>0.0000077498</td>\n",
       "      <td>0.0015314144</td>\n",
       "      <td>0.3729465014</td>\n",
       "    </tr>\n",
       "    <tr>\n",
       "      <th>9</th>\n",
       "      <td>0.0000000010</td>\n",
       "      <td>0.0000000010</td>\n",
       "      <td>0.0000000011</td>\n",
       "      <td>0.0000000021</td>\n",
       "      <td>0.0000001847</td>\n",
       "      <td>0.0000945318</td>\n",
       "      <td>0.4604277795</td>\n",
       "    </tr>\n",
       "  </tbody>\n",
       "</table>\n",
       "</div>"
      ],
      "text/plain": [
       "    ProbEqDist      ProbSz1     ProbSz10    ProbSz100   ProbSz1000  \\\n",
       "0 0.3874204926 0.3870461382 0.3840711078 0.3547561541 0.1655962678   \n",
       "1 0.3874204926 0.3874619048 0.3877783938 0.3896599413 0.3306708564   \n",
       "2 0.1721868839 0.1723902744 0.1740094322 0.1902049223 0.2921526283   \n",
       "3 0.0446410440 0.0447417845 0.0455489633 0.0541548528 0.1499071419   \n",
       "4 0.0074401740 0.0074649743 0.0076647573 0.0099112967 0.0492337337   \n",
       "5 0.0008266860 0.0008303326 0.0008598581 0.0012091925 0.0107338889   \n",
       "6 0.0000612360 0.0000615722 0.0000643078 0.0000983405 0.0015535902   \n",
       "7 0.0000029160 0.0000029352 0.0000030918 0.0000051410 0.0001439583   \n",
       "8 0.0000000810 0.0000000816 0.0000000867 0.0000001568 0.0000077498   \n",
       "9 0.0000000010 0.0000000010 0.0000000011 0.0000000021 0.0000001847   \n",
       "\n",
       "      ProbSzX5   ProbSzX100  \n",
       "0 0.0187512517 0.0000000002  \n",
       "1 0.0937562592 0.0000000178  \n",
       "2 0.2083472413 0.0000007928  \n",
       "3 0.2700797573 0.0000205540  \n",
       "4 0.2250664644 0.0003425663  \n",
       "5 0.1250369247 0.0038062920  \n",
       "6 0.0463099721 0.0281947555  \n",
       "7 0.0110261838 0.1342607405  \n",
       "8 0.0015314144 0.3729465014  \n",
       "9 0.0000945318 0.4604277795  "
      ]
     },
     "execution_count": 66,
     "metadata": {},
     "output_type": "execute_result"
    }
   ],
   "source": [
    "pd.options.display.float_format = \"{:,.10f}\".format\n",
    "df_Probabilities"
   ]
  },
  {
   "cell_type": "code",
   "execution_count": 89,
   "metadata": {
    "scrolled": true
   },
   "outputs": [
    {
     "data": {
      "image/png": "[encoded data removed]",
      "text/plain": [
       "<Figure size 1224x504 with 2 Axes>"
      ]
     },
     "metadata": {
      "needs_background": "light"
     },
     "output_type": "display_data"
    }
   ],
   "source": [
    "fig, axes = plt.subplots(nrows=1, ncols=2)\n",
    "df_RTP_of_k_hits = pd.concat([\n",
    "           df_weighted_equally[['RTP_of_k_hits']].astype(float).rename(columns={\"RTP_of_k_hits\": \"RTP_of_k_hitsEqDist\"}),\n",
    "           df_weightedSz1[['RTP_of_k_hits']].astype(float).rename(columns={\"RTP_of_k_hits\": \"RTP_of_k_hitsSz1\"}),\n",
    "           df_weightedSz10[['RTP_of_k_hits']].astype(float).rename(columns={\"RTP_of_k_hits\": \"RTP_of_k_hitsSz10\"}),\n",
    "           df_weightedSz100[['RTP_of_k_hits']].astype(float).rename(columns={\"RTP_of_k_hits\": \"RTP_of_k_hitsSz100\"}),\n",
    "           df_weightedSz1000[['RTP_of_k_hits']].astype(float).rename(columns={\"RTP_of_k_hits\": \"RTP_of_k_hitsSz1000\"}),  \n",
    "           df_weightedSzX5[['RTP_of_k_hits']].astype(float).rename(columns={\"RTP_of_k_hits\": \"RTP_of_k_hitsSzX5\"}),\n",
    "           df_weightedSzX100[['RTP_of_k_hits']].astype(float).rename(columns={\"RTP_of_k_hits\": \"RTP_of_k_hitsSzX100\"})\n",
    "        ],axis=1)\n",
    "\n",
    "df_RTP_of_k_hits[['RTP_of_k_hitsEqDist','RTP_of_k_hitsSz1','RTP_of_k_hitsSz10','RTP_of_k_hitsSz100','RTP_of_k_hitsSz1000']].plot(figsize=(18,7), ax=axes[0])\n",
    "df_RTP_of_k_hits[['RTP_of_k_hitsSzX5','RTP_of_k_hitsSzX100']].plot(figsize=(17,7), ax=axes[1])\n",
    "plt.show()"
   ]
  },
  {
   "cell_type": "markdown",
   "metadata": {},
   "source": [
    "The categories' RTP increases enormously due to the increased categories' probabilities."
   ]
  },
  {
   "cell_type": "code",
   "execution_count": 90,
   "metadata": {},
   "outputs": [
    {
     "data": {
      "text/html": [
       "<div>\n",
       "<style scoped>\n",
       "    .dataframe tbody tr th:only-of-type {\n",
       "        vertical-align: middle;\n",
       "    }\n",
       "\n",
       "    .dataframe tbody tr th {\n",
       "        vertical-align: top;\n",
       "    }\n",
       "\n",
       "    .dataframe thead th {\n",
       "        text-align: right;\n",
       "    }\n",
       "</style>\n",
       "<table border=\"1\" class=\"dataframe\">\n",
       "  <thead>\n",
       "    <tr style=\"text-align: right;\">\n",
       "      <th></th>\n",
       "      <th>RTP_of_k_hitsEqDist</th>\n",
       "      <th>RTP_of_k_hitsSz1</th>\n",
       "      <th>RTP_of_k_hitsSz10</th>\n",
       "      <th>RTP_of_k_hitsSz100</th>\n",
       "      <th>RTP_of_k_hitsSz1000</th>\n",
       "      <th>RTP_of_k_hitsSzX5</th>\n",
       "      <th>RTP_of_k_hitsSzX100</th>\n",
       "    </tr>\n",
       "  </thead>\n",
       "  <tbody>\n",
       "    <tr>\n",
       "      <th>0</th>\n",
       "      <td>0.0000000000</td>\n",
       "      <td>0.0000000000</td>\n",
       "      <td>0.0000000000</td>\n",
       "      <td>0.0000000000</td>\n",
       "      <td>0.0000000000</td>\n",
       "      <td>0.0000000000</td>\n",
       "      <td>0.0000000000</td>\n",
       "    </tr>\n",
       "    <tr>\n",
       "      <th>1</th>\n",
       "      <td>0.0000000000</td>\n",
       "      <td>0.0000000000</td>\n",
       "      <td>0.0000000000</td>\n",
       "      <td>0.0000000000</td>\n",
       "      <td>0.0000000000</td>\n",
       "      <td>0.0000000000</td>\n",
       "      <td>0.0000000000</td>\n",
       "    </tr>\n",
       "    <tr>\n",
       "      <th>2</th>\n",
       "      <td>0.1721868839</td>\n",
       "      <td>0.1723902744</td>\n",
       "      <td>0.1740094322</td>\n",
       "      <td>0.1902049223</td>\n",
       "      <td>0.2921526283</td>\n",
       "      <td>0.2083472413</td>\n",
       "      <td>0.0000007928</td>\n",
       "    </tr>\n",
       "    <tr>\n",
       "      <th>3</th>\n",
       "      <td>0.2232052199</td>\n",
       "      <td>0.2237089227</td>\n",
       "      <td>0.2277448167</td>\n",
       "      <td>0.2707742639</td>\n",
       "      <td>0.7495357096</td>\n",
       "      <td>1.3503987867</td>\n",
       "      <td>0.0001027699</td>\n",
       "    </tr>\n",
       "    <tr>\n",
       "      <th>4</th>\n",
       "      <td>0.3720087000</td>\n",
       "      <td>0.3732487129</td>\n",
       "      <td>0.3832378664</td>\n",
       "      <td>0.4955648336</td>\n",
       "      <td>2.4616866836</td>\n",
       "      <td>11.2533232185</td>\n",
       "      <td>0.0171283140</td>\n",
       "    </tr>\n",
       "    <tr>\n",
       "      <th>5</th>\n",
       "      <td>0.0826686000</td>\n",
       "      <td>0.0830332554</td>\n",
       "      <td>0.0859858113</td>\n",
       "      <td>0.1209192531</td>\n",
       "      <td>1.0733888934</td>\n",
       "      <td>12.5036924653</td>\n",
       "      <td>0.3806291993</td>\n",
       "    </tr>\n",
       "    <tr>\n",
       "      <th>6</th>\n",
       "      <td>0.0612360000</td>\n",
       "      <td>0.0615721833</td>\n",
       "      <td>0.0643077995</td>\n",
       "      <td>0.0983405114</td>\n",
       "      <td>1.5535902437</td>\n",
       "      <td>46.3099720940</td>\n",
       "      <td>28.1947555065</td>\n",
       "    </tr>\n",
       "    <tr>\n",
       "      <th>7</th>\n",
       "      <td>0.0291600000</td>\n",
       "      <td>0.0293515820</td>\n",
       "      <td>0.0309182361</td>\n",
       "      <td>0.0514099720</td>\n",
       "      <td>1.4395834245</td>\n",
       "      <td>110.2618383191</td>\n",
       "      <td>1,342.6074050695</td>\n",
       "    </tr>\n",
       "    <tr>\n",
       "      <th>8</th>\n",
       "      <td>0.0081000000</td>\n",
       "      <td>0.0081619751</td>\n",
       "      <td>0.0086712617</td>\n",
       "      <td>0.0156762661</td>\n",
       "      <td>0.7749776904</td>\n",
       "      <td>153.1414421098</td>\n",
       "      <td>37,294.6501408205</td>\n",
       "    </tr>\n",
       "    <tr>\n",
       "      <th>9</th>\n",
       "      <td>0.0010000000</td>\n",
       "      <td>0.0010087340</td>\n",
       "      <td>0.0010808540</td>\n",
       "      <td>0.0021243160</td>\n",
       "      <td>0.1846805690</td>\n",
       "      <td>94.5317543890</td>\n",
       "      <td>460,427.7795163010</td>\n",
       "    </tr>\n",
       "  </tbody>\n",
       "</table>\n",
       "</div>"
      ],
      "text/plain": [
       "   RTP_of_k_hitsEqDist  RTP_of_k_hitsSz1  RTP_of_k_hitsSz10  \\\n",
       "0         0.0000000000      0.0000000000       0.0000000000   \n",
       "1         0.0000000000      0.0000000000       0.0000000000   \n",
       "2         0.1721868839      0.1723902744       0.1740094322   \n",
       "3         0.2232052199      0.2237089227       0.2277448167   \n",
       "4         0.3720087000      0.3732487129       0.3832378664   \n",
       "5         0.0826686000      0.0830332554       0.0859858113   \n",
       "6         0.0612360000      0.0615721833       0.0643077995   \n",
       "7         0.0291600000      0.0293515820       0.0309182361   \n",
       "8         0.0081000000      0.0081619751       0.0086712617   \n",
       "9         0.0010000000      0.0010087340       0.0010808540   \n",
       "\n",
       "   RTP_of_k_hitsSz100  RTP_of_k_hitsSz1000  RTP_of_k_hitsSzX5  \\\n",
       "0        0.0000000000         0.0000000000       0.0000000000   \n",
       "1        0.0000000000         0.0000000000       0.0000000000   \n",
       "2        0.1902049223         0.2921526283       0.2083472413   \n",
       "3        0.2707742639         0.7495357096       1.3503987867   \n",
       "4        0.4955648336         2.4616866836      11.2533232185   \n",
       "5        0.1209192531         1.0733888934      12.5036924653   \n",
       "6        0.0983405114         1.5535902437      46.3099720940   \n",
       "7        0.0514099720         1.4395834245     110.2618383191   \n",
       "8        0.0156762661         0.7749776904     153.1414421098   \n",
       "9        0.0021243160         0.1846805690      94.5317543890   \n",
       "\n",
       "   RTP_of_k_hitsSzX100  \n",
       "0         0.0000000000  \n",
       "1         0.0000000000  \n",
       "2         0.0000007928  \n",
       "3         0.0001027699  \n",
       "4         0.0171283140  \n",
       "5         0.3806291993  \n",
       "6        28.1947555065  \n",
       "7     1,342.6074050695  \n",
       "8    37,294.6501408205  \n",
       "9   460,427.7795163010  "
      ]
     },
     "execution_count": 90,
     "metadata": {},
     "output_type": "execute_result"
    }
   ],
   "source": [
    "df_RTP_of_k_hits"
   ]
  }
 ],
 "metadata": {
  "kernelspec": {
   "display_name": "Python 3",
   "language": "python",
   "name": "python3"
  },
  "language_info": {
   "codemirror_mode": {
    "name": "ipython",
    "version": 3
   },
   "file_extension": ".py",
   "mimetype": "text/x-python",
   "name": "python",
   "nbconvert_exporter": "python",
   "pygments_lexer": "ipython3",
   "version": "3.8.5"
  },
  "toc": {
   "base_numbering": 1,
   "nav_menu": {},
   "number_sections": true,
   "sideBar": true,
   "skip_h1_title": false,
   "title_cell": "Table of Contents",
   "title_sidebar": "Contents",
   "toc_cell": false,
   "toc_position": {},
   "toc_section_display": true,
   "toc_window_display": false
  },
  "varInspector": {
   "cols": {
    "lenName": 16,
    "lenType": 16,
    "lenVar": 40
   },
   "kernels_config": {
    "python": {
     "delete_cmd_postfix": "",
     "delete_cmd_prefix": "del ",
     "library": "var_list.py",
     "varRefreshCmd": "print(var_dic_list())"
    },
    "r": {
     "delete_cmd_postfix": ") ",
     "delete_cmd_prefix": "rm(",
     "library": "var_list.r",
     "varRefreshCmd": "cat(var_dic_list()) "
    }
   },
   "types_to_exclude": [
    "module",
    "function",
    "builtin_function_or_method",
    "instance",
    "_Feature"
   ],
   "window_display": false
  }
 },
 "nbformat": 4,
 "nbformat_minor": 2
}

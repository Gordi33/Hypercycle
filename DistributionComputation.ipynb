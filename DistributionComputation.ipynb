{
 "cells": [
  {
   "cell_type": "markdown",
   "metadata": {},
   "source": [
    "# Distribution computation for multiple manipluated dices\n",
    "\n",
    "Computing the distribution allows to modell **game design' specific payouts**.\n",
    "A fixed number of dices, which represent the independent events, are considered. Additionally, each dice has a fixed number of outcomes, which can be weighted. In this sense manipulated dices means:\n",
    " - dice can have more than six outcomes\n",
    " - the outcomes can be weighted\n",
    " \n",
    " \n",
    " - Part 3: A general formula for a fixed number of equally-distributed outcomes for each dice. Creating a game' payout based on the distribution\n",
    " - Part 4: Cycle evaluation for a fixed number of events with weighted-outcomes in C# accessed via REST-API\n",
    "\n"
   ]
  },
  {
   "cell_type": "markdown",
   "metadata": {},
   "source": [
    "# Imports"
   ]
  },
  {
   "cell_type": "code",
   "execution_count": 14,
   "metadata": {},
   "outputs": [],
   "source": [
    "import sys\n",
    "sys.path.insert(0, 'lib\\\\')\n",
    "import pandas as pd \n",
    "import numpy as np\n",
    "from matplotlib import pyplot as plt\n",
    "import scipy.special"
   ]
  },
  {
   "cell_type": "markdown",
   "metadata": {},
   "source": [
    "# A general formula for a fixed number of events with equally-distributed outcomes\n",
    "Part 3: Deriving a formula for computing the hits and the probabilities for a fixed number of dices, having a fixed number of equally-distributed outcomes."
   ]
  },
  {
   "cell_type": "markdown",
   "metadata": {},
   "source": [
    "Let numOutcomes be the number of outcomes for each event and let numEvent be the number of events resp. dices. \n",
    "\n",
    " - The total cycle represents all combinations and can be evaluated by:\n",
    "\n",
    "$$ totalCycle = {numOutcomes}^{numEvents}$$\n",
    "\n",
    "For example, having 9 dices and each dice has 10 different outcomes leads to a total cycle of:"
   ]
  },
  {
   "cell_type": "code",
   "execution_count": 45,
   "metadata": {},
   "outputs": [
    {
     "name": "stdout",
     "output_type": "stream",
     "text": [
      "1,000,000,000\n"
     ]
    }
   ],
   "source": [
    "numEvents = 9\n",
    "numOutcomes = 10\n",
    "totalCycle = numOutcomes**numEvents\n",
    "print(f\"{totalCycle:,}\")"
   ]
  },
  {
   "attachments": {},
   "cell_type": "markdown",
   "metadata": {},
   "source": [
    "The number of hits, denoted by k, can be evaluated by:\n",
    " \n",
    "$$hits(k) = \\binom{numEvents}{k} * {(numOutcomes-1)}^{(numEvents - k)}$$\n",
    "\n",
    "--- \n",
    "This fact derives out of the following:\n",
    " 1. Firstly, the number of hits resp. correct scores out of a given number of events is determined by the binomial coefficient. For example, having 2 hits on 9 dices with 10 outcomes leads to 36 different hit-combinations:\n",
    "\n",
    "$$\\binom{9}{2} = 36$$\n",
    "\n",
    "\n",
    " 2. Secondly, for each hit-combination, the other dices need to cycle through all no-hit-combinations i.e., which do not lead to another hit. The number of no-hits on a dice is simply (numOutcomes - 1) and the number of dices, which show no-hit is (numEvent - k). Continuing with the example determines 7 no-hits dices and, on each 9 outcomes with no-hit:\n",
    "\n",
    "$${(10-1)}^{(9 - 2)} = {(9)}^{(7)} = 4,782,969 $$\n",
    "\n",
    "\n",
    " 3. Thirdly, the product determines the total success-hits within the cycle. For 2 hits with 9 dices having 10 outcomes:\n",
    "   \n",
    "$$\\binom{9}{2} * {(10-1)}^{(9 - 2)} = 36 * 4,782,969 = 172,186,884 $$\n",
    "\n",
    "---\n",
    "\n",
    "Summing up all hits, for k = 0,...,numEvents; leads to\n",
    "\n",
    "$$ totalCycle = {numOutcomes}^{numEvents} = \\sum_{k=0}^{numEvents} \\binom{numEvents}{k} * {(numOutcomes-1)}^{(numEvents - k)}$$ \n",
    "\n",
    "\n",
    "The probability of having k hits is then simply the ratio:\n",
    "\n",
    "$$P(X=k) = \\frac{hits(k)}{totalCycle} = \\frac{\\binom{numEvents}{k} * {(numOutcomes-1)}^{(numEvents - k)}}{{numOutcomes}^{numEvents}}$$\n",
    "  \n",
    "\n",
    "Continuing with the example, the probability of having 2 hits wiht 9 dices with 10 outcomes:\n",
    "  \n",
    "$$P(X=2) = \\frac{\\binom{9}{2} * {(10-1)}^{(9 - 2)}}{{10}^{9}} = 0.172186884 $$"
   ]
  },
  {
   "cell_type": "code",
   "execution_count": 95,
   "metadata": {},
   "outputs": [
    {
     "data": {
      "text/html": [
       "<div>\n",
       "<style scoped>\n",
       "    .dataframe tbody tr th:only-of-type {\n",
       "        vertical-align: middle;\n",
       "    }\n",
       "\n",
       "    .dataframe tbody tr th {\n",
       "        vertical-align: top;\n",
       "    }\n",
       "\n",
       "    .dataframe thead th {\n",
       "        text-align: right;\n",
       "    }\n",
       "</style>\n",
       "<table border=\"1\" class=\"dataframe\">\n",
       "  <thead>\n",
       "    <tr style=\"text-align: right;\">\n",
       "      <th></th>\n",
       "      <th>Number of different combinations of hits, which lead to k hits</th>\n",
       "      <th>Number of different combinations of no-hits</th>\n",
       "      <th>Total hits for k</th>\n",
       "      <th>Accumulated hits</th>\n",
       "      <th>P(X)</th>\n",
       "    </tr>\n",
       "  </thead>\n",
       "  <tbody>\n",
       "    <tr>\n",
       "      <th>0</th>\n",
       "      <td>1</td>\n",
       "      <td>387,420,489</td>\n",
       "      <td>387,420,489</td>\n",
       "      <td>387,420,489</td>\n",
       "      <td>0.387420489</td>\n",
       "    </tr>\n",
       "    <tr>\n",
       "      <th>1</th>\n",
       "      <td>9</td>\n",
       "      <td>43,046,721</td>\n",
       "      <td>387,420,489</td>\n",
       "      <td>774,840,978</td>\n",
       "      <td>0.387420489</td>\n",
       "    </tr>\n",
       "    <tr>\n",
       "      <th>2</th>\n",
       "      <td>36</td>\n",
       "      <td>4,782,969</td>\n",
       "      <td>172,186,884</td>\n",
       "      <td>947,027,862</td>\n",
       "      <td>0.172186884</td>\n",
       "    </tr>\n",
       "    <tr>\n",
       "      <th>3</th>\n",
       "      <td>84</td>\n",
       "      <td>531,441</td>\n",
       "      <td>44,641,044</td>\n",
       "      <td>991,668,906</td>\n",
       "      <td>0.044641044</td>\n",
       "    </tr>\n",
       "    <tr>\n",
       "      <th>4</th>\n",
       "      <td>126</td>\n",
       "      <td>59,049</td>\n",
       "      <td>7,440,174</td>\n",
       "      <td>999,109,080</td>\n",
       "      <td>0.007440174</td>\n",
       "    </tr>\n",
       "    <tr>\n",
       "      <th>5</th>\n",
       "      <td>126</td>\n",
       "      <td>6,561</td>\n",
       "      <td>826,686</td>\n",
       "      <td>999,935,766</td>\n",
       "      <td>0.000826686</td>\n",
       "    </tr>\n",
       "    <tr>\n",
       "      <th>6</th>\n",
       "      <td>84</td>\n",
       "      <td>729</td>\n",
       "      <td>61,236</td>\n",
       "      <td>999,997,002</td>\n",
       "      <td>0.000061236</td>\n",
       "    </tr>\n",
       "    <tr>\n",
       "      <th>7</th>\n",
       "      <td>36</td>\n",
       "      <td>81</td>\n",
       "      <td>2,916</td>\n",
       "      <td>999,999,918</td>\n",
       "      <td>0.000002916</td>\n",
       "    </tr>\n",
       "    <tr>\n",
       "      <th>8</th>\n",
       "      <td>9</td>\n",
       "      <td>9</td>\n",
       "      <td>81</td>\n",
       "      <td>999,999,999</td>\n",
       "      <td>0.000000081</td>\n",
       "    </tr>\n",
       "    <tr>\n",
       "      <th>9</th>\n",
       "      <td>1</td>\n",
       "      <td>1</td>\n",
       "      <td>1</td>\n",
       "      <td>1,000,000,000</td>\n",
       "      <td>0.000000001</td>\n",
       "    </tr>\n",
       "  </tbody>\n",
       "</table>\n",
       "</div>"
      ],
      "text/plain": [
       "   Number of different combinations of hits, which lead to k hits  \\\n",
       "0                                                  1                \n",
       "1                                                  9                \n",
       "2                                                 36                \n",
       "3                                                 84                \n",
       "4                                                126                \n",
       "5                                                126                \n",
       "6                                                 84                \n",
       "7                                                 36                \n",
       "8                                                  9                \n",
       "9                                                  1                \n",
       "\n",
       "   Number of different combinations of no-hits  Total hits for k  \\\n",
       "0                                  387,420,489       387,420,489   \n",
       "1                                   43,046,721       387,420,489   \n",
       "2                                    4,782,969       172,186,884   \n",
       "3                                      531,441        44,641,044   \n",
       "4                                       59,049         7,440,174   \n",
       "5                                        6,561           826,686   \n",
       "6                                          729            61,236   \n",
       "7                                           81             2,916   \n",
       "8                                            9                81   \n",
       "9                                            1                 1   \n",
       "\n",
       "   Accumulated hits         P(X)  \n",
       "0       387,420,489  0.387420489  \n",
       "1       774,840,978  0.387420489  \n",
       "2       947,027,862  0.172186884  \n",
       "3       991,668,906  0.044641044  \n",
       "4       999,109,080  0.007440174  \n",
       "5       999,935,766  0.000826686  \n",
       "6       999,997,002  0.000061236  \n",
       "7       999,999,918  0.000002916  \n",
       "8       999,999,999  0.000000081  \n",
       "9     1,000,000,000  0.000000001  "
      ]
     },
     "execution_count": 95,
     "metadata": {},
     "output_type": "execute_result"
    }
   ],
   "source": [
    "temp = [[0 for x in range(numEvents+1)] for y in range(5)]\n",
    "acc_hits = 0\n",
    "\n",
    "for i in range(numEvents+1):\n",
    "    temp[0][i] = scipy.special.binom(numEvents, i)\n",
    "    temp[1][i] = (numOutcomes-1)**(numEvents - i)\n",
    "    temp[2][i] = temp[0][i] * temp[1][i]\n",
    "    acc_hits = acc_hits + temp[2][i] \n",
    "    temp[3][i] = acc_hits\n",
    "    temp[4][i] = temp[2][i] *1.0 / totalCycle * 1.0\n",
    "\n",
    "pd.options.display.float_format = '{:,.0f}'.format  \n",
    "df = pd.DataFrame(temp).transpose().rename(columns={0: \"Number of different combinations of hits, which lead to k hits\", \n",
    "                                               1: \"Number of different combinations of no-hits\",\n",
    "                                               2: \"Total hits for k\",\n",
    "                                               3: \"Accumulated hits\", \n",
    "                                               4: \"P(X)\"})\n",
    "df['P(X)'] = df['P(X)'].map('{:,.9f}'.format)\n",
    "df"
   ]
  },
  {
   "cell_type": "markdown",
   "metadata": {},
   "source": [
    "## Creating a game specific payout based on the distribution"
   ]
  },
  {
   "cell_type": "markdown",
   "metadata": {},
   "source": [
    "The goal of the set-up of game is it to award a specific win. The game's stake is 1 and **return-to-player** should be <100%."
   ]
  },
  {
   "cell_type": "code",
   "execution_count": 96,
   "metadata": {},
   "outputs": [
    {
     "data": {
      "text/html": [
       "<div>\n",
       "<style scoped>\n",
       "    .dataframe tbody tr th:only-of-type {\n",
       "        vertical-align: middle;\n",
       "    }\n",
       "\n",
       "    .dataframe tbody tr th {\n",
       "        vertical-align: top;\n",
       "    }\n",
       "\n",
       "    .dataframe thead th {\n",
       "        text-align: right;\n",
       "    }\n",
       "</style>\n",
       "<table border=\"1\" class=\"dataframe\">\n",
       "  <thead>\n",
       "    <tr style=\"text-align: right;\">\n",
       "      <th></th>\n",
       "      <th>Number of different combinations of hits, which lead to k hits</th>\n",
       "      <th>Number of different combinations of no-hits</th>\n",
       "      <th>Total hits for k</th>\n",
       "      <th>Accumulated hits</th>\n",
       "      <th>P(X)</th>\n",
       "      <th>Payouts</th>\n",
       "    </tr>\n",
       "  </thead>\n",
       "  <tbody>\n",
       "    <tr>\n",
       "      <th>0</th>\n",
       "      <td>1</td>\n",
       "      <td>387,420,489</td>\n",
       "      <td>387,420,489</td>\n",
       "      <td>387,420,489</td>\n",
       "      <td>0.387420489</td>\n",
       "      <td>0</td>\n",
       "    </tr>\n",
       "    <tr>\n",
       "      <th>1</th>\n",
       "      <td>9</td>\n",
       "      <td>43,046,721</td>\n",
       "      <td>387,420,489</td>\n",
       "      <td>774,840,978</td>\n",
       "      <td>0.387420489</td>\n",
       "      <td>0</td>\n",
       "    </tr>\n",
       "    <tr>\n",
       "      <th>2</th>\n",
       "      <td>36</td>\n",
       "      <td>4,782,969</td>\n",
       "      <td>172,186,884</td>\n",
       "      <td>947,027,862</td>\n",
       "      <td>0.172186884</td>\n",
       "      <td>1</td>\n",
       "    </tr>\n",
       "    <tr>\n",
       "      <th>3</th>\n",
       "      <td>84</td>\n",
       "      <td>531,441</td>\n",
       "      <td>44,641,044</td>\n",
       "      <td>991,668,906</td>\n",
       "      <td>0.044641044</td>\n",
       "      <td>5</td>\n",
       "    </tr>\n",
       "    <tr>\n",
       "      <th>4</th>\n",
       "      <td>126</td>\n",
       "      <td>59,049</td>\n",
       "      <td>7,440,174</td>\n",
       "      <td>999,109,080</td>\n",
       "      <td>0.007440174</td>\n",
       "      <td>50</td>\n",
       "    </tr>\n",
       "    <tr>\n",
       "      <th>5</th>\n",
       "      <td>126</td>\n",
       "      <td>6,561</td>\n",
       "      <td>826,686</td>\n",
       "      <td>999,935,766</td>\n",
       "      <td>0.000826686</td>\n",
       "      <td>100</td>\n",
       "    </tr>\n",
       "    <tr>\n",
       "      <th>6</th>\n",
       "      <td>84</td>\n",
       "      <td>729</td>\n",
       "      <td>61,236</td>\n",
       "      <td>999,997,002</td>\n",
       "      <td>0.000061236</td>\n",
       "      <td>1,000</td>\n",
       "    </tr>\n",
       "    <tr>\n",
       "      <th>7</th>\n",
       "      <td>36</td>\n",
       "      <td>81</td>\n",
       "      <td>2,916</td>\n",
       "      <td>999,999,918</td>\n",
       "      <td>0.000002916</td>\n",
       "      <td>10,000</td>\n",
       "    </tr>\n",
       "    <tr>\n",
       "      <th>8</th>\n",
       "      <td>9</td>\n",
       "      <td>9</td>\n",
       "      <td>81</td>\n",
       "      <td>999,999,999</td>\n",
       "      <td>0.000000081</td>\n",
       "      <td>100,000</td>\n",
       "    </tr>\n",
       "    <tr>\n",
       "      <th>9</th>\n",
       "      <td>1</td>\n",
       "      <td>1</td>\n",
       "      <td>1</td>\n",
       "      <td>1,000,000,000</td>\n",
       "      <td>0.000000001</td>\n",
       "      <td>1,000,000</td>\n",
       "    </tr>\n",
       "  </tbody>\n",
       "</table>\n",
       "</div>"
      ],
      "text/plain": [
       "   Number of different combinations of hits, which lead to k hits  \\\n",
       "0                                                  1                \n",
       "1                                                  9                \n",
       "2                                                 36                \n",
       "3                                                 84                \n",
       "4                                                126                \n",
       "5                                                126                \n",
       "6                                                 84                \n",
       "7                                                 36                \n",
       "8                                                  9                \n",
       "9                                                  1                \n",
       "\n",
       "   Number of different combinations of no-hits  Total hits for k  \\\n",
       "0                                  387,420,489       387,420,489   \n",
       "1                                   43,046,721       387,420,489   \n",
       "2                                    4,782,969       172,186,884   \n",
       "3                                      531,441        44,641,044   \n",
       "4                                       59,049         7,440,174   \n",
       "5                                        6,561           826,686   \n",
       "6                                          729            61,236   \n",
       "7                                           81             2,916   \n",
       "8                                            9                81   \n",
       "9                                            1                 1   \n",
       "\n",
       "   Accumulated hits         P(X)   Payouts  \n",
       "0       387,420,489  0.387420489         0  \n",
       "1       774,840,978  0.387420489         0  \n",
       "2       947,027,862  0.172186884         1  \n",
       "3       991,668,906  0.044641044         5  \n",
       "4       999,109,080  0.007440174        50  \n",
       "5       999,935,766  0.000826686       100  \n",
       "6       999,997,002  0.000061236     1,000  \n",
       "7       999,999,918  0.000002916    10,000  \n",
       "8       999,999,999  0.000000081   100,000  \n",
       "9     1,000,000,000  0.000000001 1,000,000  "
      ]
     },
     "execution_count": 96,
     "metadata": {},
     "output_type": "execute_result"
    }
   ],
   "source": [
    "payouts = [0.0,0.0,1.0,5.0,50.0,100.0,1000.0,10000.0,100000.0,1000000.0]\n",
    "df['Payouts'] = payouts\n",
    "df"
   ]
  },
  {
   "cell_type": "markdown",
   "metadata": {},
   "source": [
    "For each hit-category a fictious payout based on the game's distribution is defined. The **hold** resp. margin, which is defined by 1-RTP is achieved by downgrading each hit-category further. \n",
    "\n",
    "The RTP is then simply defined by:\n",
    "\n",
    "\n",
    "$$ RTP = \\sum_{k=0}^{numEvents} Payouts(k) * P(X=k)$$   \n"
   ]
  },
  {
   "cell_type": "code",
   "execution_count": 97,
   "metadata": {},
   "outputs": [
    {
     "name": "stdout",
     "output_type": "stream",
     "text": [
      "RTP = 0.949565404\n"
     ]
    }
   ],
   "source": [
    "df['RTP of k hits'] = df['Payouts'].astype(float) * df['P(X)'].astype(float)\n",
    "df['RTP of k hits'] = df['RTP of k hits'].map('{:,.9f}'.format)\n",
    "df\n",
    "print('RTP =', df['RTP of k hits'].astype(float).sum())"
   ]
  },
  {
   "cell_type": "markdown",
   "metadata": {},
   "source": [
    "# Cycle evaluation for a fixed number of events with weighted-outcomes in C# accessed via REST-API\n",
    "Part 4: .. ."
   ]
  },
  {
   "cell_type": "markdown",
   "metadata": {},
   "source": [
    "..."
   ]
  },
  {
   "cell_type": "markdown",
   "metadata": {},
   "source": [
    "...\n",
    ".."
   ]
  }
 ],
 "metadata": {
  "kernelspec": {
   "display_name": "Python 3",
   "language": "python",
   "name": "python3"
  },
  "language_info": {
   "codemirror_mode": {
    "name": "ipython",
    "version": 3
   },
   "file_extension": ".py",
   "mimetype": "text/x-python",
   "name": "python",
   "nbconvert_exporter": "python",
   "pygments_lexer": "ipython3",
   "version": "3.8.5"
  },
  "toc": {
   "base_numbering": 1,
   "nav_menu": {},
   "number_sections": true,
   "sideBar": true,
   "skip_h1_title": false,
   "title_cell": "Table of Contents",
   "title_sidebar": "Contents",
   "toc_cell": false,
   "toc_position": {},
   "toc_section_display": true,
   "toc_window_display": false
  },
  "varInspector": {
   "cols": {
    "lenName": 16,
    "lenType": 16,
    "lenVar": 40
   },
   "kernels_config": {
    "python": {
     "delete_cmd_postfix": "",
     "delete_cmd_prefix": "del ",
     "library": "var_list.py",
     "varRefreshCmd": "print(var_dic_list())"
    },
    "r": {
     "delete_cmd_postfix": ") ",
     "delete_cmd_prefix": "rm(",
     "library": "var_list.r",
     "varRefreshCmd": "cat(var_dic_list()) "
    }
   },
   "types_to_exclude": [
    "module",
    "function",
    "builtin_function_or_method",
    "instance",
    "_Feature"
   ],
   "window_display": false
  }
 },
 "nbformat": 4,
 "nbformat_minor": 2
}

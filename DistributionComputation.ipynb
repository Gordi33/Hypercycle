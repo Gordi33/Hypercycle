{
 "cells": [
  {
   "cell_type": "markdown",
   "metadata": {},
   "source": [
    "# Distribution computation in C# accessed via REST-API for multiple events having multiple weighted outcomes\n",
    "\n",
    "Computing the distribution allows to modell **game design' specific payout-profiles**.\n",
    "A general formula allows to determine the exact distribution on equally-distributed outcomes. A cylce-evaluation further allows to consider weighted-outcomes. With the help of the exact distribution the RTP can be controlled exactly. Furthermore, modifying the outcome-probabilities resp. weights allows to fine-tune the RTP and additionally, tune the [**game behaviour**](https://nbviewer.jupyter.org/github/Gordi33/The-Laws-of-the-Game/blob/master/PlayersSurvivalWhenThrowingDices.ipynb). It is also shown that if the probabilities resp. weights fluctuate while keeping the payout-profile constant that the RTP increases with the volatility of the weights. This is an important insight, if probabilities are only approximations resp. **implied probabilities** and not priori probability then the risk of having a higher RTP increases with the volatility.\n",
    " \n",
    " - Part 3: Deriving a general formula for a fixed number of equally-distributed outcomes for each event. Creating a game specific payout for events having equally-distributed outcomes based on the distribution.\n",
    " - Part 4: Cycle evaluation for a fixed number of events with weighted-outcomes in **C# accessed via REST-API**. Creating a game specific payout for events having weighted outcomes based on the distribution. Here,\n",
    " - Part5: RTP'impact of the different szenarios for increased volatility on the weights."
   ]
  },
  {
   "cell_type": "markdown",
   "metadata": {},
   "source": [
    "# Imports"
   ]
  },
  {
   "cell_type": "code",
   "execution_count": 1,
   "metadata": {},
   "outputs": [],
   "source": [
    "import sys\n",
    "sys.path.insert(0, 'lib\\\\')\n",
    "import pandas as pd \n",
    "import numpy as np\n",
    "from matplotlib import pyplot as plt\n",
    "import scipy.special\n",
    "import requests\n",
    "from timeit import default_timer as timer\n",
    "import urllib3\n",
    "urllib3.disable_warnings()\n",
    "import json\n",
    "import random"
   ]
  },
  {
   "cell_type": "markdown",
   "metadata": {},
   "source": [
    "# Deriving a general formula for a fixed number of events with equally-distributed outcomes\n",
    "Part 3: Deriving a formula for computing the hits and the probabilities for a fixed number of dices, having a fixed number of equally-distributed outcomes."
   ]
  },
  {
   "cell_type": "markdown",
   "metadata": {},
   "source": [
    "For getting a better modelling understanding it is recommended to read [**CombinatorialThinking**](https://nbviewer.jupyter.org/github/Gordi33/Mathematical-Problems/blob/master/CombinatorialThinking%20.ipynb).\n",
    "\n",
    "Let numOutcomes be the number of outcomes for each event and let numEvent be the number of events resp. dices.\n",
    "\n",
    " - The total cycle represents all combinations and can be evaluated by:\n",
    "\n",
    "$$ totalCycle = {numOutcomes}^{numEvents}$$\n",
    "\n",
    "For example, having 9 dices and each dice has 10 different outcomes leads to a total cycle of:"
   ]
  },
  {
   "cell_type": "code",
   "execution_count": 2,
   "metadata": {},
   "outputs": [
    {
     "name": "stdout",
     "output_type": "stream",
     "text": [
      "1,000,000,000\n"
     ]
    }
   ],
   "source": [
    "numEvents = 9\n",
    "numOutcomes = 10\n",
    "totalCycle = numOutcomes**numEvents\n",
    "print(f\"{totalCycle:,}\")"
   ]
  },
  {
   "cell_type": "markdown",
   "metadata": {},
   "source": [
    "The number of hits, denoted by k, can be evaluated by:\n",
    " \n",
    "$$hits(k) = \\binom{numEvents}{k} * {(numOutcomes-1)}^{(numEvents - k)}$$\n",
    "\n",
    "--- \n",
    "This fact derives out of the following:\n",
    " 1. Firstly, the number of hits resp. correct scores out of a given number of events is determined by the binomial coefficient. For example, having 2 hits on 9 dices with 10 outcomes leads to 36 different hit-combinations:\n",
    "\n",
    "$$\\binom{9}{2} = 36$$\n",
    "\n",
    " 2. Secondly, for each hit-combination, the other dices need to cycle through all no-hit-combinations i.e., which do not lead to another hit. The number of no-hits on a dice is simply (numOutcomes - 1) and the number of dices, which show no-hit is (numEvent - k). Continuing with the example determines 7 no-hits dices and, on each 9 outcomes with no-hit:\n",
    "\n",
    "$${(10-1)}^{(9 - 2)} = {(9)}^{(7)} = 4,782,969 $$\n",
    "\n",
    " 3. Thirdly, the product determines the total success-hits within the cycle. For 2 hits with 9 dices having 10 outcomes:\n",
    "   \n",
    "$$\\binom{9}{2} * {(10-1)}^{(9 - 2)} = 36 * 4,782,969 = 172,186,884 $$\n",
    "\n",
    "---\n",
    "\n",
    "Summing up all hits, for k = 0,...,numEvents; leads to\n",
    "\n",
    "$$ totalCycle = {numOutcomes}^{numEvents} = \\sum_{k=0}^{numEvents} \\binom{numEvents}{k} * {(numOutcomes-1)}^{(numEvents - k)}$$ \n",
    "\n",
    "\n",
    "The probability of having k hits is then simply the ratio:\n",
    "\n",
    "$$P(X=k) = \\frac{hits(k)}{totalCycle} = \\frac{\\binom{numEvents}{k} * {(numOutcomes-1)}^{(numEvents - k)}}{{numOutcomes}^{numEvents}}$$\n",
    "  \n",
    "\n",
    "Continuing with the example, the probability of having 2 hits wiht 9 dices with 10 outcomes:\n",
    "  \n",
    "$$P(X=2) = \\frac{\\binom{9}{2} * {(10-1)}^{(9 - 2)}}{{10}^{9}} = 0.172186884 $$"
   ]
  },
  {
   "cell_type": "code",
   "execution_count": 3,
   "metadata": {},
   "outputs": [
    {
     "data": {
      "text/html": [
       "<div>\n",
       "<style scoped>\n",
       "    .dataframe tbody tr th:only-of-type {\n",
       "        vertical-align: middle;\n",
       "    }\n",
       "\n",
       "    .dataframe tbody tr th {\n",
       "        vertical-align: top;\n",
       "    }\n",
       "\n",
       "    .dataframe thead th {\n",
       "        text-align: right;\n",
       "    }\n",
       "</style>\n",
       "<table border=\"1\" class=\"dataframe\">\n",
       "  <thead>\n",
       "    <tr style=\"text-align: right;\">\n",
       "      <th></th>\n",
       "      <th>Number of different combinations of hits, which lead to k hits</th>\n",
       "      <th>Number of different combinations of no-hits</th>\n",
       "      <th>Total hits for k</th>\n",
       "      <th>Accumulated hits</th>\n",
       "      <th>P(X)</th>\n",
       "    </tr>\n",
       "  </thead>\n",
       "  <tbody>\n",
       "    <tr>\n",
       "      <th>0</th>\n",
       "      <td>1</td>\n",
       "      <td>387,420,489</td>\n",
       "      <td>387,420,489</td>\n",
       "      <td>387,420,489</td>\n",
       "      <td>0.387420489</td>\n",
       "    </tr>\n",
       "    <tr>\n",
       "      <th>1</th>\n",
       "      <td>9</td>\n",
       "      <td>43,046,721</td>\n",
       "      <td>387,420,489</td>\n",
       "      <td>774,840,978</td>\n",
       "      <td>0.387420489</td>\n",
       "    </tr>\n",
       "    <tr>\n",
       "      <th>2</th>\n",
       "      <td>36</td>\n",
       "      <td>4,782,969</td>\n",
       "      <td>172,186,884</td>\n",
       "      <td>947,027,862</td>\n",
       "      <td>0.172186884</td>\n",
       "    </tr>\n",
       "    <tr>\n",
       "      <th>3</th>\n",
       "      <td>84</td>\n",
       "      <td>531,441</td>\n",
       "      <td>44,641,044</td>\n",
       "      <td>991,668,906</td>\n",
       "      <td>0.044641044</td>\n",
       "    </tr>\n",
       "    <tr>\n",
       "      <th>4</th>\n",
       "      <td>126</td>\n",
       "      <td>59,049</td>\n",
       "      <td>7,440,174</td>\n",
       "      <td>999,109,080</td>\n",
       "      <td>0.007440174</td>\n",
       "    </tr>\n",
       "    <tr>\n",
       "      <th>5</th>\n",
       "      <td>126</td>\n",
       "      <td>6,561</td>\n",
       "      <td>826,686</td>\n",
       "      <td>999,935,766</td>\n",
       "      <td>0.000826686</td>\n",
       "    </tr>\n",
       "    <tr>\n",
       "      <th>6</th>\n",
       "      <td>84</td>\n",
       "      <td>729</td>\n",
       "      <td>61,236</td>\n",
       "      <td>999,997,002</td>\n",
       "      <td>0.000061236</td>\n",
       "    </tr>\n",
       "    <tr>\n",
       "      <th>7</th>\n",
       "      <td>36</td>\n",
       "      <td>81</td>\n",
       "      <td>2,916</td>\n",
       "      <td>999,999,918</td>\n",
       "      <td>0.000002916</td>\n",
       "    </tr>\n",
       "    <tr>\n",
       "      <th>8</th>\n",
       "      <td>9</td>\n",
       "      <td>9</td>\n",
       "      <td>81</td>\n",
       "      <td>999,999,999</td>\n",
       "      <td>0.000000081</td>\n",
       "    </tr>\n",
       "    <tr>\n",
       "      <th>9</th>\n",
       "      <td>1</td>\n",
       "      <td>1</td>\n",
       "      <td>1</td>\n",
       "      <td>1,000,000,000</td>\n",
       "      <td>0.000000001</td>\n",
       "    </tr>\n",
       "  </tbody>\n",
       "</table>\n",
       "</div>"
      ],
      "text/plain": [
       "   Number of different combinations of hits, which lead to k hits  \\\n",
       "0                                                  1                \n",
       "1                                                  9                \n",
       "2                                                 36                \n",
       "3                                                 84                \n",
       "4                                                126                \n",
       "5                                                126                \n",
       "6                                                 84                \n",
       "7                                                 36                \n",
       "8                                                  9                \n",
       "9                                                  1                \n",
       "\n",
       "   Number of different combinations of no-hits  Total hits for k  \\\n",
       "0                                  387,420,489       387,420,489   \n",
       "1                                   43,046,721       387,420,489   \n",
       "2                                    4,782,969       172,186,884   \n",
       "3                                      531,441        44,641,044   \n",
       "4                                       59,049         7,440,174   \n",
       "5                                        6,561           826,686   \n",
       "6                                          729            61,236   \n",
       "7                                           81             2,916   \n",
       "8                                            9                81   \n",
       "9                                            1                 1   \n",
       "\n",
       "   Accumulated hits         P(X)  \n",
       "0       387,420,489  0.387420489  \n",
       "1       774,840,978  0.387420489  \n",
       "2       947,027,862  0.172186884  \n",
       "3       991,668,906  0.044641044  \n",
       "4       999,109,080  0.007440174  \n",
       "5       999,935,766  0.000826686  \n",
       "6       999,997,002  0.000061236  \n",
       "7       999,999,918  0.000002916  \n",
       "8       999,999,999  0.000000081  \n",
       "9     1,000,000,000  0.000000001  "
      ]
     },
     "execution_count": 3,
     "metadata": {},
     "output_type": "execute_result"
    }
   ],
   "source": [
    "temp = [[0 for x in range(numEvents+1)] for y in range(5)]\n",
    "acc_hits = 0\n",
    "\n",
    "for i in range(numEvents+1):\n",
    "    temp[0][i] = scipy.special.binom(numEvents, i)\n",
    "    temp[1][i] = (numOutcomes-1)**(numEvents - i)\n",
    "    temp[2][i] = temp[0][i] * temp[1][i]\n",
    "    acc_hits = acc_hits + temp[2][i] \n",
    "    temp[3][i] = acc_hits\n",
    "    temp[4][i] = temp[2][i] *1.0 / totalCycle * 1.0\n",
    "\n",
    "pd.options.display.float_format = '{:,.0f}'.format  \n",
    "df = pd.DataFrame(temp).transpose().rename(columns={0: \"Number of different combinations of hits, which lead to k hits\", \n",
    "                                               1: \"Number of different combinations of no-hits\",\n",
    "                                               2: \"Total hits for k\",\n",
    "                                               3: \"Accumulated hits\", \n",
    "                                               4: \"P(X)\"})\n",
    "df['P(X)'] = df['P(X)'].map('{:,.9f}'.format)\n",
    "df"
   ]
  },
  {
   "cell_type": "markdown",
   "metadata": {},
   "source": [
    "## Creating a game specific payout for events having equally-distributed outcomes based on the distribution"
   ]
  },
  {
   "cell_type": "markdown",
   "metadata": {},
   "source": [
    "Part 3.1.: Creating a game based on the distribution allows to award a specific win to each category. Each category has its probability density due to the previous computation. With a given win and a given probability the category's **return-to-player** can be computed. The game's stake is 1 and game's **return-to-player** should be <100%."
   ]
  },
  {
   "cell_type": "code",
   "execution_count": 4,
   "metadata": {
    "scrolled": false
   },
   "outputs": [
    {
     "data": {
      "text/html": [
       "<div>\n",
       "<style scoped>\n",
       "    .dataframe tbody tr th:only-of-type {\n",
       "        vertical-align: middle;\n",
       "    }\n",
       "\n",
       "    .dataframe tbody tr th {\n",
       "        vertical-align: top;\n",
       "    }\n",
       "\n",
       "    .dataframe thead th {\n",
       "        text-align: right;\n",
       "    }\n",
       "</style>\n",
       "<table border=\"1\" class=\"dataframe\">\n",
       "  <thead>\n",
       "    <tr style=\"text-align: right;\">\n",
       "      <th></th>\n",
       "      <th>Number of different combinations of hits, which lead to k hits</th>\n",
       "      <th>Number of different combinations of no-hits</th>\n",
       "      <th>Total hits for k</th>\n",
       "      <th>Accumulated hits</th>\n",
       "      <th>P(X)</th>\n",
       "      <th>Payouts</th>\n",
       "    </tr>\n",
       "  </thead>\n",
       "  <tbody>\n",
       "    <tr>\n",
       "      <th>0</th>\n",
       "      <td>1</td>\n",
       "      <td>387,420,489</td>\n",
       "      <td>387,420,489</td>\n",
       "      <td>387,420,489</td>\n",
       "      <td>0.387420489</td>\n",
       "      <td>0</td>\n",
       "    </tr>\n",
       "    <tr>\n",
       "      <th>1</th>\n",
       "      <td>9</td>\n",
       "      <td>43,046,721</td>\n",
       "      <td>387,420,489</td>\n",
       "      <td>774,840,978</td>\n",
       "      <td>0.387420489</td>\n",
       "      <td>0</td>\n",
       "    </tr>\n",
       "    <tr>\n",
       "      <th>2</th>\n",
       "      <td>36</td>\n",
       "      <td>4,782,969</td>\n",
       "      <td>172,186,884</td>\n",
       "      <td>947,027,862</td>\n",
       "      <td>0.172186884</td>\n",
       "      <td>1</td>\n",
       "    </tr>\n",
       "    <tr>\n",
       "      <th>3</th>\n",
       "      <td>84</td>\n",
       "      <td>531,441</td>\n",
       "      <td>44,641,044</td>\n",
       "      <td>991,668,906</td>\n",
       "      <td>0.044641044</td>\n",
       "      <td>5</td>\n",
       "    </tr>\n",
       "    <tr>\n",
       "      <th>4</th>\n",
       "      <td>126</td>\n",
       "      <td>59,049</td>\n",
       "      <td>7,440,174</td>\n",
       "      <td>999,109,080</td>\n",
       "      <td>0.007440174</td>\n",
       "      <td>50</td>\n",
       "    </tr>\n",
       "    <tr>\n",
       "      <th>5</th>\n",
       "      <td>126</td>\n",
       "      <td>6,561</td>\n",
       "      <td>826,686</td>\n",
       "      <td>999,935,766</td>\n",
       "      <td>0.000826686</td>\n",
       "      <td>100</td>\n",
       "    </tr>\n",
       "    <tr>\n",
       "      <th>6</th>\n",
       "      <td>84</td>\n",
       "      <td>729</td>\n",
       "      <td>61,236</td>\n",
       "      <td>999,997,002</td>\n",
       "      <td>0.000061236</td>\n",
       "      <td>1,000</td>\n",
       "    </tr>\n",
       "    <tr>\n",
       "      <th>7</th>\n",
       "      <td>36</td>\n",
       "      <td>81</td>\n",
       "      <td>2,916</td>\n",
       "      <td>999,999,918</td>\n",
       "      <td>0.000002916</td>\n",
       "      <td>10,000</td>\n",
       "    </tr>\n",
       "    <tr>\n",
       "      <th>8</th>\n",
       "      <td>9</td>\n",
       "      <td>9</td>\n",
       "      <td>81</td>\n",
       "      <td>999,999,999</td>\n",
       "      <td>0.000000081</td>\n",
       "      <td>100,000</td>\n",
       "    </tr>\n",
       "    <tr>\n",
       "      <th>9</th>\n",
       "      <td>1</td>\n",
       "      <td>1</td>\n",
       "      <td>1</td>\n",
       "      <td>1,000,000,000</td>\n",
       "      <td>0.000000001</td>\n",
       "      <td>1,000,000</td>\n",
       "    </tr>\n",
       "  </tbody>\n",
       "</table>\n",
       "</div>"
      ],
      "text/plain": [
       "   Number of different combinations of hits, which lead to k hits  \\\n",
       "0                                                  1                \n",
       "1                                                  9                \n",
       "2                                                 36                \n",
       "3                                                 84                \n",
       "4                                                126                \n",
       "5                                                126                \n",
       "6                                                 84                \n",
       "7                                                 36                \n",
       "8                                                  9                \n",
       "9                                                  1                \n",
       "\n",
       "   Number of different combinations of no-hits  Total hits for k  \\\n",
       "0                                  387,420,489       387,420,489   \n",
       "1                                   43,046,721       387,420,489   \n",
       "2                                    4,782,969       172,186,884   \n",
       "3                                      531,441        44,641,044   \n",
       "4                                       59,049         7,440,174   \n",
       "5                                        6,561           826,686   \n",
       "6                                          729            61,236   \n",
       "7                                           81             2,916   \n",
       "8                                            9                81   \n",
       "9                                            1                 1   \n",
       "\n",
       "   Accumulated hits         P(X)   Payouts  \n",
       "0       387,420,489  0.387420489         0  \n",
       "1       774,840,978  0.387420489         0  \n",
       "2       947,027,862  0.172186884         1  \n",
       "3       991,668,906  0.044641044         5  \n",
       "4       999,109,080  0.007440174        50  \n",
       "5       999,935,766  0.000826686       100  \n",
       "6       999,997,002  0.000061236     1,000  \n",
       "7       999,999,918  0.000002916    10,000  \n",
       "8       999,999,999  0.000000081   100,000  \n",
       "9     1,000,000,000  0.000000001 1,000,000  "
      ]
     },
     "execution_count": 4,
     "metadata": {},
     "output_type": "execute_result"
    }
   ],
   "source": [
    "payouts = [0.0,0.0,1.0,5.0,50.0,100.0,1000.0,10000.0,100000.0,1000000.0]\n",
    "df['Payouts'] = payouts\n",
    "df"
   ]
  },
  {
   "cell_type": "markdown",
   "metadata": {},
   "source": [
    "For each hit-category a fictious payout based on the game's distribution is defined. The **hold** resp. margin, which is defined by 1-RTP is achieved by downgrading each hit-category further. \n",
    "\n",
    "The RTP is then simply defined by:\n",
    "\n",
    "\n",
    "$$ RTP = \\sum_{k=0}^{numEvents} Payouts(k) * P(X=k)$$   \n"
   ]
  },
  {
   "cell_type": "code",
   "execution_count": 5,
   "metadata": {},
   "outputs": [
    {
     "name": "stdout",
     "output_type": "stream",
     "text": [
      "RTP = 0.949565404\n"
     ]
    }
   ],
   "source": [
    "df['RTP of k hits'] = df['Payouts'].astype(float) * df['P(X)'].astype(float)\n",
    "df['RTP of k hits'] = df['RTP of k hits'].map('{:,.9f}'.format)\n",
    "df\n",
    "print('RTP =', df['RTP of k hits'].astype(float).sum())"
   ]
  },
  {
   "cell_type": "markdown",
   "metadata": {},
   "source": [
    "The next chapter shows a solution considering weighted outcomes. Weighted outcomes allow to consider events with different outcome-probabilities, which is a more flexible and realistical approach.\n",
    "Additionally, the RTP and the [**game behaviour**](https://nbviewer.jupyter.org/github/Gordi33/The-Laws-of-the-Game/blob/master/PlayersSurvivalWhenThrowingDices.ipynb) can be modified via this.\n",
    "\n",
    " - Increasing the RTP can be achieved via increasing the probabilities of the categories which have a return."
   ]
  },
  {
   "cell_type": "markdown",
   "metadata": {},
   "source": [
    "# Cycle evaluation for a fixed number of events with weighted-outcomes in C# accessed via REST-API\n",
    "Part 4: Applying the cycle-evaluation in **C# accessed via REST-API** with szenario analysis for the weights. \n",
    "What happens with the RTP, if the events aren't equally-distributed ?\n",
    "\n",
    "How does the algorithm in C# work ?\n",
    "The algorithm expects for each event an array with equal length for all events.\n",
    "\n",
    "Let the events be defined by *j*=1,...,*numEvents* and \n",
    "the event' outcomes by *i*=1,...,*numOutcomes*. \n",
    "\n",
    "This array represents the event' weights and the array' index is the according outcome. The weights need to be positive integer values. The events and their weights are set up as an array of Json-objects (expected input). \n",
    "\n",
    "Algorithm:\n",
    " 1. Weights for each event are normalised. For each event the normalisation is applied via\n",
    "\n",
    "$$ P(i^{th} \\hspace{2mm}  outcome \\hspace{2mm} of \\hspace{2mm} j^{th} \\hspace{2mm} event) =  \\frac{Weight(i,j)}{\\sum_{i=1}^{numOutcomes}Weight(i,j)}$$   \n",
    "\n",
    " 2. For each event the outcome with the maximum outcome' probability is chosen. If there is more than one maximum then the one with the lowest index is chosen. This combination of maximum outcome'probability represents the comabination, which is considered as the correct one. Let this combination be maximum likelihood estimation' combination denoted with MLE-combination.\n",
    " \n",
    " \n",
    " 3. The total-cycle is evaluated.  \n",
    "\n",
    "$$ totalCycle = {numOutcomes}^{numEvents}$$\n",
    "\n",
    "    Note that the time complexity is O(numOutcomes^numEvents).\n",
    "    Each combinations' probability is added to the category of correct hits according the MLE-combination as well as the correct hits.\n",
    "    \n",
    "    $$ totalCycle = {numOutcomes}^{numEvents}$$\n",
    "   \n",
    " 4. Pseudo code\n",
    " \n",
    "    do \n",
    "    {\n",
    "          computeCombinationProbability()\n",
    "          computeCombinationHits()\n",
    "          addProbabilityToTheCorrectNumberOfHitsCategory()\n",
    "          incrementHitsCategoryForTheCorrectNumberOfHitsByOne()\n",
    "          getNextCombinationInCycle()    \n",
    "    } while (totalCycleIsNotCompletedYet);\n",
    "    \n",
    "    \n"
   ]
  },
  {
   "cell_type": "markdown",
   "metadata": {},
   "source": [
    "## Cycle evaluation for equally-distrubuted weights\n",
    "Part 4.1: Creating a JSON-object with the weights, defining the post-request and converting the output to a dataframe."
   ]
  },
  {
   "cell_type": "code",
   "execution_count": 6,
   "metadata": {},
   "outputs": [],
   "source": [
    "def getJsonEvents(): \n",
    "    events  = []\n",
    "    events.append({ \"weights\": [1000,1000,1000,1000,1000,1000,1000,1000,1000,1000]})\n",
    "    events.append({ \"weights\": [1000,1000,1000,1000,1000,1000,1000,1000,1000,1000]})\n",
    "    events.append({ \"weights\": [1000,1000,1000,1000,1000,1000,1000,1000,1000,1000]})\n",
    "    events.append({ \"weights\": [1000,1000,1000,1000,1000,1000,1000,1000,1000,1000]})\n",
    "    events.append({ \"weights\": [1000,1000,1000,1000,1000,1000,1000,1000,1000,1000]})\n",
    "    events.append({ \"weights\": [1000,1000,1000,1000,1000,1000,1000,1000,1000,1000]})\n",
    "    events.append({ \"weights\": [1000,1000,1000,1000,1000,1000,1000,1000,1000,1000]})\n",
    "    events.append({ \"weights\": [1000,1000,1000,1000,1000,1000,1000,1000,1000,1000]})\n",
    "    events.append({ \"weights\": [1000,1000,1000,1000,1000,1000,1000,1000,1000,1000]})\n",
    "    return events\n",
    "\n",
    "events = getJsonEvents()"
   ]
  },
  {
   "cell_type": "code",
   "execution_count": 7,
   "metadata": {
    "code_folding": [
     0
    ]
   },
   "outputs": [],
   "source": [
    "#def getRequestsObject(url):\n",
    "#    start = timer()\n",
    "#    response = requests.get(url, verify=False)\n",
    "#    end = timer()\n",
    "#    print('Time in seconds: ', end - start)\n",
    "#    return json.loads(response.text)\n",
    "\n",
    "#responseJson = postRequestsObject('https://localhost:44339/api/Distribution')"
   ]
  },
  {
   "cell_type": "code",
   "execution_count": 8,
   "metadata": {},
   "outputs": [],
   "source": [
    "def postRequestsObject(url, events):\n",
    "    start = timer()\n",
    "    response = requests.post(url, json = events, verify=False)\n",
    "    end = timer()\n",
    "    print('Time in seconds: ', end - start)\n",
    "    return json.loads(response.text)"
   ]
  },
  {
   "cell_type": "code",
   "execution_count": 9,
   "metadata": {},
   "outputs": [
    {
     "name": "stdout",
     "output_type": "stream",
     "text": [
      "Time in seconds:  19.16124450000001\n"
     ]
    }
   ],
   "source": [
    "postRequestsObjectEqDist = postRequestsObject('https://localhost:44339/api/Distribution', events)"
   ]
  },
  {
   "cell_type": "code",
   "execution_count": 10,
   "metadata": {},
   "outputs": [],
   "source": [
    "def convertJsonIntoDataFrame(responseJson, numberOfEvents, payouts):\n",
    "    df_weighted = pd.DataFrame([responseJson[i]['correctEventsCategory'] for i in range(0,numberOfEvents)]).rename(columns={0: \"CorrectEventsCategory\"})\n",
    "    df_weighted['Probability'] = [responseJson[i]['probability'] for i in range(0,numberOfEvents)]\n",
    "    df_weighted['Hits'] = [responseJson[i]['hits'] for i in range(0,numberOfEvents)]\n",
    "    df_weighted['Probability'] = df_weighted['Probability'].astype(float).map('{:,.15f}'.format)\n",
    "    df_weighted['Payouts'] = payouts\n",
    "    df_weighted['RTP_of_k_hits'] = df_weighted['Payouts'].astype(float) * df_weighted['Probability'].astype(float)\n",
    "    df_weighted['RTP_of_k_hits'] = df_weighted['RTP_of_k_hits'].map('{:,.15f}'.format)\n",
    "    return df_weighted"
   ]
  },
  {
   "cell_type": "code",
   "execution_count": 11,
   "metadata": {
    "scrolled": true
   },
   "outputs": [
    {
     "data": {
      "text/html": [
       "<div>\n",
       "<style scoped>\n",
       "    .dataframe tbody tr th:only-of-type {\n",
       "        vertical-align: middle;\n",
       "    }\n",
       "\n",
       "    .dataframe tbody tr th {\n",
       "        vertical-align: top;\n",
       "    }\n",
       "\n",
       "    .dataframe thead th {\n",
       "        text-align: right;\n",
       "    }\n",
       "</style>\n",
       "<table border=\"1\" class=\"dataframe\">\n",
       "  <thead>\n",
       "    <tr style=\"text-align: right;\">\n",
       "      <th></th>\n",
       "      <th>CorrectEventsCategory</th>\n",
       "      <th>Probability</th>\n",
       "      <th>Hits</th>\n",
       "      <th>Payouts</th>\n",
       "      <th>RTP_of_k_hits</th>\n",
       "    </tr>\n",
       "  </thead>\n",
       "  <tbody>\n",
       "    <tr>\n",
       "      <th>0</th>\n",
       "      <td>0</td>\n",
       "      <td>0.387420492615447</td>\n",
       "      <td>387420489</td>\n",
       "      <td>0</td>\n",
       "      <td>0.000000000000000</td>\n",
       "    </tr>\n",
       "    <tr>\n",
       "      <th>1</th>\n",
       "      <td>1</td>\n",
       "      <td>0.387420492615447</td>\n",
       "      <td>387420489</td>\n",
       "      <td>0</td>\n",
       "      <td>0.000000000000000</td>\n",
       "    </tr>\n",
       "    <tr>\n",
       "      <th>2</th>\n",
       "      <td>2</td>\n",
       "      <td>0.172186883914551</td>\n",
       "      <td>172186884</td>\n",
       "      <td>1</td>\n",
       "      <td>0.172186883914551</td>\n",
       "    </tr>\n",
       "    <tr>\n",
       "      <th>3</th>\n",
       "      <td>3</td>\n",
       "      <td>0.044641043981686</td>\n",
       "      <td>44641044</td>\n",
       "      <td>5</td>\n",
       "      <td>0.223205219908430</td>\n",
       "    </tr>\n",
       "    <tr>\n",
       "      <th>4</th>\n",
       "      <td>4</td>\n",
       "      <td>0.007440174000944</td>\n",
       "      <td>7440174</td>\n",
       "      <td>50</td>\n",
       "      <td>0.372008700047200</td>\n",
       "    </tr>\n",
       "    <tr>\n",
       "      <th>5</th>\n",
       "      <td>5</td>\n",
       "      <td>0.000826686000008</td>\n",
       "      <td>826686</td>\n",
       "      <td>100</td>\n",
       "      <td>0.082668600000800</td>\n",
       "    </tr>\n",
       "    <tr>\n",
       "      <th>6</th>\n",
       "      <td>6</td>\n",
       "      <td>0.000061236000000</td>\n",
       "      <td>61236</td>\n",
       "      <td>1,000</td>\n",
       "      <td>0.061236000000000</td>\n",
       "    </tr>\n",
       "    <tr>\n",
       "      <th>7</th>\n",
       "      <td>7</td>\n",
       "      <td>0.000002916000000</td>\n",
       "      <td>2916</td>\n",
       "      <td>10,000</td>\n",
       "      <td>0.029160000000000</td>\n",
       "    </tr>\n",
       "    <tr>\n",
       "      <th>8</th>\n",
       "      <td>8</td>\n",
       "      <td>0.000000081000000</td>\n",
       "      <td>81</td>\n",
       "      <td>100,000</td>\n",
       "      <td>0.008100000000000</td>\n",
       "    </tr>\n",
       "    <tr>\n",
       "      <th>9</th>\n",
       "      <td>9</td>\n",
       "      <td>0.000000001000000</td>\n",
       "      <td>1</td>\n",
       "      <td>1,000,000</td>\n",
       "      <td>0.001000000000000</td>\n",
       "    </tr>\n",
       "  </tbody>\n",
       "</table>\n",
       "</div>"
      ],
      "text/plain": [
       "   CorrectEventsCategory        Probability       Hits   Payouts  \\\n",
       "0                      0  0.387420492615447  387420489         0   \n",
       "1                      1  0.387420492615447  387420489         0   \n",
       "2                      2  0.172186883914551  172186884         1   \n",
       "3                      3  0.044641043981686   44641044         5   \n",
       "4                      4  0.007440174000944    7440174        50   \n",
       "5                      5  0.000826686000008     826686       100   \n",
       "6                      6  0.000061236000000      61236     1,000   \n",
       "7                      7  0.000002916000000       2916    10,000   \n",
       "8                      8  0.000000081000000         81   100,000   \n",
       "9                      9  0.000000001000000          1 1,000,000   \n",
       "\n",
       "       RTP_of_k_hits  \n",
       "0  0.000000000000000  \n",
       "1  0.000000000000000  \n",
       "2  0.172186883914551  \n",
       "3  0.223205219908430  \n",
       "4  0.372008700047200  \n",
       "5  0.082668600000800  \n",
       "6  0.061236000000000  \n",
       "7  0.029160000000000  \n",
       "8  0.008100000000000  \n",
       "9  0.001000000000000  "
      ]
     },
     "execution_count": 11,
     "metadata": {},
     "output_type": "execute_result"
    }
   ],
   "source": [
    "df_weighted_equally = convertJsonIntoDataFrame(postRequestsObjectEqDist, len(events)+1, payouts)\n",
    "df_weighted_equally"
   ]
  },
  {
   "cell_type": "markdown",
   "metadata": {},
   "source": [
    "Figures match the theoretical figures out of (3)."
   ]
  },
  {
   "cell_type": "code",
   "execution_count": 12,
   "metadata": {
    "scrolled": true
   },
   "outputs": [
    {
     "name": "stdout",
     "output_type": "stream",
     "text": [
      "Probability = 1.0\n",
      "Hits        = 1000000000.0\n",
      "RTP         = 0.949565403870981\n"
     ]
    }
   ],
   "source": [
    "print('Probability =', round(df_weighted_equally['Probability'].astype(float).sum(),4))\n",
    "print('Hits        =', round(df_weighted_equally['Hits'].astype(float).sum(),4))\n",
    "print('RTP         =', round(df_weighted_equally['RTP_of_k_hits'].astype(float).sum(),18))"
   ]
  },
  {
   "cell_type": "markdown",
   "metadata": {},
   "source": [
    "With equally weights for all outcomes the RTP is 94,96%."
   ]
  },
  {
   "cell_type": "markdown",
   "metadata": {},
   "source": [
    "## Cycle evaluation for modified weights -  weights fluctuate by +/- 1.\n",
    "Assuming that the weights fluctuate by +/- 1. Having that super low flucatuation, what is the impact on the RTP ?"
   ]
  },
  {
   "cell_type": "code",
   "execution_count": 13,
   "metadata": {},
   "outputs": [],
   "source": [
    "delta = 1\n",
    "def getJsonEvents(): \n",
    "    events  = []\n",
    "    events.append({ \"weights\": [random.randint(1000-delta,1000+delta) for i in range(0,10)]})\n",
    "    events.append({ \"weights\": [random.randint(1000-delta,1000+delta) for i in range(0,10)]})\n",
    "    events.append({ \"weights\": [random.randint(1000-delta,1000+delta) for i in range(0,10)]})\n",
    "    events.append({ \"weights\": [random.randint(1000-delta,1000+delta) for i in range(0,10)]})\n",
    "    events.append({ \"weights\": [random.randint(1000-delta,1000+delta) for i in range(0,10)]})\n",
    "    events.append({ \"weights\": [random.randint(1000-delta,1000+delta) for i in range(0,10)]})\n",
    "    events.append({ \"weights\": [random.randint(1000-delta,1000+delta) for i in range(0,10)]})\n",
    "    events.append({ \"weights\": [random.randint(1000-delta,1000+delta) for i in range(0,10)]})\n",
    "    events.append({ \"weights\": [random.randint(1000-delta,1000+delta) for i in range(0,10)]})\n",
    "    return events"
   ]
  },
  {
   "cell_type": "code",
   "execution_count": 14,
   "metadata": {},
   "outputs": [
    {
     "data": {
      "text/plain": [
       "[{'weights': [1000, 1000, 999, 999, 999, 1000, 1000, 1001, 1001, 1001]},\n",
       " {'weights': [1000, 1001, 1000, 1000, 1000, 1001, 999, 999, 1000, 1000]},\n",
       " {'weights': [999, 1000, 1000, 1001, 1000, 999, 999, 999, 999, 1001]},\n",
       " {'weights': [1000, 1000, 1001, 999, 1001, 1001, 1000, 999, 1000, 999]},\n",
       " {'weights': [1000, 999, 1000, 999, 1001, 1001, 1000, 1001, 1001, 999]},\n",
       " {'weights': [1001, 1001, 1001, 1001, 1000, 1001, 1000, 1000, 1001, 999]},\n",
       " {'weights': [1000, 999, 999, 1000, 1001, 999, 1001, 1000, 1000, 1000]},\n",
       " {'weights': [1000, 1000, 999, 1000, 999, 1001, 1001, 999, 1001, 1001]},\n",
       " {'weights': [1000, 999, 1001, 999, 1001, 1001, 999, 1001, 999, 1001]}]"
      ]
     },
     "execution_count": 14,
     "metadata": {},
     "output_type": "execute_result"
    }
   ],
   "source": [
    "events = getJsonEvents()\n",
    "events"
   ]
  },
  {
   "cell_type": "code",
   "execution_count": 15,
   "metadata": {},
   "outputs": [
    {
     "name": "stdout",
     "output_type": "stream",
     "text": [
      "Time in seconds:  17.789558\n"
     ]
    }
   ],
   "source": [
    "responseJsonSz1 = postRequestsObject('https://localhost:44339/api/Distribution', events)"
   ]
  },
  {
   "cell_type": "code",
   "execution_count": 16,
   "metadata": {},
   "outputs": [
    {
     "data": {
      "text/html": [
       "<div>\n",
       "<style scoped>\n",
       "    .dataframe tbody tr th:only-of-type {\n",
       "        vertical-align: middle;\n",
       "    }\n",
       "\n",
       "    .dataframe tbody tr th {\n",
       "        vertical-align: top;\n",
       "    }\n",
       "\n",
       "    .dataframe thead th {\n",
       "        text-align: right;\n",
       "    }\n",
       "</style>\n",
       "<table border=\"1\" class=\"dataframe\">\n",
       "  <thead>\n",
       "    <tr style=\"text-align: right;\">\n",
       "      <th></th>\n",
       "      <th>CorrectEventsCategory</th>\n",
       "      <th>Probability</th>\n",
       "      <th>Hits</th>\n",
       "      <th>Payouts</th>\n",
       "      <th>RTP_of_k_hits</th>\n",
       "    </tr>\n",
       "  </thead>\n",
       "  <tbody>\n",
       "    <tr>\n",
       "      <th>0</th>\n",
       "      <td>0</td>\n",
       "      <td>0.387050444492090</td>\n",
       "      <td>387420489</td>\n",
       "      <td>0</td>\n",
       "      <td>0.000000000000000</td>\n",
       "    </tr>\n",
       "    <tr>\n",
       "      <th>1</th>\n",
       "      <td>1</td>\n",
       "      <td>0.387461431612222</td>\n",
       "      <td>387420489</td>\n",
       "      <td>0</td>\n",
       "      <td>0.000000000000000</td>\n",
       "    </tr>\n",
       "    <tr>\n",
       "      <th>2</th>\n",
       "      <td>2</td>\n",
       "      <td>0.172387934437152</td>\n",
       "      <td>172186884</td>\n",
       "      <td>1</td>\n",
       "      <td>0.172387934437152</td>\n",
       "    </tr>\n",
       "    <tr>\n",
       "      <th>3</th>\n",
       "      <td>3</td>\n",
       "      <td>0.044740624792346</td>\n",
       "      <td>44641044</td>\n",
       "      <td>5</td>\n",
       "      <td>0.223703123961730</td>\n",
       "    </tr>\n",
       "    <tr>\n",
       "      <th>4</th>\n",
       "      <td>4</td>\n",
       "      <td>0.007464688584522</td>\n",
       "      <td>7440174</td>\n",
       "      <td>50</td>\n",
       "      <td>0.373234429226100</td>\n",
       "    </tr>\n",
       "    <tr>\n",
       "      <th>5</th>\n",
       "      <td>5</td>\n",
       "      <td>0.000830290525672</td>\n",
       "      <td>826686</td>\n",
       "      <td>100</td>\n",
       "      <td>0.083029052567200</td>\n",
       "    </tr>\n",
       "    <tr>\n",
       "      <th>6</th>\n",
       "      <td>6</td>\n",
       "      <td>0.000061568306564</td>\n",
       "      <td>61236</td>\n",
       "      <td>1,000</td>\n",
       "      <td>0.061568306564000</td>\n",
       "    </tr>\n",
       "    <tr>\n",
       "      <th>7</th>\n",
       "      <td>7</td>\n",
       "      <td>0.000002934937152</td>\n",
       "      <td>2916</td>\n",
       "      <td>10,000</td>\n",
       "      <td>0.029349371520000</td>\n",
       "    </tr>\n",
       "    <tr>\n",
       "      <th>8</th>\n",
       "      <td>8</td>\n",
       "      <td>0.000000081612596</td>\n",
       "      <td>81</td>\n",
       "      <td>100,000</td>\n",
       "      <td>0.008161259600000</td>\n",
       "    </tr>\n",
       "    <tr>\n",
       "      <th>9</th>\n",
       "      <td>9</td>\n",
       "      <td>0.000000001008633</td>\n",
       "      <td>1</td>\n",
       "      <td>1,000,000</td>\n",
       "      <td>0.001008633000000</td>\n",
       "    </tr>\n",
       "  </tbody>\n",
       "</table>\n",
       "</div>"
      ],
      "text/plain": [
       "   CorrectEventsCategory        Probability       Hits   Payouts  \\\n",
       "0                      0  0.387050444492090  387420489         0   \n",
       "1                      1  0.387461431612222  387420489         0   \n",
       "2                      2  0.172387934437152  172186884         1   \n",
       "3                      3  0.044740624792346   44641044         5   \n",
       "4                      4  0.007464688584522    7440174        50   \n",
       "5                      5  0.000830290525672     826686       100   \n",
       "6                      6  0.000061568306564      61236     1,000   \n",
       "7                      7  0.000002934937152       2916    10,000   \n",
       "8                      8  0.000000081612596         81   100,000   \n",
       "9                      9  0.000000001008633          1 1,000,000   \n",
       "\n",
       "       RTP_of_k_hits  \n",
       "0  0.000000000000000  \n",
       "1  0.000000000000000  \n",
       "2  0.172387934437152  \n",
       "3  0.223703123961730  \n",
       "4  0.373234429226100  \n",
       "5  0.083029052567200  \n",
       "6  0.061568306564000  \n",
       "7  0.029349371520000  \n",
       "8  0.008161259600000  \n",
       "9  0.001008633000000  "
      ]
     },
     "execution_count": 16,
     "metadata": {},
     "output_type": "execute_result"
    }
   ],
   "source": [
    "df_weightedSz1 = convertJsonIntoDataFrame(responseJsonSz1, len(events)+1, payouts)\n",
    "df_weightedSz1"
   ]
  },
  {
   "cell_type": "code",
   "execution_count": 17,
   "metadata": {
    "scrolled": false
   },
   "outputs": [
    {
     "name": "stdout",
     "output_type": "stream",
     "text": [
      "Probability = 1.0\n",
      "Hits        = 1000000000.0\n",
      "RTP         = 0.952442110876182\n"
     ]
    }
   ],
   "source": [
    "print('Probability =', round(df_weightedSz1['Probability'].astype(float).sum(), 4))\n",
    "print('Hits        =', round(df_weightedSz1['Hits'].astype(float).sum(), 4))\n",
    "print('RTP         =', round(df_weightedSz1['RTP_of_k_hits'].astype(float).sum(), 18))"
   ]
  },
  {
   "cell_type": "markdown",
   "metadata": {},
   "source": [
    "With a weight fluctuation of +/-1 of intially 1000 the RTP increased from 94,96% to 95,24%."
   ]
  },
  {
   "cell_type": "markdown",
   "metadata": {},
   "source": [
    "## Cycle evaluation for modified weights -  weights fluctuate by +/- 10.\n",
    "Assuming that the weights fluctuate by +/- 10. Having that low flucatuation, what is the impact on the RTP ?"
   ]
  },
  {
   "cell_type": "code",
   "execution_count": 18,
   "metadata": {},
   "outputs": [],
   "source": [
    "delta = 10\n",
    "def getJsonEvents(): \n",
    "    events  = []\n",
    "    events.append({ \"weights\": [random.randint(1000-delta,1000+delta) for i in range(0,10)]})\n",
    "    events.append({ \"weights\": [random.randint(1000-delta,1000+delta) for i in range(0,10)]})\n",
    "    events.append({ \"weights\": [random.randint(1000-delta,1000+delta) for i in range(0,10)]})\n",
    "    events.append({ \"weights\": [random.randint(1000-delta,1000+delta) for i in range(0,10)]})\n",
    "    events.append({ \"weights\": [random.randint(1000-delta,1000+delta) for i in range(0,10)]})\n",
    "    events.append({ \"weights\": [random.randint(1000-delta,1000+delta) for i in range(0,10)]})\n",
    "    events.append({ \"weights\": [random.randint(1000-delta,1000+delta) for i in range(0,10)]})\n",
    "    events.append({ \"weights\": [random.randint(1000-delta,1000+delta) for i in range(0,10)]})\n",
    "    events.append({ \"weights\": [random.randint(1000-delta,1000+delta) for i in range(0,10)]})\n",
    "    return events"
   ]
  },
  {
   "cell_type": "code",
   "execution_count": 19,
   "metadata": {},
   "outputs": [
    {
     "data": {
      "text/plain": [
       "[{'weights': [1006, 993, 1002, 993, 999, 994, 998, 1008, 1009, 1003]},\n",
       " {'weights': [1004, 995, 1010, 990, 1008, 1003, 991, 996, 997, 1001]},\n",
       " {'weights': [994, 996, 997, 997, 992, 1000, 994, 1000, 998, 1006]},\n",
       " {'weights': [1009, 998, 999, 993, 1000, 1002, 990, 1006, 1010, 995]},\n",
       " {'weights': [1001, 1001, 995, 990, 990, 1006, 996, 994, 990, 995]},\n",
       " {'weights': [997, 1004, 998, 1006, 999, 992, 1000, 990, 990, 1006]},\n",
       " {'weights': [1004, 1009, 1005, 1003, 990, 998, 996, 1006, 1007, 998]},\n",
       " {'weights': [998, 1009, 990, 1004, 1003, 993, 1004, 994, 999, 1002]},\n",
       " {'weights': [995, 991, 1008, 991, 1007, 991, 1003, 1002, 1005, 992]}]"
      ]
     },
     "execution_count": 19,
     "metadata": {},
     "output_type": "execute_result"
    }
   ],
   "source": [
    "events = getJsonEvents()\n",
    "events"
   ]
  },
  {
   "cell_type": "code",
   "execution_count": 20,
   "metadata": {},
   "outputs": [
    {
     "name": "stdout",
     "output_type": "stream",
     "text": [
      "Time in seconds:  17.3770935\n"
     ]
    }
   ],
   "source": [
    "responseJsonSz10 = postRequestsObject('https://localhost:44339/api/Distribution', events)"
   ]
  },
  {
   "cell_type": "code",
   "execution_count": 21,
   "metadata": {},
   "outputs": [
    {
     "data": {
      "text/html": [
       "<div>\n",
       "<style scoped>\n",
       "    .dataframe tbody tr th:only-of-type {\n",
       "        vertical-align: middle;\n",
       "    }\n",
       "\n",
       "    .dataframe tbody tr th {\n",
       "        vertical-align: top;\n",
       "    }\n",
       "\n",
       "    .dataframe thead th {\n",
       "        text-align: right;\n",
       "    }\n",
       "</style>\n",
       "<table border=\"1\" class=\"dataframe\">\n",
       "  <thead>\n",
       "    <tr style=\"text-align: right;\">\n",
       "      <th></th>\n",
       "      <th>CorrectEventsCategory</th>\n",
       "      <th>Probability</th>\n",
       "      <th>Hits</th>\n",
       "      <th>Payouts</th>\n",
       "      <th>RTP_of_k_hits</th>\n",
       "    </tr>\n",
       "  </thead>\n",
       "  <tbody>\n",
       "    <tr>\n",
       "      <th>0</th>\n",
       "      <td>0</td>\n",
       "      <td>0.383914086587635</td>\n",
       "      <td>387420489</td>\n",
       "      <td>0</td>\n",
       "      <td>0.000000000000000</td>\n",
       "    </tr>\n",
       "    <tr>\n",
       "      <th>1</th>\n",
       "      <td>1</td>\n",
       "      <td>0.387794389109083</td>\n",
       "      <td>387420489</td>\n",
       "      <td>0</td>\n",
       "      <td>0.000000000000000</td>\n",
       "    </tr>\n",
       "    <tr>\n",
       "      <th>2</th>\n",
       "      <td>2</td>\n",
       "      <td>0.174095044368292</td>\n",
       "      <td>172186884</td>\n",
       "      <td>1</td>\n",
       "      <td>0.174095044368292</td>\n",
       "    </tr>\n",
       "    <tr>\n",
       "      <th>3</th>\n",
       "      <td>3</td>\n",
       "      <td>0.045591934865381</td>\n",
       "      <td>44641044</td>\n",
       "      <td>5</td>\n",
       "      <td>0.227959674326905</td>\n",
       "    </tr>\n",
       "    <tr>\n",
       "      <th>4</th>\n",
       "      <td>4</td>\n",
       "      <td>0.007675453487304</td>\n",
       "      <td>7440174</td>\n",
       "      <td>50</td>\n",
       "      <td>0.383772674365200</td>\n",
       "    </tr>\n",
       "    <tr>\n",
       "      <th>5</th>\n",
       "      <td>5</td>\n",
       "      <td>0.000861447348157</td>\n",
       "      <td>826686</td>\n",
       "      <td>100</td>\n",
       "      <td>0.086144734815700</td>\n",
       "    </tr>\n",
       "    <tr>\n",
       "      <th>6</th>\n",
       "      <td>6</td>\n",
       "      <td>0.000064455815285</td>\n",
       "      <td>61236</td>\n",
       "      <td>1,000</td>\n",
       "      <td>0.064455815285000</td>\n",
       "    </tr>\n",
       "    <tr>\n",
       "      <th>7</th>\n",
       "      <td>7</td>\n",
       "      <td>0.000003100343972</td>\n",
       "      <td>2916</td>\n",
       "      <td>10,000</td>\n",
       "      <td>0.031003439720000</td>\n",
       "    </tr>\n",
       "    <tr>\n",
       "      <th>8</th>\n",
       "      <td>8</td>\n",
       "      <td>0.000000086991011</td>\n",
       "      <td>81</td>\n",
       "      <td>100,000</td>\n",
       "      <td>0.008699101100000</td>\n",
       "    </tr>\n",
       "    <tr>\n",
       "      <th>9</th>\n",
       "      <td>9</td>\n",
       "      <td>0.000000001084817</td>\n",
       "      <td>1</td>\n",
       "      <td>1,000,000</td>\n",
       "      <td>0.001084817000000</td>\n",
       "    </tr>\n",
       "  </tbody>\n",
       "</table>\n",
       "</div>"
      ],
      "text/plain": [
       "   CorrectEventsCategory        Probability       Hits   Payouts  \\\n",
       "0                      0  0.383914086587635  387420489         0   \n",
       "1                      1  0.387794389109083  387420489         0   \n",
       "2                      2  0.174095044368292  172186884         1   \n",
       "3                      3  0.045591934865381   44641044         5   \n",
       "4                      4  0.007675453487304    7440174        50   \n",
       "5                      5  0.000861447348157     826686       100   \n",
       "6                      6  0.000064455815285      61236     1,000   \n",
       "7                      7  0.000003100343972       2916    10,000   \n",
       "8                      8  0.000000086991011         81   100,000   \n",
       "9                      9  0.000000001084817          1 1,000,000   \n",
       "\n",
       "       RTP_of_k_hits  \n",
       "0  0.000000000000000  \n",
       "1  0.000000000000000  \n",
       "2  0.174095044368292  \n",
       "3  0.227959674326905  \n",
       "4  0.383772674365200  \n",
       "5  0.086144734815700  \n",
       "6  0.064455815285000  \n",
       "7  0.031003439720000  \n",
       "8  0.008699101100000  \n",
       "9  0.001084817000000  "
      ]
     },
     "execution_count": 21,
     "metadata": {},
     "output_type": "execute_result"
    }
   ],
   "source": [
    "df_weightedSz10 = convertJsonIntoDataFrame(responseJsonSz10, len(events)+1, payouts)\n",
    "df_weightedSz10"
   ]
  },
  {
   "cell_type": "code",
   "execution_count": 22,
   "metadata": {
    "scrolled": true
   },
   "outputs": [
    {
     "name": "stdout",
     "output_type": "stream",
     "text": [
      "Probability = 1.0\n",
      "Hits        = 1000000000.0\n",
      "RTP         = 0.9772153009810971\n"
     ]
    }
   ],
   "source": [
    "print('Probability =', round(df_weightedSz10['Probability'].astype(float).sum(), 4))\n",
    "print('Hits        =', round(df_weightedSz10['Hits'].astype(float).sum(), 4))\n",
    "print('RTP         =', round(df_weightedSz10['RTP_of_k_hits'].astype(float).sum(), 18))"
   ]
  },
  {
   "cell_type": "markdown",
   "metadata": {},
   "source": [
    "With a weight fluctuation of +/-10 of intially 1000 the RTP increased from 94,96% to 97,72%."
   ]
  },
  {
   "cell_type": "markdown",
   "metadata": {},
   "source": [
    "## Cycle evaluation for modified weights -  weights fluctuate by +/- 100.\n",
    "Assuming that the weights fluctuate by +/- 10. Having that low flucatuation, what is the impact on the RTP ?"
   ]
  },
  {
   "cell_type": "code",
   "execution_count": 23,
   "metadata": {},
   "outputs": [],
   "source": [
    "delta = 100\n",
    "def getJsonEvents(): \n",
    "    events  = []\n",
    "    events.append({ \"weights\": [random.randint(1000-delta,1000+delta) for i in range(0,10)]})\n",
    "    events.append({ \"weights\": [random.randint(1000-delta,1000+delta) for i in range(0,10)]})\n",
    "    events.append({ \"weights\": [random.randint(1000-delta,1000+delta) for i in range(0,10)]})\n",
    "    events.append({ \"weights\": [random.randint(1000-delta,1000+delta) for i in range(0,10)]})\n",
    "    events.append({ \"weights\": [random.randint(1000-delta,1000+delta) for i in range(0,10)]})\n",
    "    events.append({ \"weights\": [random.randint(1000-delta,1000+delta) for i in range(0,10)]})\n",
    "    events.append({ \"weights\": [random.randint(1000-delta,1000+delta) for i in range(0,10)]})\n",
    "    events.append({ \"weights\": [random.randint(1000-delta,1000+delta) for i in range(0,10)]})\n",
    "    events.append({ \"weights\": [random.randint(1000-delta,1000+delta) for i in range(0,10)]})\n",
    "    return events"
   ]
  },
  {
   "cell_type": "code",
   "execution_count": 24,
   "metadata": {},
   "outputs": [
    {
     "data": {
      "text/plain": [
       "[{'weights': [1012, 1068, 952, 1050, 965, 1072, 931, 1088, 1000, 1000]},\n",
       " {'weights': [914, 991, 1070, 1075, 967, 1018, 1096, 1059, 1045, 1093]},\n",
       " {'weights': [911, 960, 998, 1045, 1043, 919, 1020, 989, 916, 1008]},\n",
       " {'weights': [1007, 966, 1072, 964, 1061, 1094, 976, 1040, 1056, 991]},\n",
       " {'weights': [1087, 1062, 1010, 1050, 985, 1030, 916, 1013, 906, 952]},\n",
       " {'weights': [917, 1100, 986, 901, 1015, 977, 976, 1023, 1009, 954]},\n",
       " {'weights': [1014, 1071, 1089, 930, 928, 1033, 1038, 910, 957, 913]},\n",
       " {'weights': [963, 902, 1048, 941, 1046, 1036, 947, 990, 965, 950]},\n",
       " {'weights': [933, 1073, 993, 1006, 916, 1008, 911, 1100, 1037, 975]}]"
      ]
     },
     "execution_count": 24,
     "metadata": {},
     "output_type": "execute_result"
    }
   ],
   "source": [
    "events = getJsonEvents()\n",
    "events"
   ]
  },
  {
   "cell_type": "code",
   "execution_count": 25,
   "metadata": {},
   "outputs": [
    {
     "name": "stdout",
     "output_type": "stream",
     "text": [
      "Time in seconds:  17.8067712\n"
     ]
    }
   ],
   "source": [
    "responseJsonSz100 = postRequestsObject('https://localhost:44339/api/Distribution', events)"
   ]
  },
  {
   "cell_type": "code",
   "execution_count": 26,
   "metadata": {},
   "outputs": [
    {
     "data": {
      "text/html": [
       "<div>\n",
       "<style scoped>\n",
       "    .dataframe tbody tr th:only-of-type {\n",
       "        vertical-align: middle;\n",
       "    }\n",
       "\n",
       "    .dataframe tbody tr th {\n",
       "        vertical-align: top;\n",
       "    }\n",
       "\n",
       "    .dataframe thead th {\n",
       "        text-align: right;\n",
       "    }\n",
       "</style>\n",
       "<table border=\"1\" class=\"dataframe\">\n",
       "  <thead>\n",
       "    <tr style=\"text-align: right;\">\n",
       "      <th></th>\n",
       "      <th>CorrectEventsCategory</th>\n",
       "      <th>Probability</th>\n",
       "      <th>Hits</th>\n",
       "      <th>Payouts</th>\n",
       "      <th>RTP_of_k_hits</th>\n",
       "    </tr>\n",
       "  </thead>\n",
       "  <tbody>\n",
       "    <tr>\n",
       "      <th>0</th>\n",
       "      <td>0</td>\n",
       "      <td>0.356338787561534</td>\n",
       "      <td>387420489</td>\n",
       "      <td>0</td>\n",
       "      <td>0.000000000000000</td>\n",
       "    </tr>\n",
       "    <tr>\n",
       "      <th>1</th>\n",
       "      <td>1</td>\n",
       "      <td>0.389612314620867</td>\n",
       "      <td>387420489</td>\n",
       "      <td>0</td>\n",
       "      <td>0.000000000000000</td>\n",
       "    </tr>\n",
       "    <tr>\n",
       "      <th>2</th>\n",
       "      <td>2</td>\n",
       "      <td>0.189321228421848</td>\n",
       "      <td>172186884</td>\n",
       "      <td>1</td>\n",
       "      <td>0.189321228421848</td>\n",
       "    </tr>\n",
       "    <tr>\n",
       "      <th>3</th>\n",
       "      <td>3</td>\n",
       "      <td>0.053661447157180</td>\n",
       "      <td>44641044</td>\n",
       "      <td>5</td>\n",
       "      <td>0.268307235785900</td>\n",
       "    </tr>\n",
       "    <tr>\n",
       "      <th>4</th>\n",
       "      <td>4</td>\n",
       "      <td>0.009777315094052</td>\n",
       "      <td>7440174</td>\n",
       "      <td>50</td>\n",
       "      <td>0.488865754702600</td>\n",
       "    </tr>\n",
       "    <tr>\n",
       "      <th>5</th>\n",
       "      <td>5</td>\n",
       "      <td>0.001187586710340</td>\n",
       "      <td>826686</td>\n",
       "      <td>100</td>\n",
       "      <td>0.118758671034000</td>\n",
       "    </tr>\n",
       "    <tr>\n",
       "      <th>6</th>\n",
       "      <td>6</td>\n",
       "      <td>0.000096161136889</td>\n",
       "      <td>61236</td>\n",
       "      <td>1,000</td>\n",
       "      <td>0.096161136889000</td>\n",
       "    </tr>\n",
       "    <tr>\n",
       "      <th>7</th>\n",
       "      <td>7</td>\n",
       "      <td>0.000005005277739</td>\n",
       "      <td>2916</td>\n",
       "      <td>10,000</td>\n",
       "      <td>0.050052777390000</td>\n",
       "    </tr>\n",
       "    <tr>\n",
       "      <th>8</th>\n",
       "      <td>8</td>\n",
       "      <td>0.000000151968467</td>\n",
       "      <td>81</td>\n",
       "      <td>100,000</td>\n",
       "      <td>0.015196846700000</td>\n",
       "    </tr>\n",
       "    <tr>\n",
       "      <th>9</th>\n",
       "      <td>9</td>\n",
       "      <td>0.000000002050578</td>\n",
       "      <td>1</td>\n",
       "      <td>1,000,000</td>\n",
       "      <td>0.002050578000000</td>\n",
       "    </tr>\n",
       "  </tbody>\n",
       "</table>\n",
       "</div>"
      ],
      "text/plain": [
       "   CorrectEventsCategory        Probability       Hits   Payouts  \\\n",
       "0                      0  0.356338787561534  387420489         0   \n",
       "1                      1  0.389612314620867  387420489         0   \n",
       "2                      2  0.189321228421848  172186884         1   \n",
       "3                      3  0.053661447157180   44641044         5   \n",
       "4                      4  0.009777315094052    7440174        50   \n",
       "5                      5  0.001187586710340     826686       100   \n",
       "6                      6  0.000096161136889      61236     1,000   \n",
       "7                      7  0.000005005277739       2916    10,000   \n",
       "8                      8  0.000000151968467         81   100,000   \n",
       "9                      9  0.000000002050578          1 1,000,000   \n",
       "\n",
       "       RTP_of_k_hits  \n",
       "0  0.000000000000000  \n",
       "1  0.000000000000000  \n",
       "2  0.189321228421848  \n",
       "3  0.268307235785900  \n",
       "4  0.488865754702600  \n",
       "5  0.118758671034000  \n",
       "6  0.096161136889000  \n",
       "7  0.050052777390000  \n",
       "8  0.015196846700000  \n",
       "9  0.002050578000000  "
      ]
     },
     "execution_count": 26,
     "metadata": {},
     "output_type": "execute_result"
    }
   ],
   "source": [
    "df_weightedSz100 = convertJsonIntoDataFrame(responseJsonSz100, len(events)+1, payouts)\n",
    "df_weightedSz100"
   ]
  },
  {
   "cell_type": "code",
   "execution_count": 27,
   "metadata": {},
   "outputs": [
    {
     "name": "stdout",
     "output_type": "stream",
     "text": [
      "Probability = 1.0\n",
      "Hits        = 1000000000.0\n",
      "RTP         = 1.2287142289233481\n"
     ]
    }
   ],
   "source": [
    "print('Probability =', round(df_weightedSz100['Probability'].astype(float).sum(), 4))\n",
    "print('Hits        =', round(df_weightedSz100['Hits'].astype(float).sum(), 4))\n",
    "print('RTP         =', round(df_weightedSz100['RTP_of_k_hits'].astype(float).sum(), 18))"
   ]
  },
  {
   "cell_type": "markdown",
   "metadata": {},
   "source": [
    "With a weight fluctuation of +/-1 of intially 1000 the RTP increased from 94,96% to 122,87%."
   ]
  },
  {
   "cell_type": "markdown",
   "metadata": {},
   "source": [
    "## Cycle evaluation for modified weights -  weights fluctuate by +/- 1000.\n",
    "Assuming that the weights fluctuate by +/- 1000. Having that low flucatuation, what is the impact on the RTP ?"
   ]
  },
  {
   "cell_type": "code",
   "execution_count": 28,
   "metadata": {},
   "outputs": [],
   "source": [
    "delta = 1000\n",
    "def getJsonEvents(): \n",
    "    events  = []\n",
    "    events.append({ \"weights\": [random.randint(1000-delta,1000+delta) for i in range(0,10)]})\n",
    "    events.append({ \"weights\": [random.randint(1000-delta,1000+delta) for i in range(0,10)]})\n",
    "    events.append({ \"weights\": [random.randint(1000-delta,1000+delta) for i in range(0,10)]})\n",
    "    events.append({ \"weights\": [random.randint(1000-delta,1000+delta) for i in range(0,10)]})\n",
    "    events.append({ \"weights\": [random.randint(1000-delta,1000+delta) for i in range(0,10)]})\n",
    "    events.append({ \"weights\": [random.randint(1000-delta,1000+delta) for i in range(0,10)]})\n",
    "    events.append({ \"weights\": [random.randint(1000-delta,1000+delta) for i in range(0,10)]})\n",
    "    events.append({ \"weights\": [random.randint(1000-delta,1000+delta) for i in range(0,10)]})\n",
    "    events.append({ \"weights\": [random.randint(1000-delta,1000+delta) for i in range(0,10)]})\n",
    "    return events"
   ]
  },
  {
   "cell_type": "code",
   "execution_count": 29,
   "metadata": {},
   "outputs": [
    {
     "data": {
      "text/plain": [
       "[{'weights': [923, 120, 175, 1275, 1185, 252, 360, 1527, 1661, 137]},\n",
       " {'weights': [1441, 1221, 758, 1812, 1089, 910, 1567, 453, 1547, 885]},\n",
       " {'weights': [1057, 1849, 475, 854, 1032, 212, 336, 235, 1646, 1961]},\n",
       " {'weights': [1329, 109, 31, 1394, 61, 649, 834, 452, 1766, 957]},\n",
       " {'weights': [1375, 1941, 342, 1546, 1803, 685, 1354, 107, 567, 1871]},\n",
       " {'weights': [1858, 1024, 1976, 990, 1963, 1588, 1840, 1603, 170, 128]},\n",
       " {'weights': [922, 945, 1343, 438, 332, 1104, 1791, 753, 531, 1995]},\n",
       " {'weights': [404, 999, 810, 1885, 1076, 298, 1882, 700, 476, 1951]},\n",
       " {'weights': [1030, 1168, 1535, 1377, 816, 49, 1572, 1735, 371, 473]}]"
      ]
     },
     "execution_count": 29,
     "metadata": {},
     "output_type": "execute_result"
    }
   ],
   "source": [
    "events = getJsonEvents()\n",
    "events"
   ]
  },
  {
   "cell_type": "code",
   "execution_count": 30,
   "metadata": {},
   "outputs": [
    {
     "name": "stdout",
     "output_type": "stream",
     "text": [
      "Time in seconds:  17.096986599999994\n"
     ]
    }
   ],
   "source": [
    "responseJsonSz1000 = postRequestsObject('https://localhost:44339/api/Distribution', events)"
   ]
  },
  {
   "cell_type": "code",
   "execution_count": 31,
   "metadata": {},
   "outputs": [
    {
     "data": {
      "text/html": [
       "<div>\n",
       "<style scoped>\n",
       "    .dataframe tbody tr th:only-of-type {\n",
       "        vertical-align: middle;\n",
       "    }\n",
       "\n",
       "    .dataframe tbody tr th {\n",
       "        vertical-align: top;\n",
       "    }\n",
       "\n",
       "    .dataframe thead th {\n",
       "        text-align: right;\n",
       "    }\n",
       "</style>\n",
       "<table border=\"1\" class=\"dataframe\">\n",
       "  <thead>\n",
       "    <tr style=\"text-align: right;\">\n",
       "      <th></th>\n",
       "      <th>CorrectEventsCategory</th>\n",
       "      <th>Probability</th>\n",
       "      <th>Hits</th>\n",
       "      <th>Payouts</th>\n",
       "      <th>RTP_of_k_hits</th>\n",
       "    </tr>\n",
       "  </thead>\n",
       "  <tbody>\n",
       "    <tr>\n",
       "      <th>0</th>\n",
       "      <td>0</td>\n",
       "      <td>0.154796770430245</td>\n",
       "      <td>387420489</td>\n",
       "      <td>0</td>\n",
       "      <td>0.000000000000000</td>\n",
       "    </tr>\n",
       "    <tr>\n",
       "      <th>1</th>\n",
       "      <td>1</td>\n",
       "      <td>0.321843680254194</td>\n",
       "      <td>387420489</td>\n",
       "      <td>0</td>\n",
       "      <td>0.000000000000000</td>\n",
       "    </tr>\n",
       "    <tr>\n",
       "      <th>2</th>\n",
       "      <td>2</td>\n",
       "      <td>0.296243863705642</td>\n",
       "      <td>172186884</td>\n",
       "      <td>1</td>\n",
       "      <td>0.296243863705642</td>\n",
       "    </tr>\n",
       "    <tr>\n",
       "      <th>3</th>\n",
       "      <td>3</td>\n",
       "      <td>0.158446695868976</td>\n",
       "      <td>44641044</td>\n",
       "      <td>5</td>\n",
       "      <td>0.792233479344880</td>\n",
       "    </tr>\n",
       "    <tr>\n",
       "      <th>4</th>\n",
       "      <td>4</td>\n",
       "      <td>0.054269193642557</td>\n",
       "      <td>7440174</td>\n",
       "      <td>50</td>\n",
       "      <td>2.713459682127850</td>\n",
       "    </tr>\n",
       "    <tr>\n",
       "      <th>5</th>\n",
       "      <td>5</td>\n",
       "      <td>0.012344225766792</td>\n",
       "      <td>826686</td>\n",
       "      <td>100</td>\n",
       "      <td>1.234422576679200</td>\n",
       "    </tr>\n",
       "    <tr>\n",
       "      <th>6</th>\n",
       "      <td>6</td>\n",
       "      <td>0.001864768165397</td>\n",
       "      <td>61236</td>\n",
       "      <td>1,000</td>\n",
       "      <td>1.864768165397000</td>\n",
       "    </tr>\n",
       "    <tr>\n",
       "      <th>7</th>\n",
       "      <td>7</td>\n",
       "      <td>0.000180406777482</td>\n",
       "      <td>2916</td>\n",
       "      <td>10,000</td>\n",
       "      <td>1.804067774820000</td>\n",
       "    </tr>\n",
       "    <tr>\n",
       "      <th>8</th>\n",
       "      <td>8</td>\n",
       "      <td>0.000010142887201</td>\n",
       "      <td>81</td>\n",
       "      <td>100,000</td>\n",
       "      <td>1.014288720100000</td>\n",
       "    </tr>\n",
       "    <tr>\n",
       "      <th>9</th>\n",
       "      <td>9</td>\n",
       "      <td>0.000000252501448</td>\n",
       "      <td>1</td>\n",
       "      <td>1,000,000</td>\n",
       "      <td>0.252501448000000</td>\n",
       "    </tr>\n",
       "  </tbody>\n",
       "</table>\n",
       "</div>"
      ],
      "text/plain": [
       "   CorrectEventsCategory        Probability       Hits   Payouts  \\\n",
       "0                      0  0.154796770430245  387420489         0   \n",
       "1                      1  0.321843680254194  387420489         0   \n",
       "2                      2  0.296243863705642  172186884         1   \n",
       "3                      3  0.158446695868976   44641044         5   \n",
       "4                      4  0.054269193642557    7440174        50   \n",
       "5                      5  0.012344225766792     826686       100   \n",
       "6                      6  0.001864768165397      61236     1,000   \n",
       "7                      7  0.000180406777482       2916    10,000   \n",
       "8                      8  0.000010142887201         81   100,000   \n",
       "9                      9  0.000000252501448          1 1,000,000   \n",
       "\n",
       "       RTP_of_k_hits  \n",
       "0  0.000000000000000  \n",
       "1  0.000000000000000  \n",
       "2  0.296243863705642  \n",
       "3  0.792233479344880  \n",
       "4  2.713459682127850  \n",
       "5  1.234422576679200  \n",
       "6  1.864768165397000  \n",
       "7  1.804067774820000  \n",
       "8  1.014288720100000  \n",
       "9  0.252501448000000  "
      ]
     },
     "execution_count": 31,
     "metadata": {},
     "output_type": "execute_result"
    }
   ],
   "source": [
    "df_weightedSz1000 = convertJsonIntoDataFrame(responseJsonSz1000, len(events)+1, payouts)\n",
    "df_weightedSz1000"
   ]
  },
  {
   "cell_type": "code",
   "execution_count": 32,
   "metadata": {
    "scrolled": false
   },
   "outputs": [
    {
     "name": "stdout",
     "output_type": "stream",
     "text": [
      "Probability = 1.0\n",
      "Hits        = 1000000000.0\n",
      "RTP         = 9.971985710174572\n"
     ]
    }
   ],
   "source": [
    "print('Probability =', round(df_weightedSz1000['Probability'].astype(float).sum(), 4))\n",
    "print('Hits        =', round(df_weightedSz1000['Hits'].astype(float).sum(), 4))\n",
    "print('RTP         =', round(df_weightedSz1000['RTP_of_k_hits'].astype(float).sum(), 18))"
   ]
  },
  {
   "cell_type": "markdown",
   "metadata": {},
   "source": [
    "With a weight fluctuation of +/-1 of intially 1000 the RTP increased from 94,96% to 997,20%."
   ]
  },
  {
   "cell_type": "markdown",
   "metadata": {},
   "source": [
    "## Cycle evaluation for modified weights -  one extremely high probable outcome for each event\n",
    "Assuming that one outcome is extremely overweighted. Having that extreme skewness in the weights, what is the impact on the RTP ?"
   ]
  },
  {
   "cell_type": "code",
   "execution_count": 33,
   "metadata": {},
   "outputs": [],
   "source": [
    "def getJsonEvents(): \n",
    "    events  = []\n",
    "    events.append({ \"weights\": [5,1,1,1,1,1,1,1,1,1]})\n",
    "    events.append({ \"weights\": [5,1,1,1,1,1,1,1,1,1]})\n",
    "    events.append({ \"weights\": [5,1,1,1,1,1,1,1,1,1]})\n",
    "    events.append({ \"weights\": [5,1,1,1,1,1,1,1,1,1]})\n",
    "    events.append({ \"weights\": [5,1,1,1,1,1,1,1,1,1]})\n",
    "    events.append({ \"weights\": [5,1,1,1,1,1,1,1,1,1]})\n",
    "    events.append({ \"weights\": [5,1,1,1,1,1,1,1,1,1]})\n",
    "    events.append({ \"weights\": [5,1,1,1,1,1,1,1,1,1]})\n",
    "    events.append({ \"weights\": [5,1,1,1,1,1,1,1,1,1]})\n",
    "    return events\n",
    "\n",
    "events = getJsonEvents()"
   ]
  },
  {
   "cell_type": "code",
   "execution_count": 34,
   "metadata": {},
   "outputs": [
    {
     "data": {
      "text/plain": [
       "[{'weights': [5, 1, 1, 1, 1, 1, 1, 1, 1, 1]},\n",
       " {'weights': [5, 1, 1, 1, 1, 1, 1, 1, 1, 1]},\n",
       " {'weights': [5, 1, 1, 1, 1, 1, 1, 1, 1, 1]},\n",
       " {'weights': [5, 1, 1, 1, 1, 1, 1, 1, 1, 1]},\n",
       " {'weights': [5, 1, 1, 1, 1, 1, 1, 1, 1, 1]},\n",
       " {'weights': [5, 1, 1, 1, 1, 1, 1, 1, 1, 1]},\n",
       " {'weights': [5, 1, 1, 1, 1, 1, 1, 1, 1, 1]},\n",
       " {'weights': [5, 1, 1, 1, 1, 1, 1, 1, 1, 1]},\n",
       " {'weights': [5, 1, 1, 1, 1, 1, 1, 1, 1, 1]}]"
      ]
     },
     "execution_count": 34,
     "metadata": {},
     "output_type": "execute_result"
    }
   ],
   "source": [
    "events = getJsonEvents()\n",
    "events"
   ]
  },
  {
   "cell_type": "code",
   "execution_count": 35,
   "metadata": {},
   "outputs": [
    {
     "name": "stdout",
     "output_type": "stream",
     "text": [
      "Time in seconds:  17.42413719999999\n"
     ]
    }
   ],
   "source": [
    "responseJsonExt = postRequestsObject('https://localhost:44339/api/Distribution', events)"
   ]
  },
  {
   "cell_type": "code",
   "execution_count": 36,
   "metadata": {},
   "outputs": [
    {
     "data": {
      "text/html": [
       "<div>\n",
       "<style scoped>\n",
       "    .dataframe tbody tr th:only-of-type {\n",
       "        vertical-align: middle;\n",
       "    }\n",
       "\n",
       "    .dataframe tbody tr th {\n",
       "        vertical-align: top;\n",
       "    }\n",
       "\n",
       "    .dataframe thead th {\n",
       "        text-align: right;\n",
       "    }\n",
       "</style>\n",
       "<table border=\"1\" class=\"dataframe\">\n",
       "  <thead>\n",
       "    <tr style=\"text-align: right;\">\n",
       "      <th></th>\n",
       "      <th>CorrectEventsCategory</th>\n",
       "      <th>Probability</th>\n",
       "      <th>Hits</th>\n",
       "      <th>Payouts</th>\n",
       "      <th>RTP_of_k_hits</th>\n",
       "    </tr>\n",
       "  </thead>\n",
       "  <tbody>\n",
       "    <tr>\n",
       "      <th>0</th>\n",
       "      <td>0</td>\n",
       "      <td>0.018751251746698</td>\n",
       "      <td>387420489</td>\n",
       "      <td>0</td>\n",
       "      <td>0.000000000000000</td>\n",
       "    </tr>\n",
       "    <tr>\n",
       "      <th>1</th>\n",
       "      <td>1</td>\n",
       "      <td>0.093756259240041</td>\n",
       "      <td>387420489</td>\n",
       "      <td>0</td>\n",
       "      <td>0.000000000000000</td>\n",
       "    </tr>\n",
       "    <tr>\n",
       "      <th>2</th>\n",
       "      <td>2</td>\n",
       "      <td>0.208347241303105</td>\n",
       "      <td>172186884</td>\n",
       "      <td>1</td>\n",
       "      <td>0.208347241303105</td>\n",
       "    </tr>\n",
       "    <tr>\n",
       "      <th>3</th>\n",
       "      <td>3</td>\n",
       "      <td>0.270079757336929</td>\n",
       "      <td>44641044</td>\n",
       "      <td>5</td>\n",
       "      <td>1.350398786684645</td>\n",
       "    </tr>\n",
       "    <tr>\n",
       "      <th>4</th>\n",
       "      <td>4</td>\n",
       "      <td>0.225066464370843</td>\n",
       "      <td>7440174</td>\n",
       "      <td>50</td>\n",
       "      <td>11.253323218542150</td>\n",
       "    </tr>\n",
       "    <tr>\n",
       "      <th>5</th>\n",
       "      <td>5</td>\n",
       "      <td>0.125036924652537</td>\n",
       "      <td>826686</td>\n",
       "      <td>100</td>\n",
       "      <td>12.503692465253700</td>\n",
       "    </tr>\n",
       "    <tr>\n",
       "      <th>6</th>\n",
       "      <td>6</td>\n",
       "      <td>0.046309972093995</td>\n",
       "      <td>61236</td>\n",
       "      <td>1,000</td>\n",
       "      <td>46.309972093995000</td>\n",
       "    </tr>\n",
       "    <tr>\n",
       "      <th>7</th>\n",
       "      <td>7</td>\n",
       "      <td>0.011026183831907</td>\n",
       "      <td>2916</td>\n",
       "      <td>10,000</td>\n",
       "      <td>110.261838319069994</td>\n",
       "    </tr>\n",
       "    <tr>\n",
       "      <th>8</th>\n",
       "      <td>8</td>\n",
       "      <td>0.001531414421098</td>\n",
       "      <td>81</td>\n",
       "      <td>100,000</td>\n",
       "      <td>153.141442109800010</td>\n",
       "    </tr>\n",
       "    <tr>\n",
       "      <th>9</th>\n",
       "      <td>9</td>\n",
       "      <td>0.000094531754389</td>\n",
       "      <td>1</td>\n",
       "      <td>1,000,000</td>\n",
       "      <td>94.531754389000000</td>\n",
       "    </tr>\n",
       "  </tbody>\n",
       "</table>\n",
       "</div>"
      ],
      "text/plain": [
       "   CorrectEventsCategory        Probability       Hits   Payouts  \\\n",
       "0                      0  0.018751251746698  387420489         0   \n",
       "1                      1  0.093756259240041  387420489         0   \n",
       "2                      2  0.208347241303105  172186884         1   \n",
       "3                      3  0.270079757336929   44641044         5   \n",
       "4                      4  0.225066464370843    7440174        50   \n",
       "5                      5  0.125036924652537     826686       100   \n",
       "6                      6  0.046309972093995      61236     1,000   \n",
       "7                      7  0.011026183831907       2916    10,000   \n",
       "8                      8  0.001531414421098         81   100,000   \n",
       "9                      9  0.000094531754389          1 1,000,000   \n",
       "\n",
       "         RTP_of_k_hits  \n",
       "0    0.000000000000000  \n",
       "1    0.000000000000000  \n",
       "2    0.208347241303105  \n",
       "3    1.350398786684645  \n",
       "4   11.253323218542150  \n",
       "5   12.503692465253700  \n",
       "6   46.309972093995000  \n",
       "7  110.261838319069994  \n",
       "8  153.141442109800010  \n",
       "9   94.531754389000000  "
      ]
     },
     "execution_count": 36,
     "metadata": {},
     "output_type": "execute_result"
    }
   ],
   "source": [
    "df_weightedExt = convertJsonIntoDataFrame(responseJsonExt, len(events)+1, payouts)\n",
    "df_weightedExt"
   ]
  },
  {
   "cell_type": "code",
   "execution_count": 37,
   "metadata": {
    "scrolled": true
   },
   "outputs": [
    {
     "name": "stdout",
     "output_type": "stream",
     "text": [
      "Probability = 1.0\n",
      "Hits        = 1000000000.0\n",
      "RTP         = 429.56076862364864\n"
     ]
    }
   ],
   "source": [
    "print('Probability =', round(df_weightedExt['Probability'].astype(float).sum(), 4))\n",
    "print('Hits        =', round(df_weightedExt['Hits'].astype(float).sum(), 4))\n",
    "print('RTP         =', round(df_weightedExt['RTP_of_k_hits'].astype(float).sum(), 18))"
   ]
  },
  {
   "cell_type": "markdown",
   "metadata": {},
   "source": [
    "With one outcome of each event being five-times as big as the other outcomes the RTP increased from 94,96% to 42956,07%."
   ]
  },
  {
   "cell_type": "markdown",
   "metadata": {},
   "source": [
    "# Impact of the different szenarios for increased volatility on the weights.\n",
    "Part 5. Comparision of the different szenarios."
   ]
  },
  {
   "cell_type": "code",
   "execution_count": 89,
   "metadata": {
    "scrolled": false
   },
   "outputs": [
    {
     "data": {
      "image/png": "[encoded data removed]",
      "text/plain": [
       "<Figure size 864x504 with 1 Axes>"
      ]
     },
     "metadata": {
      "needs_background": "light"
     },
     "output_type": "display_data"
    }
   ],
   "source": [
    "df_Probabilities = pd.concat([df_weighted_equally[['Probability']].astype(float).rename(columns={\"Probability\": \"ProbEqDist\"}),\n",
    "           df_weightedSz1[['Probability']].astype(float).rename(columns={\"Probability\": \"ProbEqSz1\"}),\n",
    "           df_weightedSz10[['Probability']].astype(float).rename(columns={\"Probability\": \"ProbEqSz10\"}),\n",
    "           df_weightedSz100[['Probability']].astype(float).rename(columns={\"Probability\": \"ProbEqSz100\"}),\n",
    "           df_weightedSz1000[['Probability']].astype(float).rename(columns={\"Probability\": \"ProbEqSz1000\"}),\n",
    "           df_weightedExt[['Probability']].astype(float).rename(columns={\"Probability\": \"ProbEqExt\"})]\n",
    "        ,axis=1)\n",
    "\n",
    "df_Probabilities.plot(figsize=(12,7))\n",
    "plt.show()"
   ]
  },
  {
   "cell_type": "markdown",
   "metadata": {},
   "source": [
    "..."
   ]
  },
  {
   "cell_type": "code",
   "execution_count": 77,
   "metadata": {},
   "outputs": [
    {
     "data": {
      "text/html": [
       "<div>\n",
       "<style scoped>\n",
       "    .dataframe tbody tr th:only-of-type {\n",
       "        vertical-align: middle;\n",
       "    }\n",
       "\n",
       "    .dataframe tbody tr th {\n",
       "        vertical-align: top;\n",
       "    }\n",
       "\n",
       "    .dataframe thead th {\n",
       "        text-align: right;\n",
       "    }\n",
       "</style>\n",
       "<table border=\"1\" class=\"dataframe\">\n",
       "  <thead>\n",
       "    <tr style=\"text-align: right;\">\n",
       "      <th></th>\n",
       "      <th>ProbEqDist</th>\n",
       "      <th>ProbEqSz1</th>\n",
       "      <th>ProbEqSz10</th>\n",
       "      <th>ProbEqSz100</th>\n",
       "      <th>ProbEqSz1000</th>\n",
       "      <th>ProbEqExt</th>\n",
       "    </tr>\n",
       "  </thead>\n",
       "  <tbody>\n",
       "    <tr>\n",
       "      <th>0</th>\n",
       "      <td>0.3874204926</td>\n",
       "      <td>0.3870504445</td>\n",
       "      <td>0.3839140866</td>\n",
       "      <td>0.3563387876</td>\n",
       "      <td>0.1547967704</td>\n",
       "      <td>0.0187512517</td>\n",
       "    </tr>\n",
       "    <tr>\n",
       "      <th>1</th>\n",
       "      <td>0.3874204926</td>\n",
       "      <td>0.3874614316</td>\n",
       "      <td>0.3877943891</td>\n",
       "      <td>0.3896123146</td>\n",
       "      <td>0.3218436803</td>\n",
       "      <td>0.0937562592</td>\n",
       "    </tr>\n",
       "    <tr>\n",
       "      <th>2</th>\n",
       "      <td>0.1721868839</td>\n",
       "      <td>0.1723879344</td>\n",
       "      <td>0.1740950444</td>\n",
       "      <td>0.1893212284</td>\n",
       "      <td>0.2962438637</td>\n",
       "      <td>0.2083472413</td>\n",
       "    </tr>\n",
       "    <tr>\n",
       "      <th>3</th>\n",
       "      <td>0.0446410440</td>\n",
       "      <td>0.0447406248</td>\n",
       "      <td>0.0455919349</td>\n",
       "      <td>0.0536614472</td>\n",
       "      <td>0.1584466959</td>\n",
       "      <td>0.2700797573</td>\n",
       "    </tr>\n",
       "    <tr>\n",
       "      <th>4</th>\n",
       "      <td>0.0074401740</td>\n",
       "      <td>0.0074646886</td>\n",
       "      <td>0.0076754535</td>\n",
       "      <td>0.0097773151</td>\n",
       "      <td>0.0542691936</td>\n",
       "      <td>0.2250664644</td>\n",
       "    </tr>\n",
       "    <tr>\n",
       "      <th>5</th>\n",
       "      <td>0.0008266860</td>\n",
       "      <td>0.0008302905</td>\n",
       "      <td>0.0008614473</td>\n",
       "      <td>0.0011875867</td>\n",
       "      <td>0.0123442258</td>\n",
       "      <td>0.1250369247</td>\n",
       "    </tr>\n",
       "    <tr>\n",
       "      <th>6</th>\n",
       "      <td>0.0000612360</td>\n",
       "      <td>0.0000615683</td>\n",
       "      <td>0.0000644558</td>\n",
       "      <td>0.0000961611</td>\n",
       "      <td>0.0018647682</td>\n",
       "      <td>0.0463099721</td>\n",
       "    </tr>\n",
       "    <tr>\n",
       "      <th>7</th>\n",
       "      <td>0.0000029160</td>\n",
       "      <td>0.0000029349</td>\n",
       "      <td>0.0000031003</td>\n",
       "      <td>0.0000050053</td>\n",
       "      <td>0.0001804068</td>\n",
       "      <td>0.0110261838</td>\n",
       "    </tr>\n",
       "    <tr>\n",
       "      <th>8</th>\n",
       "      <td>0.0000000810</td>\n",
       "      <td>0.0000000816</td>\n",
       "      <td>0.0000000870</td>\n",
       "      <td>0.0000001520</td>\n",
       "      <td>0.0000101429</td>\n",
       "      <td>0.0015314144</td>\n",
       "    </tr>\n",
       "    <tr>\n",
       "      <th>9</th>\n",
       "      <td>0.0000000010</td>\n",
       "      <td>0.0000000010</td>\n",
       "      <td>0.0000000011</td>\n",
       "      <td>0.0000000021</td>\n",
       "      <td>0.0000002525</td>\n",
       "      <td>0.0000945318</td>\n",
       "    </tr>\n",
       "  </tbody>\n",
       "</table>\n",
       "</div>"
      ],
      "text/plain": [
       "    ProbEqDist    ProbEqSz1   ProbEqSz10  ProbEqSz100  ProbEqSz1000  \\\n",
       "0 0.3874204926 0.3870504445 0.3839140866 0.3563387876  0.1547967704   \n",
       "1 0.3874204926 0.3874614316 0.3877943891 0.3896123146  0.3218436803   \n",
       "2 0.1721868839 0.1723879344 0.1740950444 0.1893212284  0.2962438637   \n",
       "3 0.0446410440 0.0447406248 0.0455919349 0.0536614472  0.1584466959   \n",
       "4 0.0074401740 0.0074646886 0.0076754535 0.0097773151  0.0542691936   \n",
       "5 0.0008266860 0.0008302905 0.0008614473 0.0011875867  0.0123442258   \n",
       "6 0.0000612360 0.0000615683 0.0000644558 0.0000961611  0.0018647682   \n",
       "7 0.0000029160 0.0000029349 0.0000031003 0.0000050053  0.0001804068   \n",
       "8 0.0000000810 0.0000000816 0.0000000870 0.0000001520  0.0000101429   \n",
       "9 0.0000000010 0.0000000010 0.0000000011 0.0000000021  0.0000002525   \n",
       "\n",
       "     ProbEqExt  \n",
       "0 0.0187512517  \n",
       "1 0.0937562592  \n",
       "2 0.2083472413  \n",
       "3 0.2700797573  \n",
       "4 0.2250664644  \n",
       "5 0.1250369247  \n",
       "6 0.0463099721  \n",
       "7 0.0110261838  \n",
       "8 0.0015314144  \n",
       "9 0.0000945318  "
      ]
     },
     "execution_count": 77,
     "metadata": {},
     "output_type": "execute_result"
    }
   ],
   "source": [
    "pd.options.display.float_format = \"{:,.10f}\".format\n",
    "df_Probabilities"
   ]
  },
  {
   "cell_type": "code",
   "execution_count": 81,
   "metadata": {
    "scrolled": true
   },
   "outputs": [
    {
     "data": {
      "image/png": "[encoded data removed]",
      "text/plain": [
       "<Figure size 1224x504 with 2 Axes>"
      ]
     },
     "metadata": {
      "needs_background": "light"
     },
     "output_type": "display_data"
    }
   ],
   "source": [
    "fig, axes = plt.subplots(nrows=1, ncols=2)\n",
    "df_RTP_of_k_hits = pd.concat([df_weighted_equally[['RTP_of_k_hits']].astype(float).rename(columns={\"RTP_of_k_hits\": \"RTP_of_k_hitsEqDist\"}),\n",
    "           df_weightedSz1[['RTP_of_k_hits']].astype(float).rename(columns={\"RTP_of_k_hits\": \"RTP_of_k_hitsSz1\"}),\n",
    "           df_weightedSz10[['RTP_of_k_hits']].astype(float).rename(columns={\"RTP_of_k_hits\": \"RTP_of_k_hitsSz10\"}),\n",
    "           df_weightedSz100[['RTP_of_k_hits']].astype(float).rename(columns={\"RTP_of_k_hits\": \"RTP_of_k_hitsSz100\"}),\n",
    "           df_weightedSz1000[['RTP_of_k_hits']].astype(float).rename(columns={\"RTP_of_k_hits\": \"RTP_of_k_hitsSz1000\"}),  \n",
    "           df_weightedExt[['RTP_of_k_hits']].astype(float).rename(columns={\"RTP_of_k_hits\": \"RTP_of_k_hitsExt\"})\n",
    "        ],axis=1)\n",
    "\n",
    "df_RTP_of_k_hits[['RTP_of_k_hitsEqDist','RTP_of_k_hitsSz1','RTP_of_k_hitsSz10','RTP_of_k_hitsSz100']].plot(figsize=(18,7), ax=axes[0])\n",
    "df_RTP_of_k_hits[['RTP_of_k_hitsSz1000','RTP_of_k_hitsExt']].plot(figsize=(17,7), ax=axes[1])\n",
    "plt.show()"
   ]
  },
  {
   "cell_type": "markdown",
   "metadata": {},
   "source": [
    "..."
   ]
  },
  {
   "cell_type": "code",
   "execution_count": 83,
   "metadata": {},
   "outputs": [
    {
     "data": {
      "text/html": [
       "<div>\n",
       "<style scoped>\n",
       "    .dataframe tbody tr th:only-of-type {\n",
       "        vertical-align: middle;\n",
       "    }\n",
       "\n",
       "    .dataframe tbody tr th {\n",
       "        vertical-align: top;\n",
       "    }\n",
       "\n",
       "    .dataframe thead th {\n",
       "        text-align: right;\n",
       "    }\n",
       "</style>\n",
       "<table border=\"1\" class=\"dataframe\">\n",
       "  <thead>\n",
       "    <tr style=\"text-align: right;\">\n",
       "      <th></th>\n",
       "      <th>RTP_of_k_hitsEqDist</th>\n",
       "      <th>RTP_of_k_hitsSz1</th>\n",
       "      <th>RTP_of_k_hitsSz10</th>\n",
       "      <th>RTP_of_k_hitsSz100</th>\n",
       "      <th>RTP_of_k_hitsSz1000</th>\n",
       "      <th>RTP_of_k_hitsExt</th>\n",
       "    </tr>\n",
       "  </thead>\n",
       "  <tbody>\n",
       "    <tr>\n",
       "      <th>0</th>\n",
       "      <td>0.0000000000</td>\n",
       "      <td>0.0000000000</td>\n",
       "      <td>0.0000000000</td>\n",
       "      <td>0.0000000000</td>\n",
       "      <td>0.0000000000</td>\n",
       "      <td>0.0000000000</td>\n",
       "    </tr>\n",
       "    <tr>\n",
       "      <th>1</th>\n",
       "      <td>0.0000000000</td>\n",
       "      <td>0.0000000000</td>\n",
       "      <td>0.0000000000</td>\n",
       "      <td>0.0000000000</td>\n",
       "      <td>0.0000000000</td>\n",
       "      <td>0.0000000000</td>\n",
       "    </tr>\n",
       "    <tr>\n",
       "      <th>2</th>\n",
       "      <td>0.1721868839</td>\n",
       "      <td>0.1723879344</td>\n",
       "      <td>0.1740950444</td>\n",
       "      <td>0.1893212284</td>\n",
       "      <td>0.2962438637</td>\n",
       "      <td>0.2083472413</td>\n",
       "    </tr>\n",
       "    <tr>\n",
       "      <th>3</th>\n",
       "      <td>0.2232052199</td>\n",
       "      <td>0.2237031240</td>\n",
       "      <td>0.2279596743</td>\n",
       "      <td>0.2683072358</td>\n",
       "      <td>0.7922334793</td>\n",
       "      <td>1.3503987867</td>\n",
       "    </tr>\n",
       "    <tr>\n",
       "      <th>4</th>\n",
       "      <td>0.3720087000</td>\n",
       "      <td>0.3732344292</td>\n",
       "      <td>0.3837726744</td>\n",
       "      <td>0.4888657547</td>\n",
       "      <td>2.7134596821</td>\n",
       "      <td>11.2533232185</td>\n",
       "    </tr>\n",
       "    <tr>\n",
       "      <th>5</th>\n",
       "      <td>0.0826686000</td>\n",
       "      <td>0.0830290526</td>\n",
       "      <td>0.0861447348</td>\n",
       "      <td>0.1187586710</td>\n",
       "      <td>1.2344225767</td>\n",
       "      <td>12.5036924653</td>\n",
       "    </tr>\n",
       "    <tr>\n",
       "      <th>6</th>\n",
       "      <td>0.0612360000</td>\n",
       "      <td>0.0615683066</td>\n",
       "      <td>0.0644558153</td>\n",
       "      <td>0.0961611369</td>\n",
       "      <td>1.8647681654</td>\n",
       "      <td>46.3099720940</td>\n",
       "    </tr>\n",
       "    <tr>\n",
       "      <th>7</th>\n",
       "      <td>0.0291600000</td>\n",
       "      <td>0.0293493715</td>\n",
       "      <td>0.0310034397</td>\n",
       "      <td>0.0500527774</td>\n",
       "      <td>1.8040677748</td>\n",
       "      <td>110.2618383191</td>\n",
       "    </tr>\n",
       "    <tr>\n",
       "      <th>8</th>\n",
       "      <td>0.0081000000</td>\n",
       "      <td>0.0081612596</td>\n",
       "      <td>0.0086991011</td>\n",
       "      <td>0.0151968467</td>\n",
       "      <td>1.0142887201</td>\n",
       "      <td>153.1414421098</td>\n",
       "    </tr>\n",
       "    <tr>\n",
       "      <th>9</th>\n",
       "      <td>0.0010000000</td>\n",
       "      <td>0.0010086330</td>\n",
       "      <td>0.0010848170</td>\n",
       "      <td>0.0020505780</td>\n",
       "      <td>0.2525014480</td>\n",
       "      <td>94.5317543890</td>\n",
       "    </tr>\n",
       "  </tbody>\n",
       "</table>\n",
       "</div>"
      ],
      "text/plain": [
       "   RTP_of_k_hitsEqDist  RTP_of_k_hitsSz1  RTP_of_k_hitsSz10  \\\n",
       "0         0.0000000000      0.0000000000       0.0000000000   \n",
       "1         0.0000000000      0.0000000000       0.0000000000   \n",
       "2         0.1721868839      0.1723879344       0.1740950444   \n",
       "3         0.2232052199      0.2237031240       0.2279596743   \n",
       "4         0.3720087000      0.3732344292       0.3837726744   \n",
       "5         0.0826686000      0.0830290526       0.0861447348   \n",
       "6         0.0612360000      0.0615683066       0.0644558153   \n",
       "7         0.0291600000      0.0293493715       0.0310034397   \n",
       "8         0.0081000000      0.0081612596       0.0086991011   \n",
       "9         0.0010000000      0.0010086330       0.0010848170   \n",
       "\n",
       "   RTP_of_k_hitsSz100  RTP_of_k_hitsSz1000  RTP_of_k_hitsExt  \n",
       "0        0.0000000000         0.0000000000      0.0000000000  \n",
       "1        0.0000000000         0.0000000000      0.0000000000  \n",
       "2        0.1893212284         0.2962438637      0.2083472413  \n",
       "3        0.2683072358         0.7922334793      1.3503987867  \n",
       "4        0.4888657547         2.7134596821     11.2533232185  \n",
       "5        0.1187586710         1.2344225767     12.5036924653  \n",
       "6        0.0961611369         1.8647681654     46.3099720940  \n",
       "7        0.0500527774         1.8040677748    110.2618383191  \n",
       "8        0.0151968467         1.0142887201    153.1414421098  \n",
       "9        0.0020505780         0.2525014480     94.5317543890  "
      ]
     },
     "execution_count": 83,
     "metadata": {},
     "output_type": "execute_result"
    }
   ],
   "source": [
    "df_RTP_of_k_hits"
   ]
  }
 ],
 "metadata": {
  "kernelspec": {
   "display_name": "Python 3",
   "language": "python",
   "name": "python3"
  },
  "language_info": {
   "codemirror_mode": {
    "name": "ipython",
    "version": 3
   },
   "file_extension": ".py",
   "mimetype": "text/x-python",
   "name": "python",
   "nbconvert_exporter": "python",
   "pygments_lexer": "ipython3",
   "version": "3.8.5"
  },
  "toc": {
   "base_numbering": 1,
   "nav_menu": {},
   "number_sections": true,
   "sideBar": true,
   "skip_h1_title": false,
   "title_cell": "Table of Contents",
   "title_sidebar": "Contents",
   "toc_cell": false,
   "toc_position": {},
   "toc_section_display": true,
   "toc_window_display": false
  },
  "varInspector": {
   "cols": {
    "lenName": 16,
    "lenType": 16,
    "lenVar": 40
   },
   "kernels_config": {
    "python": {
     "delete_cmd_postfix": "",
     "delete_cmd_prefix": "del ",
     "library": "var_list.py",
     "varRefreshCmd": "print(var_dic_list())"
    },
    "r": {
     "delete_cmd_postfix": ") ",
     "delete_cmd_prefix": "rm(",
     "library": "var_list.r",
     "varRefreshCmd": "cat(var_dic_list()) "
    }
   },
   "types_to_exclude": [
    "module",
    "function",
    "builtin_function_or_method",
    "instance",
    "_Feature"
   ],
   "window_display": false
  }
 },
 "nbformat": 4,
 "nbformat_minor": 2
}
